{
 "cells": [
  {
   "cell_type": "markdown",
   "id": "0f446d8a-0ff4-4647-a8f0-c45df6389ac3",
   "metadata": {
    "jp-MarkdownHeadingCollapsed": true,
    "tags": []
   },
   "source": [
    "# Introduction\n",
    "## Overview of notebook\n",
    "This notebook will be used to gather data from reddit through an API. The two subreddits we will be gather data from are:\n",
    "1) ) [Ask Men](https://www.reddit.com/r/AskMen)\n",
    "2) ) [Ask Women](https://www.reddit.com/r/AskWomen)\n",
    "\n",
    "There were two iterations of data collection. The second iteration was done because there were significant issues found in the EDA process [Data cleaning note book](./Code/02_data_cleaning.ipynb) such as almost 70% of the threads in the data set were removed by a moderator.\n",
    "## Stats\n",
    "\n",
    "Below is the total cumulative number of post gathered from each subreddit\n",
    "\n",
    "Records count:\n",
    "\n",
    "|subreddit |iteration 1 | iteration 2| Iteration 3| Iteration 4|\n",
    "|-----|-----|------|-------|-----|\n",
    "|Ask men| 999| 998| 998 |1000|\n",
    "|Ask Women| 996|999|998|998|\n",
    "_________________________________________________________________________________\n",
    "To avoid overloading the server we will keep track of when data was pulled and at minimum wait a day.\n",
    "\n",
    "Total Date data collected:\n",
    "\n",
    "\n",
    "|Date(YYYY-MM-DD)|Records|\n",
    "|-----|-----|\n",
    "|2023-04-24|1995|\n",
    "|2023-04-30|1997|\n",
    "|2023-05-04|1996|\n",
    "|2023-05-04|1998|\n",
    "___________________________________________________________\n",
    "## Data sourcing\n",
    "For the first iteration I created separate dataframes for the first 2000~ post descending from each subreddit on April 24, 2023. The initial request pulled the data without any filter parameters aside from identifying which subreddit to pull data from. After the first request I used the UTC time stand to pull data older than the oldest post form each subreddit. This way I can have more confidence I can pull the maximum amount of data without waiting for new post to come in.\n",
    "\n",
    "With the second iteration, after conducting some EDA in the [Data cleaning note book](./Code/02_data_cleaning.ipynb) we found a significant portion of our post were removed for violating community guidelines. As a result we returned here to pull more data each subreddit. This time we created a function with the parameters:\n",
    "\n",
    "API filters:\n",
    "\n",
    "|Parameter|function|\n",
    "|-------|------|\n",
    "|Subreddit| determine which sub reddit to get data from|\n",
    "|size|The amount of post to get from the API|\n",
    "|until|the date we want to pull proceeding data from (before)|\n",
    "|min_comments|get post with a minimum number of comments this was used in place of mod_removed because most of the removed post had 2 or fewer comments|\n",
    "______________________________________________\n"
   ]
  },
  {
   "cell_type": "markdown",
   "id": "17732e92-9591-4e17-b35d-cc69ee6fcd99",
   "metadata": {},
   "source": [
    "# Data Collection"
   ]
  },
  {
   "cell_type": "markdown",
   "id": "85ba06a8-0735-4ea0-879a-318c8e6a5c7d",
   "metadata": {},
   "source": [
    "## Imports"
   ]
  },
  {
   "cell_type": "code",
   "execution_count": 1,
   "id": "7d9ec63e-db69-4bf6-a86d-bbe16b7865a4",
   "metadata": {},
   "outputs": [],
   "source": [
    "import requests\n",
    "import pandas as pd"
   ]
  },
  {
   "cell_type": "markdown",
   "id": "b5f2dacf-a20d-432c-a77c-4c8833aa29dc",
   "metadata": {
    "tags": []
   },
   "source": [
    "### Women"
   ]
  },
  {
   "cell_type": "markdown",
   "id": "39cd3818-7526-4780-a080-b2015249ed99",
   "metadata": {
    "tags": []
   },
   "source": [
    "#### Inital dataframe\n",
    "\n",
    "Due to instability of the API I wanted to created an inital dataframe and manually append new data. I was afraid of using a loop and have issues with API timeouts or getting blocked."
   ]
  },
  {
   "cell_type": "code",
   "execution_count": 3,
   "id": "ba221a2c-96c1-4199-a5e3-7008c4e1ed06",
   "metadata": {},
   "outputs": [],
   "source": [
    "#params to get the 1000 newest posts from the askwomen subreddit\n",
    "women_params={\n",
    "    'subreddit': 'askwomen',\n",
    "    'size' : 1000,\n",
    "}"
   ]
  },
  {
   "cell_type": "code",
   "execution_count": 4,
   "id": "41ed6bab-17c5-41c3-8c3a-0dbcf29820d6",
   "metadata": {},
   "outputs": [],
   "source": [
    "req_women = requests.get(url, women_params)"
   ]
  },
  {
   "cell_type": "code",
   "execution_count": 5,
   "id": "19a70160-e613-4acb-bec8-2cf9122edc47",
   "metadata": {},
   "outputs": [
    {
     "name": "stdout",
     "output_type": "stream",
     "text": [
      " women response code: <Response [200]>\n"
     ]
    }
   ],
   "source": [
    "#check to see if we established a connect\n",
    "print(f' women response code: {req_women}')"
   ]
  },
  {
   "cell_type": "code",
   "execution_count": 6,
   "id": "c65c7145-53bb-45ee-90cc-dfbdd3c92124",
   "metadata": {},
   "outputs": [
    {
     "data": {
      "text/plain": [
       "dict_keys(['data', 'error', 'metadata'])"
      ]
     },
     "execution_count": 6,
     "metadata": {},
     "output_type": "execute_result"
    }
   ],
   "source": [
    "#checked keys to see what data we need\n",
    "req_women.json().keys()"
   ]
  },
  {
   "cell_type": "code",
   "execution_count": 94,
   "id": "8fb76d35-f4d8-4510-8e51-ea30fe27883c",
   "metadata": {
    "scrolled": true,
    "tags": []
   },
   "outputs": [
    {
     "data": {
      "text/plain": [
       "dict_keys(['data', 'error', 'metadata'])"
      ]
     },
     "execution_count": 94,
     "metadata": {},
     "output_type": "execute_result"
    }
   ],
   "source": [
    "req_women.json().keys()"
   ]
  },
  {
   "cell_type": "code",
   "execution_count": 43,
   "id": "f66cba1d-d34b-4cd9-8ab7-b8b40b7ff562",
   "metadata": {},
   "outputs": [],
   "source": [
    "#manually creating a dataframe then concating new dataframes due to pushshift api issues, this is the original dataframe\n",
    "women_df=pd.DataFrame(req_women.json()['data'])"
   ]
  },
  {
   "cell_type": "code",
   "execution_count": 47,
   "id": "f9080cc9-acda-4b67-9170-667d4d533639",
   "metadata": {},
   "outputs": [
    {
     "data": {
      "text/plain": [
       "996"
      ]
     },
     "execution_count": 47,
     "metadata": {},
     "output_type": "execute_result"
    }
   ],
   "source": [
    "#check to see how many records were pulled\n",
    "len(women_df)"
   ]
  },
  {
   "cell_type": "code",
   "execution_count": 44,
   "id": "7dc52ef8-9cd3-4365-9ebd-260de75bd77a",
   "metadata": {},
   "outputs": [
    {
     "data": {
      "text/html": [
       "<div>\n",
       "<style scoped>\n",
       "    .dataframe tbody tr th:only-of-type {\n",
       "        vertical-align: middle;\n",
       "    }\n",
       "\n",
       "    .dataframe tbody tr th {\n",
       "        vertical-align: top;\n",
       "    }\n",
       "\n",
       "    .dataframe thead th {\n",
       "        text-align: right;\n",
       "    }\n",
       "</style>\n",
       "<table border=\"1\" class=\"dataframe\">\n",
       "  <thead>\n",
       "    <tr style=\"text-align: right;\">\n",
       "      <th></th>\n",
       "      <th>subreddit</th>\n",
       "      <th>selftext</th>\n",
       "      <th>author_fullname</th>\n",
       "      <th>gilded</th>\n",
       "      <th>title</th>\n",
       "      <th>link_flair_richtext</th>\n",
       "      <th>subreddit_name_prefixed</th>\n",
       "      <th>hidden</th>\n",
       "      <th>pwls</th>\n",
       "      <th>link_flair_css_class</th>\n",
       "      <th>...</th>\n",
       "      <th>created_utc</th>\n",
       "      <th>num_crossposts</th>\n",
       "      <th>media</th>\n",
       "      <th>is_video</th>\n",
       "      <th>retrieved_utc</th>\n",
       "      <th>updated_utc</th>\n",
       "      <th>utc_datetime_str</th>\n",
       "      <th>post_hint</th>\n",
       "      <th>preview</th>\n",
       "      <th>link_flair_template_id</th>\n",
       "    </tr>\n",
       "  </thead>\n",
       "  <tbody>\n",
       "    <tr>\n",
       "      <th>995</th>\n",
       "      <td>AskWomen</td>\n",
       "      <td>[removed]</td>\n",
       "      <td>t2_9pxvqwsvf</td>\n",
       "      <td>0</td>\n",
       "      <td>How I 22 f and moms man daughter 22f</td>\n",
       "      <td>[]</td>\n",
       "      <td>r/AskWomen</td>\n",
       "      <td>False</td>\n",
       "      <td>6</td>\n",
       "      <td>None</td>\n",
       "      <td>...</td>\n",
       "      <td>1682113209</td>\n",
       "      <td>0</td>\n",
       "      <td>None</td>\n",
       "      <td>False</td>\n",
       "      <td>1682113223</td>\n",
       "      <td>1682113223</td>\n",
       "      <td>2023-04-21 21:40:09</td>\n",
       "      <td>NaN</td>\n",
       "      <td>NaN</td>\n",
       "      <td>NaN</td>\n",
       "    </tr>\n",
       "    <tr>\n",
       "      <th>994</th>\n",
       "      <td>AskWomen</td>\n",
       "      <td></td>\n",
       "      <td>t2_5g35dfr5</td>\n",
       "      <td>0</td>\n",
       "      <td>What do you think about a Muslim guy as a bf?</td>\n",
       "      <td>[]</td>\n",
       "      <td>r/AskWomen</td>\n",
       "      <td>False</td>\n",
       "      <td>6</td>\n",
       "      <td>None</td>\n",
       "      <td>...</td>\n",
       "      <td>1682113436</td>\n",
       "      <td>0</td>\n",
       "      <td>None</td>\n",
       "      <td>False</td>\n",
       "      <td>1682113448</td>\n",
       "      <td>1682113448</td>\n",
       "      <td>2023-04-21 21:43:56</td>\n",
       "      <td>NaN</td>\n",
       "      <td>NaN</td>\n",
       "      <td>NaN</td>\n",
       "    </tr>\n",
       "  </tbody>\n",
       "</table>\n",
       "<p>2 rows × 89 columns</p>\n",
       "</div>"
      ],
      "text/plain": [
       "    subreddit   selftext author_fullname  gilded  \\\n",
       "995  AskWomen  [removed]    t2_9pxvqwsvf       0   \n",
       "994  AskWomen                t2_5g35dfr5       0   \n",
       "\n",
       "                                             title link_flair_richtext  \\\n",
       "995           How I 22 f and moms man daughter 22f                  []   \n",
       "994  What do you think about a Muslim guy as a bf?                  []   \n",
       "\n",
       "    subreddit_name_prefixed  hidden  pwls link_flair_css_class  ...  \\\n",
       "995              r/AskWomen   False     6                 None  ...   \n",
       "994              r/AskWomen   False     6                 None  ...   \n",
       "\n",
       "    created_utc num_crossposts  media  is_video retrieved_utc  updated_utc  \\\n",
       "995  1682113209              0   None     False    1682113223   1682113223   \n",
       "994  1682113436              0   None     False    1682113448   1682113448   \n",
       "\n",
       "        utc_datetime_str post_hint  preview link_flair_template_id  \n",
       "995  2023-04-21 21:40:09       NaN      NaN                    NaN  \n",
       "994  2023-04-21 21:43:56       NaN      NaN                    NaN  \n",
       "\n",
       "[2 rows x 89 columns]"
      ]
     },
     "execution_count": 44,
     "metadata": {},
     "output_type": "execute_result"
    }
   ],
   "source": [
    "#get the oldest post, referenced the utc_datetime_str for more readability\n",
    "women_df.sort_values('created_utc', ascending=True).head(2)"
   ]
  },
  {
   "cell_type": "markdown",
   "id": "08fc2c19-33f4-483c-9275-4b8e9235e366",
   "metadata": {
    "tags": []
   },
   "source": [
    "#### New data\n",
    "Here I simply replicated the previous code block, but added a until feature which pulls records older than the specified parameter then apended the results to the original dataframe. Ideally, This would be a function that takes in the subreddit name, size, and epoch time. Then return the dataframe which I can then use a loop to append the dataframes together."
   ]
  },
  {
   "cell_type": "code",
   "execution_count": 52,
   "id": "d75df550-5ecc-442f-9bd5-a10e38623324",
   "metadata": {},
   "outputs": [],
   "source": [
    "#creating a new parameters for the datafarme were appending\n",
    "new_women_params={\n",
    "    'subreddit': 'askwomen',\n",
    "    'size' : 1000,\n",
    "    'until' : 1682113209 #oldset post from the women data frame-- 'women_df'\n",
    "}"
   ]
  },
  {
   "cell_type": "code",
   "execution_count": 53,
   "id": "74222a95-4dca-4a45-9f02-5ca7a744469b",
   "metadata": {},
   "outputs": [],
   "source": [
    "new_women_req = requests.get(url, new_women_params)"
   ]
  },
  {
   "cell_type": "code",
   "execution_count": 54,
   "id": "129075a3-3f56-48b9-9ae1-0a507ff20c00",
   "metadata": {},
   "outputs": [],
   "source": [
    "new_women = pd.DataFrame(new_women_req.json()['data'])"
   ]
  },
  {
   "cell_type": "code",
   "execution_count": 55,
   "id": "ea5032d7-15a9-43ec-b5a1-f664479b3f12",
   "metadata": {},
   "outputs": [
    {
     "name": "stdout",
     "output_type": "stream",
     "text": [
      "999 996\n"
     ]
    }
   ],
   "source": [
    "#comparing the size of the two dataframes\n",
    "print(len(new_women), len(women_df))"
   ]
  },
  {
   "cell_type": "code",
   "execution_count": 56,
   "id": "ed0ea883-7f4d-4fca-92c0-f05db59b0c69",
   "metadata": {},
   "outputs": [
    {
     "data": {
      "text/html": [
       "<div>\n",
       "<style scoped>\n",
       "    .dataframe tbody tr th:only-of-type {\n",
       "        vertical-align: middle;\n",
       "    }\n",
       "\n",
       "    .dataframe tbody tr th {\n",
       "        vertical-align: top;\n",
       "    }\n",
       "\n",
       "    .dataframe thead th {\n",
       "        text-align: right;\n",
       "    }\n",
       "</style>\n",
       "<table border=\"1\" class=\"dataframe\">\n",
       "  <thead>\n",
       "    <tr style=\"text-align: right;\">\n",
       "      <th></th>\n",
       "      <th>subreddit</th>\n",
       "      <th>selftext</th>\n",
       "      <th>author_fullname</th>\n",
       "      <th>gilded</th>\n",
       "      <th>title</th>\n",
       "      <th>link_flair_richtext</th>\n",
       "      <th>subreddit_name_prefixed</th>\n",
       "      <th>hidden</th>\n",
       "      <th>pwls</th>\n",
       "      <th>link_flair_css_class</th>\n",
       "      <th>...</th>\n",
       "      <th>num_crossposts</th>\n",
       "      <th>media</th>\n",
       "      <th>is_video</th>\n",
       "      <th>retrieved_utc</th>\n",
       "      <th>updated_utc</th>\n",
       "      <th>utc_datetime_str</th>\n",
       "      <th>post_hint</th>\n",
       "      <th>preview</th>\n",
       "      <th>link_flair_template_id</th>\n",
       "      <th>author_cakeday</th>\n",
       "    </tr>\n",
       "  </thead>\n",
       "  <tbody>\n",
       "    <tr>\n",
       "      <th>0</th>\n",
       "      <td>AskWomen</td>\n",
       "      <td>[removed]</td>\n",
       "      <td>t2_7eati</td>\n",
       "      <td>0</td>\n",
       "      <td>Women who bartend, when is it okay to ask for ...</td>\n",
       "      <td>[]</td>\n",
       "      <td>r/AskWomen</td>\n",
       "      <td>False</td>\n",
       "      <td>6</td>\n",
       "      <td>None</td>\n",
       "      <td>...</td>\n",
       "      <td>0</td>\n",
       "      <td>None</td>\n",
       "      <td>False</td>\n",
       "      <td>1682112804</td>\n",
       "      <td>1682112805</td>\n",
       "      <td>2023-04-21 21:33:10</td>\n",
       "      <td>NaN</td>\n",
       "      <td>NaN</td>\n",
       "      <td>NaN</td>\n",
       "      <td>NaN</td>\n",
       "    </tr>\n",
       "    <tr>\n",
       "      <th>1</th>\n",
       "      <td>AskWomen</td>\n",
       "      <td></td>\n",
       "      <td>t2_vkwn0tcr</td>\n",
       "      <td>0</td>\n",
       "      <td>What job/career would you have if your mental ...</td>\n",
       "      <td>[]</td>\n",
       "      <td>r/AskWomen</td>\n",
       "      <td>False</td>\n",
       "      <td>6</td>\n",
       "      <td>None</td>\n",
       "      <td>...</td>\n",
       "      <td>0</td>\n",
       "      <td>None</td>\n",
       "      <td>False</td>\n",
       "      <td>1682112727</td>\n",
       "      <td>1682112728</td>\n",
       "      <td>2023-04-21 21:31:53</td>\n",
       "      <td>NaN</td>\n",
       "      <td>NaN</td>\n",
       "      <td>NaN</td>\n",
       "      <td>NaN</td>\n",
       "    </tr>\n",
       "    <tr>\n",
       "      <th>2</th>\n",
       "      <td>AskWomen</td>\n",
       "      <td>[removed]</td>\n",
       "      <td>t2_7f7gnzky</td>\n",
       "      <td>0</td>\n",
       "      <td>My partner of five years broke up with me unex...</td>\n",
       "      <td>[]</td>\n",
       "      <td>r/AskWomen</td>\n",
       "      <td>False</td>\n",
       "      <td>6</td>\n",
       "      <td>None</td>\n",
       "      <td>...</td>\n",
       "      <td>0</td>\n",
       "      <td>None</td>\n",
       "      <td>False</td>\n",
       "      <td>1682112224</td>\n",
       "      <td>1682112224</td>\n",
       "      <td>2023-04-21 21:23:33</td>\n",
       "      <td>NaN</td>\n",
       "      <td>NaN</td>\n",
       "      <td>NaN</td>\n",
       "      <td>NaN</td>\n",
       "    </tr>\n",
       "  </tbody>\n",
       "</table>\n",
       "<p>3 rows × 90 columns</p>\n",
       "</div>"
      ],
      "text/plain": [
       "  subreddit   selftext author_fullname  gilded  \\\n",
       "0  AskWomen  [removed]        t2_7eati       0   \n",
       "1  AskWomen                t2_vkwn0tcr       0   \n",
       "2  AskWomen  [removed]     t2_7f7gnzky       0   \n",
       "\n",
       "                                               title link_flair_richtext  \\\n",
       "0  Women who bartend, when is it okay to ask for ...                  []   \n",
       "1  What job/career would you have if your mental ...                  []   \n",
       "2  My partner of five years broke up with me unex...                  []   \n",
       "\n",
       "  subreddit_name_prefixed  hidden  pwls link_flair_css_class  ...  \\\n",
       "0              r/AskWomen   False     6                 None  ...   \n",
       "1              r/AskWomen   False     6                 None  ...   \n",
       "2              r/AskWomen   False     6                 None  ...   \n",
       "\n",
       "  num_crossposts media  is_video  retrieved_utc updated_utc  \\\n",
       "0              0  None     False     1682112804  1682112805   \n",
       "1              0  None     False     1682112727  1682112728   \n",
       "2              0  None     False     1682112224  1682112224   \n",
       "\n",
       "      utc_datetime_str post_hint preview  link_flair_template_id  \\\n",
       "0  2023-04-21 21:33:10       NaN     NaN                     NaN   \n",
       "1  2023-04-21 21:31:53       NaN     NaN                     NaN   \n",
       "2  2023-04-21 21:23:33       NaN     NaN                     NaN   \n",
       "\n",
       "  author_cakeday  \n",
       "0            NaN  \n",
       "1            NaN  \n",
       "2            NaN  \n",
       "\n",
       "[3 rows x 90 columns]"
      ]
     },
     "execution_count": 56,
     "metadata": {},
     "output_type": "execute_result"
    }
   ],
   "source": [
    "new_women.head(3)"
   ]
  },
  {
   "cell_type": "code",
   "execution_count": 57,
   "id": "20bd2c0a-c3b9-4b24-9e99-b5faa8992ffe",
   "metadata": {},
   "outputs": [],
   "source": [
    "#combine the original women data frame with the new datafame\n",
    "women_df = pd.concat([women_df, new_women])"
   ]
  },
  {
   "cell_type": "code",
   "execution_count": 87,
   "id": "b0e84d98-5f33-4931-8a30-f0ef8b8e6e27",
   "metadata": {
    "scrolled": true,
    "tags": []
   },
   "outputs": [
    {
     "name": "stdout",
     "output_type": "stream",
     "text": [
      "<class 'pandas.core.frame.DataFrame'>\n",
      "Int64Index: 1995 entries, 0 to 998\n",
      "Data columns (total 90 columns):\n",
      " #   Column                         Non-Null Count  Dtype  \n",
      "---  ------                         --------------  -----  \n",
      " 0   subreddit                      1995 non-null   object \n",
      " 1   selftext                       1995 non-null   object \n",
      " 2   author_fullname                1968 non-null   object \n",
      " 3   gilded                         1995 non-null   int64  \n",
      " 4   title                          1995 non-null   object \n",
      " 5   link_flair_richtext            1995 non-null   object \n",
      " 6   subreddit_name_prefixed        1995 non-null   object \n",
      " 7   hidden                         1995 non-null   bool   \n",
      " 8   pwls                           1995 non-null   int64  \n",
      " 9   link_flair_css_class           4 non-null      object \n",
      " 10  thumbnail_height               0 non-null      object \n",
      " 11  top_awarded_type               0 non-null      object \n",
      " 12  hide_score                     1995 non-null   bool   \n",
      " 13  quarantine                     1995 non-null   bool   \n",
      " 14  link_flair_text_color          1995 non-null   object \n",
      " 15  upvote_ratio                   1995 non-null   float64\n",
      " 16  author_flair_background_color  30 non-null     object \n",
      " 17  subreddit_type                 1995 non-null   object \n",
      " 18  total_awards_received          1995 non-null   int64  \n",
      " 19  media_embed                    1995 non-null   object \n",
      " 20  thumbnail_width                0 non-null      object \n",
      " 21  author_flair_template_id       37 non-null     object \n",
      " 22  is_original_content            1995 non-null   bool   \n",
      " 23  secure_media                   0 non-null      object \n",
      " 24  is_reddit_media_domain         1995 non-null   bool   \n",
      " 25  is_meta                        1995 non-null   bool   \n",
      " 26  category                       0 non-null      object \n",
      " 27  secure_media_embed             1995 non-null   object \n",
      " 28  link_flair_text                4 non-null      object \n",
      " 29  score                          1995 non-null   int64  \n",
      " 30  is_created_from_ads_ui         1995 non-null   bool   \n",
      " 31  author_premium                 1968 non-null   object \n",
      " 32  thumbnail                      1995 non-null   object \n",
      " 33  edited                         1995 non-null   bool   \n",
      " 34  author_flair_css_class         40 non-null     object \n",
      " 35  author_flair_richtext          1968 non-null   object \n",
      " 36  gildings                       1995 non-null   object \n",
      " 37  content_categories             0 non-null      object \n",
      " 38  is_self                        1995 non-null   bool   \n",
      " 39  link_flair_type                1995 non-null   object \n",
      " 40  wls                            1995 non-null   int64  \n",
      " 41  removed_by_category            1632 non-null   object \n",
      " 42  author_flair_type              1968 non-null   object \n",
      " 43  domain                         1995 non-null   object \n",
      " 44  allow_live_comments            1995 non-null   bool   \n",
      " 45  suggested_sort                 1995 non-null   object \n",
      " 46  view_count                     0 non-null      object \n",
      " 47  archived                       1995 non-null   bool   \n",
      " 48  no_follow                      1995 non-null   bool   \n",
      " 49  is_crosspostable               1995 non-null   bool   \n",
      " 50  pinned                         1995 non-null   bool   \n",
      " 51  over_18                        1995 non-null   bool   \n",
      " 52  all_awardings                  1995 non-null   object \n",
      " 53  awarders                       1995 non-null   object \n",
      " 54  media_only                     1995 non-null   bool   \n",
      " 55  can_gild                       1995 non-null   bool   \n",
      " 56  spoiler                        1995 non-null   bool   \n",
      " 57  locked                         1995 non-null   bool   \n",
      " 58  author_flair_text              40 non-null     object \n",
      " 59  treatment_tags                 1995 non-null   object \n",
      " 60  removed_by                     0 non-null      object \n",
      " 61  distinguished                  0 non-null      object \n",
      " 62  subreddit_id                   1995 non-null   object \n",
      " 63  link_flair_background_color    1995 non-null   object \n",
      " 64  id                             1995 non-null   object \n",
      " 65  is_robot_indexable             1995 non-null   bool   \n",
      " 66  author                         1995 non-null   object \n",
      " 67  discussion_type                0 non-null      object \n",
      " 68  num_comments                   1995 non-null   int64  \n",
      " 69  send_replies                   1995 non-null   bool   \n",
      " 70  whitelist_status               1995 non-null   object \n",
      " 71  contest_mode                   1995 non-null   bool   \n",
      " 72  author_patreon_flair           1968 non-null   object \n",
      " 73  author_flair_text_color        67 non-null     object \n",
      " 74  permalink                      1995 non-null   object \n",
      " 75  parent_whitelist_status        1995 non-null   object \n",
      " 76  stickied                       1995 non-null   bool   \n",
      " 77  url                            1995 non-null   object \n",
      " 78  subreddit_subscribers          1995 non-null   int64  \n",
      " 79  created_utc                    1995 non-null   int64  \n",
      " 80  num_crossposts                 1995 non-null   int64  \n",
      " 81  media                          0 non-null      object \n",
      " 82  is_video                       1995 non-null   bool   \n",
      " 83  retrieved_utc                  1995 non-null   int64  \n",
      " 84  updated_utc                    1995 non-null   int64  \n",
      " 85  utc_datetime_str               1995 non-null   object \n",
      " 86  post_hint                      17 non-null     object \n",
      " 87  preview                        17 non-null     object \n",
      " 88  link_flair_template_id         4 non-null      object \n",
      " 89  author_cakeday                 3 non-null      object \n",
      "dtypes: bool(24), float64(1), int64(11), object(54)\n",
      "memory usage: 1.1+ MB\n"
     ]
    }
   ],
   "source": [
    "#see total rows, missing values, and an overview of the dataframe\n",
    "women_df.info()"
   ]
  },
  {
   "cell_type": "code",
   "execution_count": 60,
   "id": "fe501972-6611-4908-9398-a62d9c187488",
   "metadata": {},
   "outputs": [],
   "source": [
    "women_df.to_csv('../Data/women.csv', index=False)"
   ]
  },
  {
   "cell_type": "markdown",
   "id": "b2d7771f-f2b7-4497-a37e-f95e9dd70035",
   "metadata": {
    "tags": []
   },
   "source": [
    "### Men"
   ]
  },
  {
   "cell_type": "markdown",
   "id": "fc1184fd-f59d-4aa1-899c-6a2a593c150b",
   "metadata": {
    "tags": []
   },
   "source": [
    "#### Inital datafame\n",
    "Due to instability of the API I wanted to created an inital dataframe and manually append new data. I was afraid of using a loop and have issues with API timeouts or getting blocked."
   ]
  },
  {
   "cell_type": "code",
   "execution_count": 61,
   "id": "1b0a7b79-cc5e-4466-9269-2e8018fff78f",
   "metadata": {},
   "outputs": [],
   "source": [
    "#params to get the 1000 newest posts from the askmen subreddit\n",
    "men_params={\n",
    "    'subreddit': 'askmen',\n",
    "    'size' : 1000\n",
    "}"
   ]
  },
  {
   "cell_type": "code",
   "execution_count": 62,
   "id": "a6304bcf-d4c6-434a-b76b-dba4ec270763",
   "metadata": {},
   "outputs": [],
   "source": [
    "req_men = requests.get(url, men_params)"
   ]
  },
  {
   "cell_type": "code",
   "execution_count": 63,
   "id": "770b8e0d-e115-446a-a0cd-9bf73b30caed",
   "metadata": {},
   "outputs": [
    {
     "name": "stdout",
     "output_type": "stream",
     "text": [
      " men response code: <Response [200]>\n"
     ]
    }
   ],
   "source": [
    "print(f' men response code: {req_men}')"
   ]
  },
  {
   "cell_type": "code",
   "execution_count": 64,
   "id": "feb9feab-5cc8-4757-b75c-80b89a1d5e59",
   "metadata": {},
   "outputs": [],
   "source": [
    "#manually creating a dataframe then concating new dataframes due to pushshift api issues, this is the original dataframe\n",
    "men_df=pd.DataFrame(req_men.json()['data'])"
   ]
  },
  {
   "cell_type": "code",
   "execution_count": 65,
   "id": "67c9550b-5c8a-40b1-9409-9d91a8e45731",
   "metadata": {},
   "outputs": [
    {
     "data": {
      "text/plain": [
       "999"
      ]
     },
     "execution_count": 65,
     "metadata": {},
     "output_type": "execute_result"
    }
   ],
   "source": [
    "#check to see how many records were pulled\n",
    "len(men_df)"
   ]
  },
  {
   "cell_type": "code",
   "execution_count": 68,
   "id": "3b60e1fa-a307-4657-ac57-f36256f5b5bb",
   "metadata": {},
   "outputs": [
    {
     "data": {
      "text/html": [
       "<div>\n",
       "<style scoped>\n",
       "    .dataframe tbody tr th:only-of-type {\n",
       "        vertical-align: middle;\n",
       "    }\n",
       "\n",
       "    .dataframe tbody tr th {\n",
       "        vertical-align: top;\n",
       "    }\n",
       "\n",
       "    .dataframe thead th {\n",
       "        text-align: right;\n",
       "    }\n",
       "</style>\n",
       "<table border=\"1\" class=\"dataframe\">\n",
       "  <thead>\n",
       "    <tr style=\"text-align: right;\">\n",
       "      <th></th>\n",
       "      <th>subreddit</th>\n",
       "      <th>selftext</th>\n",
       "      <th>author_fullname</th>\n",
       "      <th>gilded</th>\n",
       "      <th>title</th>\n",
       "      <th>link_flair_richtext</th>\n",
       "      <th>subreddit_name_prefixed</th>\n",
       "      <th>hidden</th>\n",
       "      <th>pwls</th>\n",
       "      <th>link_flair_css_class</th>\n",
       "      <th>...</th>\n",
       "      <th>created_utc</th>\n",
       "      <th>num_crossposts</th>\n",
       "      <th>media</th>\n",
       "      <th>is_video</th>\n",
       "      <th>retrieved_utc</th>\n",
       "      <th>updated_utc</th>\n",
       "      <th>utc_datetime_str</th>\n",
       "      <th>post_hint</th>\n",
       "      <th>preview</th>\n",
       "      <th>author_cakeday</th>\n",
       "    </tr>\n",
       "  </thead>\n",
       "  <tbody>\n",
       "    <tr>\n",
       "      <th>998</th>\n",
       "      <td>AskMen</td>\n",
       "      <td></td>\n",
       "      <td>t2_969ax2xq8</td>\n",
       "      <td>0</td>\n",
       "      <td>Thoughts on Bollywood movies and why?</td>\n",
       "      <td>[]</td>\n",
       "      <td>r/AskMen</td>\n",
       "      <td>False</td>\n",
       "      <td>6</td>\n",
       "      <td>None</td>\n",
       "      <td>...</td>\n",
       "      <td>1682195470</td>\n",
       "      <td>0</td>\n",
       "      <td>None</td>\n",
       "      <td>False</td>\n",
       "      <td>1682195488</td>\n",
       "      <td>1682195488</td>\n",
       "      <td>2023-04-22 20:31:10</td>\n",
       "      <td>NaN</td>\n",
       "      <td>NaN</td>\n",
       "      <td>NaN</td>\n",
       "    </tr>\n",
       "    <tr>\n",
       "      <th>997</th>\n",
       "      <td>AskMen</td>\n",
       "      <td></td>\n",
       "      <td>t2_mjo8y3q1</td>\n",
       "      <td>0</td>\n",
       "      <td>Do some guys not like kissing during sex ?</td>\n",
       "      <td>[]</td>\n",
       "      <td>r/AskMen</td>\n",
       "      <td>False</td>\n",
       "      <td>6</td>\n",
       "      <td>None</td>\n",
       "      <td>...</td>\n",
       "      <td>1682195591</td>\n",
       "      <td>0</td>\n",
       "      <td>None</td>\n",
       "      <td>False</td>\n",
       "      <td>1682195604</td>\n",
       "      <td>1682195605</td>\n",
       "      <td>2023-04-22 20:33:11</td>\n",
       "      <td>NaN</td>\n",
       "      <td>NaN</td>\n",
       "      <td>NaN</td>\n",
       "    </tr>\n",
       "    <tr>\n",
       "      <th>996</th>\n",
       "      <td>AskMen</td>\n",
       "      <td></td>\n",
       "      <td>t2_8ywwtdo2p</td>\n",
       "      <td>0</td>\n",
       "      <td>my girlfriend &amp;amp; I just broke up, suspectin...</td>\n",
       "      <td>[]</td>\n",
       "      <td>r/AskMen</td>\n",
       "      <td>False</td>\n",
       "      <td>6</td>\n",
       "      <td>None</td>\n",
       "      <td>...</td>\n",
       "      <td>1682195624</td>\n",
       "      <td>0</td>\n",
       "      <td>None</td>\n",
       "      <td>False</td>\n",
       "      <td>1682195636</td>\n",
       "      <td>1682195636</td>\n",
       "      <td>2023-04-22 20:33:44</td>\n",
       "      <td>NaN</td>\n",
       "      <td>NaN</td>\n",
       "      <td>NaN</td>\n",
       "    </tr>\n",
       "  </tbody>\n",
       "</table>\n",
       "<p>3 rows × 89 columns</p>\n",
       "</div>"
      ],
      "text/plain": [
       "    subreddit selftext author_fullname  gilded  \\\n",
       "998    AskMen             t2_969ax2xq8       0   \n",
       "997    AskMen              t2_mjo8y3q1       0   \n",
       "996    AskMen             t2_8ywwtdo2p       0   \n",
       "\n",
       "                                                 title link_flair_richtext  \\\n",
       "998              Thoughts on Bollywood movies and why?                  []   \n",
       "997         Do some guys not like kissing during sex ?                  []   \n",
       "996  my girlfriend &amp; I just broke up, suspectin...                  []   \n",
       "\n",
       "    subreddit_name_prefixed  hidden  pwls link_flair_css_class  ...  \\\n",
       "998                r/AskMen   False     6                 None  ...   \n",
       "997                r/AskMen   False     6                 None  ...   \n",
       "996                r/AskMen   False     6                 None  ...   \n",
       "\n",
       "    created_utc num_crossposts  media  is_video retrieved_utc  updated_utc  \\\n",
       "998  1682195470              0   None     False    1682195488   1682195488   \n",
       "997  1682195591              0   None     False    1682195604   1682195605   \n",
       "996  1682195624              0   None     False    1682195636   1682195636   \n",
       "\n",
       "        utc_datetime_str post_hint  preview author_cakeday  \n",
       "998  2023-04-22 20:31:10       NaN      NaN            NaN  \n",
       "997  2023-04-22 20:33:11       NaN      NaN            NaN  \n",
       "996  2023-04-22 20:33:44       NaN      NaN            NaN  \n",
       "\n",
       "[3 rows x 89 columns]"
      ]
     },
     "execution_count": 68,
     "metadata": {},
     "output_type": "execute_result"
    }
   ],
   "source": [
    "men_df.sort_values('created_utc', ascending=True).head(3)"
   ]
  },
  {
   "cell_type": "markdown",
   "id": "7e64c3ca-a886-4f13-ab15-f5b79c4a2ce5",
   "metadata": {
    "tags": []
   },
   "source": [
    "#### New data\n",
    "Here I simply replicated the previous code block, but added a until feature which pulls records older than the specified parameter then apended the results to the original dataframe. Ideally, This would be a function that takes in the subreddit name, size, and epoch time. Then return the dataframe which I can then use a loop to append the dataframes together."
   ]
  },
  {
   "cell_type": "code",
   "execution_count": 69,
   "id": "532ab783-6b99-429d-ac2d-5152d5384852",
   "metadata": {},
   "outputs": [],
   "source": [
    "new_men_params={\n",
    "    'subreddit': 'askmen',\n",
    "    'size' : 1000,\n",
    "    'until' : 1682195470\n",
    "}"
   ]
  },
  {
   "cell_type": "code",
   "execution_count": 70,
   "id": "045e1787-32c1-45d5-8197-19153c3d9fa6",
   "metadata": {},
   "outputs": [],
   "source": [
    "new_men_req = requests.get(url, new_men_params)"
   ]
  },
  {
   "cell_type": "code",
   "execution_count": 71,
   "id": "00fb2040-8873-42b2-920d-e7d6016e5f9e",
   "metadata": {},
   "outputs": [],
   "source": [
    "new_men = pd.DataFrame(new_men_req.json()['data'])"
   ]
  },
  {
   "cell_type": "code",
   "execution_count": 72,
   "id": "a5c0432b-ad00-44fb-9380-ec3045e80c68",
   "metadata": {},
   "outputs": [
    {
     "name": "stdout",
     "output_type": "stream",
     "text": [
      "998 999\n"
     ]
    }
   ],
   "source": [
    "print(len(new_men), len(men_df))"
   ]
  },
  {
   "cell_type": "code",
   "execution_count": 73,
   "id": "1ccdfc74-13f0-4416-b641-b413c0b61778",
   "metadata": {},
   "outputs": [
    {
     "data": {
      "text/html": [
       "<div>\n",
       "<style scoped>\n",
       "    .dataframe tbody tr th:only-of-type {\n",
       "        vertical-align: middle;\n",
       "    }\n",
       "\n",
       "    .dataframe tbody tr th {\n",
       "        vertical-align: top;\n",
       "    }\n",
       "\n",
       "    .dataframe thead th {\n",
       "        text-align: right;\n",
       "    }\n",
       "</style>\n",
       "<table border=\"1\" class=\"dataframe\">\n",
       "  <thead>\n",
       "    <tr style=\"text-align: right;\">\n",
       "      <th></th>\n",
       "      <th>subreddit</th>\n",
       "      <th>selftext</th>\n",
       "      <th>author_fullname</th>\n",
       "      <th>gilded</th>\n",
       "      <th>title</th>\n",
       "      <th>link_flair_richtext</th>\n",
       "      <th>subreddit_name_prefixed</th>\n",
       "      <th>hidden</th>\n",
       "      <th>pwls</th>\n",
       "      <th>link_flair_css_class</th>\n",
       "      <th>...</th>\n",
       "      <th>created_utc</th>\n",
       "      <th>num_crossposts</th>\n",
       "      <th>media</th>\n",
       "      <th>is_video</th>\n",
       "      <th>retrieved_utc</th>\n",
       "      <th>updated_utc</th>\n",
       "      <th>utc_datetime_str</th>\n",
       "      <th>post_hint</th>\n",
       "      <th>preview</th>\n",
       "      <th>author_cakeday</th>\n",
       "    </tr>\n",
       "  </thead>\n",
       "  <tbody>\n",
       "    <tr>\n",
       "      <th>0</th>\n",
       "      <td>AskMen</td>\n",
       "      <td>[removed]</td>\n",
       "      <td>t2_wa2icro</td>\n",
       "      <td>0</td>\n",
       "      <td>Do men care about very muscular women?</td>\n",
       "      <td>[]</td>\n",
       "      <td>r/AskMen</td>\n",
       "      <td>False</td>\n",
       "      <td>6</td>\n",
       "      <td>None</td>\n",
       "      <td>...</td>\n",
       "      <td>1682195369</td>\n",
       "      <td>0</td>\n",
       "      <td>None</td>\n",
       "      <td>False</td>\n",
       "      <td>1682195385</td>\n",
       "      <td>1682195386</td>\n",
       "      <td>2023-04-22 20:29:29</td>\n",
       "      <td>NaN</td>\n",
       "      <td>NaN</td>\n",
       "      <td>NaN</td>\n",
       "    </tr>\n",
       "    <tr>\n",
       "      <th>1</th>\n",
       "      <td>AskMen</td>\n",
       "      <td>[removed]</td>\n",
       "      <td>t2_7jcvcqwk</td>\n",
       "      <td>0</td>\n",
       "      <td>My(23M) gf’s(26F) dad was diagnosed with cance...</td>\n",
       "      <td>[]</td>\n",
       "      <td>r/AskMen</td>\n",
       "      <td>False</td>\n",
       "      <td>6</td>\n",
       "      <td>None</td>\n",
       "      <td>...</td>\n",
       "      <td>1682194947</td>\n",
       "      <td>0</td>\n",
       "      <td>None</td>\n",
       "      <td>False</td>\n",
       "      <td>1682194962</td>\n",
       "      <td>1682194963</td>\n",
       "      <td>2023-04-22 20:22:27</td>\n",
       "      <td>NaN</td>\n",
       "      <td>NaN</td>\n",
       "      <td>NaN</td>\n",
       "    </tr>\n",
       "    <tr>\n",
       "      <th>2</th>\n",
       "      <td>AskMen</td>\n",
       "      <td>[removed]</td>\n",
       "      <td>t2_wa2icro</td>\n",
       "      <td>0</td>\n",
       "      <td>Do men care about women having muscles?</td>\n",
       "      <td>[]</td>\n",
       "      <td>r/AskMen</td>\n",
       "      <td>False</td>\n",
       "      <td>6</td>\n",
       "      <td>None</td>\n",
       "      <td>...</td>\n",
       "      <td>1682194901</td>\n",
       "      <td>0</td>\n",
       "      <td>None</td>\n",
       "      <td>False</td>\n",
       "      <td>1682194920</td>\n",
       "      <td>1682194921</td>\n",
       "      <td>2023-04-22 20:21:41</td>\n",
       "      <td>NaN</td>\n",
       "      <td>NaN</td>\n",
       "      <td>NaN</td>\n",
       "    </tr>\n",
       "  </tbody>\n",
       "</table>\n",
       "<p>3 rows × 89 columns</p>\n",
       "</div>"
      ],
      "text/plain": [
       "  subreddit   selftext author_fullname  gilded  \\\n",
       "0    AskMen  [removed]      t2_wa2icro       0   \n",
       "1    AskMen  [removed]     t2_7jcvcqwk       0   \n",
       "2    AskMen  [removed]      t2_wa2icro       0   \n",
       "\n",
       "                                               title link_flair_richtext  \\\n",
       "0             Do men care about very muscular women?                  []   \n",
       "1  My(23M) gf’s(26F) dad was diagnosed with cance...                  []   \n",
       "2            Do men care about women having muscles?                  []   \n",
       "\n",
       "  subreddit_name_prefixed  hidden  pwls link_flair_css_class  ... created_utc  \\\n",
       "0                r/AskMen   False     6                 None  ...  1682195369   \n",
       "1                r/AskMen   False     6                 None  ...  1682194947   \n",
       "2                r/AskMen   False     6                 None  ...  1682194901   \n",
       "\n",
       "  num_crossposts  media  is_video retrieved_utc  updated_utc  \\\n",
       "0              0   None     False    1682195385   1682195386   \n",
       "1              0   None     False    1682194962   1682194963   \n",
       "2              0   None     False    1682194920   1682194921   \n",
       "\n",
       "      utc_datetime_str post_hint  preview author_cakeday  \n",
       "0  2023-04-22 20:29:29       NaN      NaN            NaN  \n",
       "1  2023-04-22 20:22:27       NaN      NaN            NaN  \n",
       "2  2023-04-22 20:21:41       NaN      NaN            NaN  \n",
       "\n",
       "[3 rows x 89 columns]"
      ]
     },
     "execution_count": 73,
     "metadata": {},
     "output_type": "execute_result"
    }
   ],
   "source": [
    "#check the first few rows of men\n",
    "new_men.head(3)"
   ]
  },
  {
   "cell_type": "code",
   "execution_count": 74,
   "id": "996b3d13-5be9-44b7-bd02-ba9c6c66c57b",
   "metadata": {},
   "outputs": [],
   "source": [
    "men_df = pd.concat([men_df,new_men])"
   ]
  },
  {
   "cell_type": "code",
   "execution_count": 86,
   "id": "3b791885-e8af-4b4e-9102-36cbe21492f4",
   "metadata": {
    "scrolled": true,
    "tags": []
   },
   "outputs": [
    {
     "name": "stdout",
     "output_type": "stream",
     "text": [
      "<class 'pandas.core.frame.DataFrame'>\n",
      "Int64Index: 1997 entries, 0 to 997\n",
      "Data columns (total 89 columns):\n",
      " #   Column                         Non-Null Count  Dtype  \n",
      "---  ------                         --------------  -----  \n",
      " 0   subreddit                      1997 non-null   object \n",
      " 1   selftext                       1997 non-null   object \n",
      " 2   author_fullname                1946 non-null   object \n",
      " 3   gilded                         1997 non-null   int64  \n",
      " 4   title                          1997 non-null   object \n",
      " 5   link_flair_richtext            1997 non-null   object \n",
      " 6   subreddit_name_prefixed        1997 non-null   object \n",
      " 7   hidden                         1997 non-null   bool   \n",
      " 8   pwls                           1997 non-null   int64  \n",
      " 9   link_flair_css_class           0 non-null      object \n",
      " 10  thumbnail_height               0 non-null      object \n",
      " 11  top_awarded_type               0 non-null      object \n",
      " 12  hide_score                     1997 non-null   bool   \n",
      " 13  quarantine                     1997 non-null   bool   \n",
      " 14  link_flair_text_color          1997 non-null   object \n",
      " 15  upvote_ratio                   1997 non-null   float64\n",
      " 16  author_flair_background_color  103 non-null    object \n",
      " 17  subreddit_type                 1997 non-null   object \n",
      " 18  total_awards_received          1997 non-null   int64  \n",
      " 19  media_embed                    1997 non-null   object \n",
      " 20  thumbnail_width                0 non-null      object \n",
      " 21  author_flair_template_id       51 non-null     object \n",
      " 22  is_original_content            1997 non-null   bool   \n",
      " 23  secure_media                   0 non-null      object \n",
      " 24  is_reddit_media_domain         1997 non-null   bool   \n",
      " 25  is_meta                        1997 non-null   bool   \n",
      " 26  category                       0 non-null      object \n",
      " 27  secure_media_embed             1997 non-null   object \n",
      " 28  link_flair_text                0 non-null      object \n",
      " 29  score                          1997 non-null   int64  \n",
      " 30  is_created_from_ads_ui         1997 non-null   bool   \n",
      " 31  author_premium                 1946 non-null   object \n",
      " 32  thumbnail                      1997 non-null   object \n",
      " 33  edited                         1997 non-null   bool   \n",
      " 34  author_flair_css_class         52 non-null     object \n",
      " 35  author_flair_richtext          1946 non-null   object \n",
      " 36  gildings                       1997 non-null   object \n",
      " 37  content_categories             0 non-null      object \n",
      " 38  is_self                        1997 non-null   bool   \n",
      " 39  link_flair_type                1997 non-null   object \n",
      " 40  wls                            1997 non-null   int64  \n",
      " 41  removed_by_category            1352 non-null   object \n",
      " 42  author_flair_type              1946 non-null   object \n",
      " 43  domain                         1997 non-null   object \n",
      " 44  allow_live_comments            1997 non-null   bool   \n",
      " 45  suggested_sort                 0 non-null      object \n",
      " 46  view_count                     0 non-null      object \n",
      " 47  archived                       1997 non-null   bool   \n",
      " 48  no_follow                      1997 non-null   bool   \n",
      " 49  is_crosspostable               1997 non-null   bool   \n",
      " 50  pinned                         1997 non-null   bool   \n",
      " 51  over_18                        1997 non-null   bool   \n",
      " 52  all_awardings                  1997 non-null   object \n",
      " 53  awarders                       1997 non-null   object \n",
      " 54  media_only                     1997 non-null   bool   \n",
      " 55  can_gild                       1997 non-null   bool   \n",
      " 56  spoiler                        1997 non-null   bool   \n",
      " 57  locked                         1997 non-null   bool   \n",
      " 58  author_flair_text              54 non-null     object \n",
      " 59  treatment_tags                 1997 non-null   object \n",
      " 60  removed_by                     0 non-null      object \n",
      " 61  distinguished                  0 non-null      object \n",
      " 62  subreddit_id                   1997 non-null   object \n",
      " 63  link_flair_background_color    1997 non-null   object \n",
      " 64  id                             1997 non-null   object \n",
      " 65  is_robot_indexable             1997 non-null   bool   \n",
      " 66  author                         1997 non-null   object \n",
      " 67  discussion_type                0 non-null      object \n",
      " 68  num_comments                   1997 non-null   int64  \n",
      " 69  send_replies                   1997 non-null   bool   \n",
      " 70  whitelist_status               1997 non-null   object \n",
      " 71  contest_mode                   1997 non-null   bool   \n",
      " 72  author_patreon_flair           1946 non-null   object \n",
      " 73  author_flair_text_color        105 non-null    object \n",
      " 74  permalink                      1997 non-null   object \n",
      " 75  parent_whitelist_status        1997 non-null   object \n",
      " 76  stickied                       1997 non-null   bool   \n",
      " 77  url                            1997 non-null   object \n",
      " 78  subreddit_subscribers          1997 non-null   int64  \n",
      " 79  created_utc                    1997 non-null   int64  \n",
      " 80  num_crossposts                 1997 non-null   int64  \n",
      " 81  media                          0 non-null      object \n",
      " 82  is_video                       1997 non-null   bool   \n",
      " 83  retrieved_utc                  1997 non-null   int64  \n",
      " 84  updated_utc                    1997 non-null   int64  \n",
      " 85  utc_datetime_str               1997 non-null   object \n",
      " 86  post_hint                      11 non-null     object \n",
      " 87  preview                        11 non-null     object \n",
      " 88  author_cakeday                 3 non-null      object \n",
      "dtypes: bool(24), float64(1), int64(11), object(53)\n",
      "memory usage: 1.1+ MB\n"
     ]
    }
   ],
   "source": [
    "#see total rows, missing values, and an overview of the dataframe\n",
    "men_df.info()"
   ]
  },
  {
   "cell_type": "code",
   "execution_count": 77,
   "id": "2e3e7b60-c24b-42d2-9d4c-dd96c15a6c6f",
   "metadata": {},
   "outputs": [],
   "source": [
    "men_df.to_csv('../Data/ask_men.csv', index=False)"
   ]
  },
  {
   "cell_type": "markdown",
   "id": "ff9956a3-eec0-4b3f-9959-776004566ba4",
   "metadata": {
    "tags": []
   },
   "source": [
    "### Combine data"
   ]
  },
  {
   "cell_type": "code",
   "execution_count": 88,
   "id": "a7bc4822-e7b5-4331-b441-d9f44a89bb0b",
   "metadata": {},
   "outputs": [],
   "source": [
    "sub_reddit_data = pd.concat([women_df, men_df])"
   ]
  },
  {
   "cell_type": "code",
   "execution_count": 89,
   "id": "ed11f5a7-bad6-46ec-852f-eddcdbbdae5c",
   "metadata": {
    "scrolled": true,
    "tags": []
   },
   "outputs": [
    {
     "name": "stdout",
     "output_type": "stream",
     "text": [
      "<class 'pandas.core.frame.DataFrame'>\n",
      "Int64Index: 3992 entries, 0 to 997\n",
      "Data columns (total 90 columns):\n",
      " #   Column                         Non-Null Count  Dtype  \n",
      "---  ------                         --------------  -----  \n",
      " 0   subreddit                      3992 non-null   object \n",
      " 1   selftext                       3992 non-null   object \n",
      " 2   author_fullname                3914 non-null   object \n",
      " 3   gilded                         3992 non-null   int64  \n",
      " 4   title                          3992 non-null   object \n",
      " 5   link_flair_richtext            3992 non-null   object \n",
      " 6   subreddit_name_prefixed        3992 non-null   object \n",
      " 7   hidden                         3992 non-null   bool   \n",
      " 8   pwls                           3992 non-null   int64  \n",
      " 9   link_flair_css_class           4 non-null      object \n",
      " 10  thumbnail_height               0 non-null      object \n",
      " 11  top_awarded_type               0 non-null      object \n",
      " 12  hide_score                     3992 non-null   bool   \n",
      " 13  quarantine                     3992 non-null   bool   \n",
      " 14  link_flair_text_color          3992 non-null   object \n",
      " 15  upvote_ratio                   3992 non-null   float64\n",
      " 16  author_flair_background_color  133 non-null    object \n",
      " 17  subreddit_type                 3992 non-null   object \n",
      " 18  total_awards_received          3992 non-null   int64  \n",
      " 19  media_embed                    3992 non-null   object \n",
      " 20  thumbnail_width                0 non-null      object \n",
      " 21  author_flair_template_id       88 non-null     object \n",
      " 22  is_original_content            3992 non-null   bool   \n",
      " 23  secure_media                   0 non-null      object \n",
      " 24  is_reddit_media_domain         3992 non-null   bool   \n",
      " 25  is_meta                        3992 non-null   bool   \n",
      " 26  category                       0 non-null      object \n",
      " 27  secure_media_embed             3992 non-null   object \n",
      " 28  link_flair_text                4 non-null      object \n",
      " 29  score                          3992 non-null   int64  \n",
      " 30  is_created_from_ads_ui         3992 non-null   bool   \n",
      " 31  author_premium                 3914 non-null   object \n",
      " 32  thumbnail                      3992 non-null   object \n",
      " 33  edited                         3992 non-null   bool   \n",
      " 34  author_flair_css_class         92 non-null     object \n",
      " 35  author_flair_richtext          3914 non-null   object \n",
      " 36  gildings                       3992 non-null   object \n",
      " 37  content_categories             0 non-null      object \n",
      " 38  is_self                        3992 non-null   bool   \n",
      " 39  link_flair_type                3992 non-null   object \n",
      " 40  wls                            3992 non-null   int64  \n",
      " 41  removed_by_category            2984 non-null   object \n",
      " 42  author_flair_type              3914 non-null   object \n",
      " 43  domain                         3992 non-null   object \n",
      " 44  allow_live_comments            3992 non-null   bool   \n",
      " 45  suggested_sort                 1995 non-null   object \n",
      " 46  view_count                     0 non-null      object \n",
      " 47  archived                       3992 non-null   bool   \n",
      " 48  no_follow                      3992 non-null   bool   \n",
      " 49  is_crosspostable               3992 non-null   bool   \n",
      " 50  pinned                         3992 non-null   bool   \n",
      " 51  over_18                        3992 non-null   bool   \n",
      " 52  all_awardings                  3992 non-null   object \n",
      " 53  awarders                       3992 non-null   object \n",
      " 54  media_only                     3992 non-null   bool   \n",
      " 55  can_gild                       3992 non-null   bool   \n",
      " 56  spoiler                        3992 non-null   bool   \n",
      " 57  locked                         3992 non-null   bool   \n",
      " 58  author_flair_text              94 non-null     object \n",
      " 59  treatment_tags                 3992 non-null   object \n",
      " 60  removed_by                     0 non-null      object \n",
      " 61  distinguished                  0 non-null      object \n",
      " 62  subreddit_id                   3992 non-null   object \n",
      " 63  link_flair_background_color    3992 non-null   object \n",
      " 64  id                             3992 non-null   object \n",
      " 65  is_robot_indexable             3992 non-null   bool   \n",
      " 66  author                         3992 non-null   object \n",
      " 67  discussion_type                0 non-null      object \n",
      " 68  num_comments                   3992 non-null   int64  \n",
      " 69  send_replies                   3992 non-null   bool   \n",
      " 70  whitelist_status               3992 non-null   object \n",
      " 71  contest_mode                   3992 non-null   bool   \n",
      " 72  author_patreon_flair           3914 non-null   object \n",
      " 73  author_flair_text_color        172 non-null    object \n",
      " 74  permalink                      3992 non-null   object \n",
      " 75  parent_whitelist_status        3992 non-null   object \n",
      " 76  stickied                       3992 non-null   bool   \n",
      " 77  url                            3992 non-null   object \n",
      " 78  subreddit_subscribers          3992 non-null   int64  \n",
      " 79  created_utc                    3992 non-null   int64  \n",
      " 80  num_crossposts                 3992 non-null   int64  \n",
      " 81  media                          0 non-null      object \n",
      " 82  is_video                       3992 non-null   bool   \n",
      " 83  retrieved_utc                  3992 non-null   int64  \n",
      " 84  updated_utc                    3992 non-null   int64  \n",
      " 85  utc_datetime_str               3992 non-null   object \n",
      " 86  post_hint                      28 non-null     object \n",
      " 87  preview                        28 non-null     object \n",
      " 88  link_flair_template_id         4 non-null      object \n",
      " 89  author_cakeday                 6 non-null      object \n",
      "dtypes: bool(24), float64(1), int64(11), object(54)\n",
      "memory usage: 2.1+ MB\n"
     ]
    }
   ],
   "source": [
    "sub_reddit_data.info()"
   ]
  },
  {
   "cell_type": "code",
   "execution_count": null,
   "id": "c5b114d3-832e-4118-b5e5-a3d6ef14279a",
   "metadata": {},
   "outputs": [],
   "source": [
    "sub_reddit_data['subreddit'].value_counts()"
   ]
  },
  {
   "cell_type": "code",
   "execution_count": 95,
   "id": "bcff09da-0adb-4ed5-820f-2123623b1a64",
   "metadata": {},
   "outputs": [],
   "source": [
    "sub_reddit_data.to_csv('../Data/sub_reddit_data.csv', index=False)"
   ]
  },
  {
   "cell_type": "markdown",
   "id": "c6041b0f-cbe0-4d37-9b25-cdc89e5b517c",
   "metadata": {
    "tags": []
   },
   "source": [
    "## First iteraton: Eda Process results."
   ]
  },
  {
   "cell_type": "markdown",
   "id": "91cff429-5010-496d-9169-779e385504bf",
   "metadata": {},
   "source": [
    "After out first iteration in the [data_cleaning notebook]('./Code/02_data_cleaning.ipynb') we explored, analyzed, and cleaned the data; however, after finding out most of our post have been removed. We returned here to add additional post that have not been removed. We also noticed about 70% of post were removed by a moderator and often had under 3 comments which we assumed was due violating community guidelines. Because of that proportion of removed post we return to this note book to pull more data to offset that imbalance, but wanted to maintain those post for potential future use.\n",
    "\n",
    "So from there we moved onto the second iteration."
   ]
  },
  {
   "cell_type": "markdown",
   "id": "7da2d4e0-69d6-4cc9-96cc-b65425d4515a",
   "metadata": {
    "tags": []
   },
   "source": [
    "_______________________________________________________________________________________________\n",
    "# Second iteration: Pulling data from api "
   ]
  },
  {
   "cell_type": "markdown",
   "id": "4cd5fb54-a342-4655-84e9-697a98e68668",
   "metadata": {},
   "source": [
    "After our first iteration of data cleaning in the [data cleaning notebook]('./Code/01_data_cleaning.ipynb') we identified a need for additional data, we decided to create functions to easily pull data as needed. So from here on forth we will be using functions as needed."
   ]
  },
  {
   "cell_type": "code",
   "execution_count": 3,
   "id": "358a3523-e0ca-4dbd-9405-8b56f067dc8a",
   "metadata": {},
   "outputs": [],
   "source": [
    "# api url\n",
    "url =  'https://api.pushshift.io/reddit/search/submission'"
   ]
  },
  {
   "cell_type": "markdown",
   "id": "4b4f402f-3400-4185-99bf-7e65c5fa2472",
   "metadata": {},
   "source": [
    "These functions will be used to pull the data we need. For ease of use, the function get_data_before will be used more because will more likely get closer to the full amount of post. The get_data_after can be used after a long period of time has elapsed assuming the subreddit is not active"
   ]
  },
  {
   "cell_type": "code",
   "execution_count": 79,
   "id": "97f10d2c-8223-405a-8663-ce17d26c833a",
   "metadata": {},
   "outputs": [],
   "source": [
    "#function to get data\n",
    "def get_data_before(subreddit, size, ini_sub):\n",
    "    '''\n",
    "    This function will pull a specified ammount of title pos within a given subreddit.\n",
    "    The utc parameter will pull titles before the specified time given.\n",
    "    The minimum number of post is 5 because that's a good indicator of a post not being removed.\n",
    "    The ini_sub parameter passes the inital data frame, so we can find the utc\n",
    "    '''\n",
    "    utc = ini_sub['created_utc'].sort_values(ascending = False).values[-1]\n",
    "    print(f'utc doe is {utc}')\n",
    "    params ={\n",
    "        'subreddit' : subreddit,\n",
    "        'size': size,\n",
    "        'until': utc,\n",
    "        'min_comments' : 5\n",
    "    }\n",
    "    data_req = requests.get(url, params)\n",
    "    data_df = pd.DataFrame(data_req.json()['data'])\n",
    "    print(f' {subreddit} response code: {data_req}')\n",
    "    return data_df"
   ]
  },
  {
   "cell_type": "code",
   "execution_count": 96,
   "id": "59128acc-7afa-4dd8-86f9-3b1877e0c71a",
   "metadata": {},
   "outputs": [],
   "source": [
    "#function to get data\n",
    "def get_data_after(subreddit, size, ini_sub):\n",
    "    '''\n",
    "    This function will pull a specified ammount of title pos within a given subreddit.\n",
    "    The utc parameter will pull titles after the specified time given.\n",
    "    The minimum number of post is 5 because that's a good indicator of a post not being removed.\n",
    "    The ini_sub parameter passes the inital data frame, so we can find the utc\n",
    "    '''\n",
    "    utc = ini_sub['created_utc'].sort_values(ascending = False).values[0]\n",
    "    print(f'utc doe is {utc}')\n",
    "    params ={\n",
    "        'subreddit' : subreddit,\n",
    "        'size': size,\n",
    "        'since': utc,\n",
    "        'min_comments' : 5\n",
    "    }\n",
    "    data_req = requests.get(url, params)\n",
    "    data_df = pd.DataFrame(data_req.json()['data'])\n",
    "    print(f' {subreddit} response code: {data_req}')\n",
    "    return data_df"
   ]
  },
  {
   "cell_type": "markdown",
   "id": "8882cad2-ef16-4b8c-87f0-ea777780735c",
   "metadata": {},
   "source": [
    "### Women"
   ]
  },
  {
   "cell_type": "code",
   "execution_count": 97,
   "id": "c9f41fea-f1dc-4280-9744-a9de0ebf2525",
   "metadata": {},
   "outputs": [],
   "source": [
    "ini_women = pd.read_csv('../Data/ask_women.csv') #initial ask women data"
   ]
  },
  {
   "cell_type": "code",
   "execution_count": 98,
   "id": "2c592a60-ef10-47a3-aabd-5eda30b86773",
   "metadata": {},
   "outputs": [
    {
     "name": "stdout",
     "output_type": "stream",
     "text": [
      "utc doe is 1681854044\n",
      " askwomen response code: <Response [200]>\n"
     ]
    }
   ],
   "source": [
    "new_askwomen= get_data_before('askwomen', 1000, ini_women)"
   ]
  },
  {
   "cell_type": "markdown",
   "id": "3407d0b7-ab2d-4de5-ba5c-3c57c1338fab",
   "metadata": {},
   "source": [
    "It seems like there are less removed post, but the filter didn't work, so its probably deprecated. The comment number parameter appears to be working as intended. Which is useful because most of the removed post had 1 comment, so this was a small work around. So the next step is to see if were pulling the correct data by comparing the oldest post of the new dataframe and the old dataframe."
   ]
  },
  {
   "cell_type": "code",
   "execution_count": 92,
   "id": "34ec4af6-5a9b-49f0-ab41-a25bf94e38da",
   "metadata": {},
   "outputs": [
    {
     "data": {
      "text/html": [
       "<div>\n",
       "<style scoped>\n",
       "    .dataframe tbody tr th:only-of-type {\n",
       "        vertical-align: middle;\n",
       "    }\n",
       "\n",
       "    .dataframe tbody tr th {\n",
       "        vertical-align: top;\n",
       "    }\n",
       "\n",
       "    .dataframe thead th {\n",
       "        text-align: right;\n",
       "    }\n",
       "</style>\n",
       "<table border=\"1\" class=\"dataframe\">\n",
       "  <thead>\n",
       "    <tr style=\"text-align: right;\">\n",
       "      <th></th>\n",
       "      <th>created_utc</th>\n",
       "      <th>title</th>\n",
       "    </tr>\n",
       "  </thead>\n",
       "  <tbody>\n",
       "    <tr>\n",
       "      <th>0</th>\n",
       "      <td>1682375066</td>\n",
       "      <td>How about true friendship between men and wome...</td>\n",
       "    </tr>\n",
       "    <tr>\n",
       "      <th>1</th>\n",
       "      <td>1682374690</td>\n",
       "      <td>Does this mean she’s not interested? What shou...</td>\n",
       "    </tr>\n",
       "    <tr>\n",
       "      <th>2</th>\n",
       "      <td>1682374630</td>\n",
       "      <td>What’s something that your brain cannot compre...</td>\n",
       "    </tr>\n",
       "  </tbody>\n",
       "</table>\n",
       "</div>"
      ],
      "text/plain": [
       "   created_utc                                              title\n",
       "0   1682375066  How about true friendship between men and wome...\n",
       "1   1682374690  Does this mean she’s not interested? What shou...\n",
       "2   1682374630  What’s something that your brain cannot compre..."
      ]
     },
     "execution_count": 92,
     "metadata": {},
     "output_type": "execute_result"
    }
   ],
   "source": [
    "ini_women[['created_utc', 'title']].sort_values(by = 'created_utc', ascending = False).head(3)"
   ]
  },
  {
   "cell_type": "code",
   "execution_count": 95,
   "id": "5f8570f2-4983-447f-9626-e3e91d573604",
   "metadata": {},
   "outputs": [
    {
     "data": {
      "text/html": [
       "<div>\n",
       "<style scoped>\n",
       "    .dataframe tbody tr th:only-of-type {\n",
       "        vertical-align: middle;\n",
       "    }\n",
       "\n",
       "    .dataframe tbody tr th {\n",
       "        vertical-align: top;\n",
       "    }\n",
       "\n",
       "    .dataframe thead th {\n",
       "        text-align: right;\n",
       "    }\n",
       "</style>\n",
       "<table border=\"1\" class=\"dataframe\">\n",
       "  <thead>\n",
       "    <tr style=\"text-align: right;\">\n",
       "      <th></th>\n",
       "      <th>created_utc</th>\n",
       "      <th>title</th>\n",
       "    </tr>\n",
       "  </thead>\n",
       "  <tbody>\n",
       "    <tr>\n",
       "      <th>0</th>\n",
       "      <td>1679324774</td>\n",
       "      <td>What Would You Do if You Found Weed in Your 14...</td>\n",
       "    </tr>\n",
       "    <tr>\n",
       "      <th>1</th>\n",
       "      <td>1677685126</td>\n",
       "      <td>What are your views on buying luxury handbags?...</td>\n",
       "    </tr>\n",
       "    <tr>\n",
       "      <th>2</th>\n",
       "      <td>1677684203</td>\n",
       "      <td>How did you get over someone you never thought...</td>\n",
       "    </tr>\n",
       "  </tbody>\n",
       "</table>\n",
       "</div>"
      ],
      "text/plain": [
       "   created_utc                                              title\n",
       "0   1679324774  What Would You Do if You Found Weed in Your 14...\n",
       "1   1677685126  What are your views on buying luxury handbags?...\n",
       "2   1677684203  How did you get over someone you never thought..."
      ]
     },
     "execution_count": 95,
     "metadata": {},
     "output_type": "execute_result"
    }
   ],
   "source": [
    "new_askwomen[['created_utc', 'title']].sort_values(by = 'created_utc', ascending = False).head(3)"
   ]
  },
  {
   "cell_type": "code",
   "execution_count": 105,
   "id": "1ed38600-66bc-4671-92a1-51e3ded3c0b8",
   "metadata": {},
   "outputs": [
    {
     "data": {
      "text/plain": [
       "(1000, 1995)"
      ]
     },
     "execution_count": 105,
     "metadata": {},
     "output_type": "execute_result"
    }
   ],
   "source": [
    "len(new_askwomen), len(ini_women)"
   ]
  },
  {
   "cell_type": "code",
   "execution_count": 102,
   "id": "c5c36c1f-556f-4cf0-8123-56ce1bfcb139",
   "metadata": {},
   "outputs": [],
   "source": [
    "#combined the inital women csv to the new pulled data.\n",
    "combined_women = pd.concat([ini_women, new_askwomen])"
   ]
  },
  {
   "cell_type": "code",
   "execution_count": 103,
   "id": "b047e633-5d2d-418b-ae1c-37f915c8e79e",
   "metadata": {},
   "outputs": [
    {
     "data": {
      "text/plain": [
       "2995"
      ]
     },
     "execution_count": 103,
     "metadata": {},
     "output_type": "execute_result"
    }
   ],
   "source": [
    "len(combined_women)"
   ]
  },
  {
   "cell_type": "code",
   "execution_count": 117,
   "id": "0e164e99-cb48-4b86-a33b-3c7d66c5e9b1",
   "metadata": {},
   "outputs": [],
   "source": [
    "combined_women.to_csv('../Data/ask_women.csv')"
   ]
  },
  {
   "cell_type": "markdown",
   "id": "18c231d1-bd41-4916-9957-7dfa07b5820f",
   "metadata": {},
   "source": [
    "### Men"
   ]
  },
  {
   "cell_type": "code",
   "execution_count": 106,
   "id": "cd358515-b047-457b-af41-672c500419bb",
   "metadata": {},
   "outputs": [],
   "source": [
    "#inital ask men data\n",
    "ini_men =pd.read_csv('../Data/ask_men.csv')"
   ]
  },
  {
   "cell_type": "code",
   "execution_count": 107,
   "id": "045bb628-439d-4dbd-b2e9-68cbe20b7a36",
   "metadata": {},
   "outputs": [
    {
     "data": {
      "text/html": [
       "<div>\n",
       "<style scoped>\n",
       "    .dataframe tbody tr th:only-of-type {\n",
       "        vertical-align: middle;\n",
       "    }\n",
       "\n",
       "    .dataframe tbody tr th {\n",
       "        vertical-align: top;\n",
       "    }\n",
       "\n",
       "    .dataframe thead th {\n",
       "        text-align: right;\n",
       "    }\n",
       "</style>\n",
       "<table border=\"1\" class=\"dataframe\">\n",
       "  <thead>\n",
       "    <tr style=\"text-align: right;\">\n",
       "      <th></th>\n",
       "      <th>subreddit</th>\n",
       "      <th>selftext</th>\n",
       "      <th>author_fullname</th>\n",
       "      <th>gilded</th>\n",
       "      <th>title</th>\n",
       "      <th>link_flair_richtext</th>\n",
       "      <th>subreddit_name_prefixed</th>\n",
       "      <th>hidden</th>\n",
       "      <th>pwls</th>\n",
       "      <th>link_flair_css_class</th>\n",
       "      <th>...</th>\n",
       "      <th>created_utc</th>\n",
       "      <th>num_crossposts</th>\n",
       "      <th>media</th>\n",
       "      <th>is_video</th>\n",
       "      <th>retrieved_utc</th>\n",
       "      <th>updated_utc</th>\n",
       "      <th>utc_datetime_str</th>\n",
       "      <th>post_hint</th>\n",
       "      <th>preview</th>\n",
       "      <th>author_cakeday</th>\n",
       "    </tr>\n",
       "  </thead>\n",
       "  <tbody>\n",
       "    <tr>\n",
       "      <th>1996</th>\n",
       "      <td>AskMen</td>\n",
       "      <td>What are the things that would make you lose i...</td>\n",
       "      <td>t2_75n4i5f5</td>\n",
       "      <td>0</td>\n",
       "      <td>Men of reddit, what is something that would ma...</td>\n",
       "      <td>[]</td>\n",
       "      <td>r/AskMen</td>\n",
       "      <td>False</td>\n",
       "      <td>6</td>\n",
       "      <td>NaN</td>\n",
       "      <td>...</td>\n",
       "      <td>1681999288</td>\n",
       "      <td>0</td>\n",
       "      <td>NaN</td>\n",
       "      <td>False</td>\n",
       "      <td>1681999300</td>\n",
       "      <td>1681999301</td>\n",
       "      <td>2023-04-20 14:01:28</td>\n",
       "      <td>NaN</td>\n",
       "      <td>NaN</td>\n",
       "      <td>NaN</td>\n",
       "    </tr>\n",
       "    <tr>\n",
       "      <th>1995</th>\n",
       "      <td>AskMen</td>\n",
       "      <td>NaN</td>\n",
       "      <td>t2_qzhumucd</td>\n",
       "      <td>0</td>\n",
       "      <td>What’s the most attractive thing about a woman??</td>\n",
       "      <td>[]</td>\n",
       "      <td>r/AskMen</td>\n",
       "      <td>False</td>\n",
       "      <td>6</td>\n",
       "      <td>NaN</td>\n",
       "      <td>...</td>\n",
       "      <td>1682000135</td>\n",
       "      <td>0</td>\n",
       "      <td>NaN</td>\n",
       "      <td>False</td>\n",
       "      <td>1682000148</td>\n",
       "      <td>1682000149</td>\n",
       "      <td>2023-04-20 14:15:35</td>\n",
       "      <td>NaN</td>\n",
       "      <td>NaN</td>\n",
       "      <td>NaN</td>\n",
       "    </tr>\n",
       "  </tbody>\n",
       "</table>\n",
       "<p>2 rows × 89 columns</p>\n",
       "</div>"
      ],
      "text/plain": [
       "     subreddit                                           selftext  \\\n",
       "1996    AskMen  What are the things that would make you lose i...   \n",
       "1995    AskMen                                                NaN   \n",
       "\n",
       "     author_fullname  gilded  \\\n",
       "1996     t2_75n4i5f5       0   \n",
       "1995     t2_qzhumucd       0   \n",
       "\n",
       "                                                  title link_flair_richtext  \\\n",
       "1996  Men of reddit, what is something that would ma...                  []   \n",
       "1995   What’s the most attractive thing about a woman??                  []   \n",
       "\n",
       "     subreddit_name_prefixed  hidden  pwls  link_flair_css_class  ...  \\\n",
       "1996                r/AskMen   False     6                   NaN  ...   \n",
       "1995                r/AskMen   False     6                   NaN  ...   \n",
       "\n",
       "      created_utc  num_crossposts  media  is_video retrieved_utc  updated_utc  \\\n",
       "1996   1681999288               0    NaN     False    1681999300   1681999301   \n",
       "1995   1682000135               0    NaN     False    1682000148   1682000149   \n",
       "\n",
       "         utc_datetime_str post_hint  preview author_cakeday  \n",
       "1996  2023-04-20 14:01:28       NaN      NaN            NaN  \n",
       "1995  2023-04-20 14:15:35       NaN      NaN            NaN  \n",
       "\n",
       "[2 rows x 89 columns]"
      ]
     },
     "execution_count": 107,
     "metadata": {},
     "output_type": "execute_result"
    }
   ],
   "source": [
    "#get the utc of thenewest post\n",
    "ini_men.sort_values('created_utc', ascending=True).head(2)"
   ]
  },
  {
   "cell_type": "code",
   "execution_count": 108,
   "id": "2b736b54-5681-4cc8-a048-3788f4e6d72e",
   "metadata": {},
   "outputs": [
    {
     "name": "stdout",
     "output_type": "stream",
     "text": [
      "utc doe is 1681999288\n",
      " askmen response code: <Response [200]>\n"
     ]
    }
   ],
   "source": [
    "new_askmen= get_data_before('askmen', 1000, ini_men)"
   ]
  },
  {
   "cell_type": "code",
   "execution_count": 109,
   "id": "d3db9d86-c401-4a9c-815d-f99b2b40b554",
   "metadata": {},
   "outputs": [
    {
     "data": {
      "text/plain": [
       "moderator    261\n",
       "deleted      211\n",
       "reddit         6\n",
       "Name: removed_by_category, dtype: int64"
      ]
     },
     "execution_count": 109,
     "metadata": {},
     "output_type": "execute_result"
    }
   ],
   "source": [
    "new_askmen['removed_by_category'].value_counts()"
   ]
  },
  {
   "cell_type": "code",
   "execution_count": 110,
   "id": "4b63dde2-8ba6-43b3-80c5-b3d84791124c",
   "metadata": {},
   "outputs": [
    {
     "data": {
      "text/plain": [
       "8     45\n",
       "9     37\n",
       "11    36\n",
       "5     35\n",
       "6     34\n",
       "13    30\n",
       "12    30\n",
       "23    28\n",
       "14    27\n",
       "7     26\n",
       "Name: num_comments, dtype: int64"
      ]
     },
     "execution_count": 110,
     "metadata": {},
     "output_type": "execute_result"
    }
   ],
   "source": [
    "new_askmen['num_comments'].value_counts(ascending=False).head(10)"
   ]
  },
  {
   "cell_type": "markdown",
   "id": "3b0a491d-243b-4557-9161-a6b3c0834468",
   "metadata": {},
   "source": [
    "Similar to the second iteration of the Askwomen API call, we notice the removed my moderator parameter was deprecated, but the minimum number of comments seems to be working."
   ]
  },
  {
   "cell_type": "code",
   "execution_count": 111,
   "id": "38d87822-b7c9-43bc-bd14-165278c547c0",
   "metadata": {},
   "outputs": [],
   "source": [
    "#combined the inital men csv to the new pulled data.\n",
    "combined_men = pd.concat([ini_men, new_askmen])"
   ]
  },
  {
   "cell_type": "code",
   "execution_count": 112,
   "id": "bcf31ef6-f566-4ce8-8af9-8903dbfe6875",
   "metadata": {},
   "outputs": [
    {
     "data": {
      "text/plain": [
       "2997"
      ]
     },
     "execution_count": 112,
     "metadata": {},
     "output_type": "execute_result"
    }
   ],
   "source": [
    "len(combined_men)"
   ]
  },
  {
   "cell_type": "code",
   "execution_count": 116,
   "id": "310604d9-6e36-4123-b06b-4d08a8a8f54c",
   "metadata": {},
   "outputs": [],
   "source": [
    "combined_men.to_csv('../Data/ask_men.csv')"
   ]
  },
  {
   "cell_type": "markdown",
   "id": "19d69a3c-453c-46e1-bde6-9cc622bbb615",
   "metadata": {},
   "source": [
    "### Combined data frames"
   ]
  },
  {
   "cell_type": "markdown",
   "id": "5529cd79-1b64-4232-8133-971f65f7d690",
   "metadata": {},
   "source": [
    "Since we used the original askwomen and askmen subreddit data, we don't need to load in the previous combined data. Otherwise we would have a lot of duplicate data."
   ]
  },
  {
   "cell_type": "code",
   "execution_count": 113,
   "id": "d9e71899-4a1e-43ee-ae88-33316a202d9d",
   "metadata": {},
   "outputs": [],
   "source": [
    "combined_subreddits = pd.concat([combined_men, combined_women])"
   ]
  },
  {
   "cell_type": "code",
   "execution_count": 114,
   "id": "1dd66c1a-0721-4870-a6d1-8c3921786ae8",
   "metadata": {},
   "outputs": [
    {
     "name": "stdout",
     "output_type": "stream",
     "text": [
      " askmen: 2997 \n",
      " askwomen: 2995 \n",
      " Total combined threads 5992\n"
     ]
    }
   ],
   "source": [
    "print(f' askmen: {len(combined_men)} \\n askwomen: {len(combined_women)} \\n Total combined threads {len(combined_subreddits)}')"
   ]
  },
  {
   "cell_type": "code",
   "execution_count": 66,
   "id": "e4a42463-954a-4fb2-a348-587d41e99f71",
   "metadata": {},
   "outputs": [],
   "source": [
    "combined_subreddits.to_csv('../Data/sub_reddits_data.csv', index=False)"
   ]
  },
  {
   "cell_type": "markdown",
   "id": "9b906fd2-3f61-47ac-b130-05b9852f4bb9",
   "metadata": {},
   "source": [
    "### Getting additional data"
   ]
  },
  {
   "cell_type": "code",
   "execution_count": 128,
   "id": "dd5059f4-46ca-4ba4-9754-a7e840fb4cc3",
   "metadata": {},
   "outputs": [],
   "source": [
    "ini_subrredits = pd.read_csv('../Data/sub_reddits_data.csv')"
   ]
  },
  {
   "cell_type": "code",
   "execution_count": 118,
   "id": "d26402df-8e6b-41b2-8995-4a9e8caabe8e",
   "metadata": {},
   "outputs": [],
   "source": [
    "askmen_3 = pd.read_csv('../Data/ask_men.csv')"
   ]
  },
  {
   "cell_type": "code",
   "execution_count": 122,
   "id": "738b03f2-1c3c-422d-be3c-0b3fec2b55fa",
   "metadata": {},
   "outputs": [],
   "source": [
    "askwomen_3 = pd.read_csv('../Data/ask_women.csv')"
   ]
  },
  {
   "cell_type": "code",
   "execution_count": 119,
   "id": "6327d67e-7dec-4aad-a5dc-79f836f7ff46",
   "metadata": {},
   "outputs": [
    {
     "name": "stdout",
     "output_type": "stream",
     "text": [
      "utc doe is 1669857196\n",
      " askmen response code: <Response [200]>\n"
     ]
    }
   ],
   "source": [
    "askmen_3 = get_data_before('askmen', 1000, askmen_3)"
   ]
  },
  {
   "cell_type": "code",
   "execution_count": 123,
   "id": "cef78228-c4d5-4fa8-a4c3-b711d03c3f68",
   "metadata": {},
   "outputs": [
    {
     "name": "stdout",
     "output_type": "stream",
     "text": [
      "utc doe is 1666608446\n",
      " askwomen response code: <Response [200]>\n"
     ]
    }
   ],
   "source": [
    "askwomen_3 = get_data_before('askwomen', 1000, askwomen_3)"
   ]
  },
  {
   "cell_type": "code",
   "execution_count": 138,
   "id": "ffa30e5d-9df4-45c8-ae35-0e45aa33b7cf",
   "metadata": {},
   "outputs": [
    {
     "data": {
      "text/plain": [
       "(1000, 998)"
      ]
     },
     "execution_count": 138,
     "metadata": {},
     "output_type": "execute_result"
    }
   ],
   "source": [
    "len(askmen_3), len(askwomen_3)"
   ]
  },
  {
   "cell_type": "code",
   "execution_count": 126,
   "id": "b1c583c5-8a09-474b-a431-48225ba46dd2",
   "metadata": {},
   "outputs": [],
   "source": [
    "combined_3 = pd.concat([askmen_3, askwomen_3])"
   ]
  },
  {
   "cell_type": "code",
   "execution_count": 133,
   "id": "193cae48-b7d9-4930-aa06-4fb04b2a10ed",
   "metadata": {},
   "outputs": [
    {
     "data": {
      "text/plain": [
       "(1998, 5992)"
      ]
     },
     "execution_count": 133,
     "metadata": {},
     "output_type": "execute_result"
    }
   ],
   "source": [
    "len(combined_3), len(ini_subrredits)"
   ]
  },
  {
   "cell_type": "code",
   "execution_count": 144,
   "id": "ee87df82-1a7d-4f81-b32a-e3562be0e2b9",
   "metadata": {},
   "outputs": [],
   "source": [
    "combined_subreddits = pd.concat([combined_3, ini_subrredits])"
   ]
  },
  {
   "cell_type": "code",
   "execution_count": 145,
   "id": "471d742d-44ba-4293-afe8-f102263c093f",
   "metadata": {},
   "outputs": [
    {
     "data": {
      "text/plain": [
       "7990"
      ]
     },
     "execution_count": 145,
     "metadata": {},
     "output_type": "execute_result"
    }
   ],
   "source": [
    "len(combined_subreddits)"
   ]
  },
  {
   "cell_type": "code",
   "execution_count": 146,
   "id": "1cc43758-927e-4968-8100-4ec6798ed79b",
   "metadata": {},
   "outputs": [],
   "source": [
    "combined_subreddits.to_csv('../Data/sub_reddits_data.csv', index=False)"
   ]
  },
  {
   "cell_type": "markdown",
   "id": "5e0be7e0-6224-40c4-a1d1-b99d634a5da3",
   "metadata": {
    "tags": []
   },
   "source": [
    "## Second iteraton: Eda Process results."
   ]
  },
  {
   "cell_type": "markdown",
   "id": "a9fc815c-0189-48ad-8b75-e4c364292918",
   "metadata": {},
   "source": [
    "From here we moved back to the [Data cleaning note book](./Code/02_data_cleaning.ipynb) and cleaned the second iteration of our Dateset and then compared those results to the first iteration"
   ]
  }
 ],
 "metadata": {
  "kernelspec": {
   "display_name": "Python 3 (ipykernel)",
   "language": "python",
   "name": "python3"
  },
  "language_info": {
   "codemirror_mode": {
    "name": "ipython",
    "version": 3
   },
   "file_extension": ".py",
   "mimetype": "text/x-python",
   "name": "python",
   "nbconvert_exporter": "python",
   "pygments_lexer": "ipython3",
   "version": "3.9.13"
  }
 },
 "nbformat": 4,
 "nbformat_minor": 5
}
