{
 "cells": [
  {
   "cell_type": "markdown",
   "id": "0f446d8a-0ff4-4647-a8f0-c45df6389ac3",
   "metadata": {},
   "source": [
    "# Introduction\n",
    "This notebook will be used to gather data from reddit through an API. The two subreddits we will be gather data from are:\n",
    "1) ) [Ask Men](https://www.reddit.com/r/AskMen): 1995 records\n",
    "2) ) [Ask Women](https://www.reddit.com/r/AskWomen): 1997 records\n",
    "\n",
    "For this portion I created separate dataframes for the first 2000 post descending from April 24, 2023. I pulled the entire dataset from the API incase I need any information in the future. Before modeling I will subset the information I need such as:\n",
    "1) ) title\n",
    "2) ) utc_datetime_str\n",
    "3) ) subreddit\n",
    "4) ) hidden\n",
    "These files will be stored as seperate CSVs as a backup, but a file called sub_reddit_data will be created combining the two."
   ]
  },
  {
   "cell_type": "markdown",
   "id": "85ba06a8-0735-4ea0-879a-318c8e6a5c7d",
   "metadata": {},
   "source": [
    "## Imports"
   ]
  },
  {
   "cell_type": "code",
   "execution_count": 1,
   "id": "7d9ec63e-db69-4bf6-a86d-bbe16b7865a4",
   "metadata": {},
   "outputs": [],
   "source": [
    "import requests\n",
    "import pandas as pd"
   ]
  },
  {
   "cell_type": "code",
   "execution_count": 2,
   "id": "4a00598f-6bb6-47ba-bd3c-106e8006d91e",
   "metadata": {},
   "outputs": [],
   "source": [
    "# api url\n",
    "url =  'https://api.pushshift.io/reddit/search/submission'"
   ]
  },
  {
   "cell_type": "markdown",
   "id": "1f3fd552-0336-4096-86bf-d413b9176ccf",
   "metadata": {
    "jp-MarkdownHeadingCollapsed": true,
    "tags": []
   },
   "source": [
    "## Pulling data from api"
   ]
  },
  {
   "cell_type": "markdown",
   "id": "b5f2dacf-a20d-432c-a77c-4c8833aa29dc",
   "metadata": {
    "tags": []
   },
   "source": [
    "### Women"
   ]
  },
  {
   "cell_type": "markdown",
   "id": "39cd3818-7526-4780-a080-b2015249ed99",
   "metadata": {
    "tags": []
   },
   "source": [
    "#### Inital dataframe\n",
    "\n",
    "Due to instability of the API I wanted to created an inital dataframe and manually append new data. I was afraid of using a loop and have issues with API timeouts or getting blocked."
   ]
  },
  {
   "cell_type": "code",
   "execution_count": 3,
   "id": "ba221a2c-96c1-4199-a5e3-7008c4e1ed06",
   "metadata": {},
   "outputs": [],
   "source": [
    "#params to get the 1000 newest posts from the askwomen subreddit\n",
    "women_params={\n",
    "    'subreddit': 'askwomen',\n",
    "    'size' : 1000,\n",
    "}"
   ]
  },
  {
   "cell_type": "code",
   "execution_count": 4,
   "id": "41ed6bab-17c5-41c3-8c3a-0dbcf29820d6",
   "metadata": {},
   "outputs": [],
   "source": [
    "req_women = requests.get(url, women_params)"
   ]
  },
  {
   "cell_type": "code",
   "execution_count": 5,
   "id": "19a70160-e613-4acb-bec8-2cf9122edc47",
   "metadata": {},
   "outputs": [
    {
     "name": "stdout",
     "output_type": "stream",
     "text": [
      " women response code: <Response [200]>\n"
     ]
    }
   ],
   "source": [
    "#check to see if we established a connect\n",
    "print(f' women response code: {req_women}')"
   ]
  },
  {
   "cell_type": "code",
   "execution_count": 6,
   "id": "c65c7145-53bb-45ee-90cc-dfbdd3c92124",
   "metadata": {},
   "outputs": [
    {
     "data": {
      "text/plain": [
       "dict_keys(['data', 'error', 'metadata'])"
      ]
     },
     "execution_count": 6,
     "metadata": {},
     "output_type": "execute_result"
    }
   ],
   "source": [
    "#checked keys to see what data we need\n",
    "req_women.json().keys()"
   ]
  },
  {
   "cell_type": "code",
   "execution_count": 94,
   "id": "8fb76d35-f4d8-4510-8e51-ea30fe27883c",
   "metadata": {
    "scrolled": true,
    "tags": []
   },
   "outputs": [
    {
     "data": {
      "text/plain": [
       "dict_keys(['data', 'error', 'metadata'])"
      ]
     },
     "execution_count": 94,
     "metadata": {},
     "output_type": "execute_result"
    }
   ],
   "source": [
    "req_women.json().keys()"
   ]
  },
  {
   "cell_type": "code",
   "execution_count": 43,
   "id": "f66cba1d-d34b-4cd9-8ab7-b8b40b7ff562",
   "metadata": {},
   "outputs": [],
   "source": [
    "#manually creating a dataframe then concating new dataframes due to pushshift api issues, this is the original dataframe\n",
    "women_df=pd.DataFrame(req_women.json()['data'])"
   ]
  },
  {
   "cell_type": "code",
   "execution_count": 47,
   "id": "f9080cc9-acda-4b67-9170-667d4d533639",
   "metadata": {},
   "outputs": [
    {
     "data": {
      "text/plain": [
       "996"
      ]
     },
     "execution_count": 47,
     "metadata": {},
     "output_type": "execute_result"
    }
   ],
   "source": [
    "#check to see how many records were pulled\n",
    "len(women_df)"
   ]
  },
  {
   "cell_type": "code",
   "execution_count": 44,
   "id": "7dc52ef8-9cd3-4365-9ebd-260de75bd77a",
   "metadata": {},
   "outputs": [
    {
     "data": {
      "text/html": [
       "<div>\n",
       "<style scoped>\n",
       "    .dataframe tbody tr th:only-of-type {\n",
       "        vertical-align: middle;\n",
       "    }\n",
       "\n",
       "    .dataframe tbody tr th {\n",
       "        vertical-align: top;\n",
       "    }\n",
       "\n",
       "    .dataframe thead th {\n",
       "        text-align: right;\n",
       "    }\n",
       "</style>\n",
       "<table border=\"1\" class=\"dataframe\">\n",
       "  <thead>\n",
       "    <tr style=\"text-align: right;\">\n",
       "      <th></th>\n",
       "      <th>subreddit</th>\n",
       "      <th>selftext</th>\n",
       "      <th>author_fullname</th>\n",
       "      <th>gilded</th>\n",
       "      <th>title</th>\n",
       "      <th>link_flair_richtext</th>\n",
       "      <th>subreddit_name_prefixed</th>\n",
       "      <th>hidden</th>\n",
       "      <th>pwls</th>\n",
       "      <th>link_flair_css_class</th>\n",
       "      <th>...</th>\n",
       "      <th>created_utc</th>\n",
       "      <th>num_crossposts</th>\n",
       "      <th>media</th>\n",
       "      <th>is_video</th>\n",
       "      <th>retrieved_utc</th>\n",
       "      <th>updated_utc</th>\n",
       "      <th>utc_datetime_str</th>\n",
       "      <th>post_hint</th>\n",
       "      <th>preview</th>\n",
       "      <th>link_flair_template_id</th>\n",
       "    </tr>\n",
       "  </thead>\n",
       "  <tbody>\n",
       "    <tr>\n",
       "      <th>995</th>\n",
       "      <td>AskWomen</td>\n",
       "      <td>[removed]</td>\n",
       "      <td>t2_9pxvqwsvf</td>\n",
       "      <td>0</td>\n",
       "      <td>How I 22 f and moms man daughter 22f</td>\n",
       "      <td>[]</td>\n",
       "      <td>r/AskWomen</td>\n",
       "      <td>False</td>\n",
       "      <td>6</td>\n",
       "      <td>None</td>\n",
       "      <td>...</td>\n",
       "      <td>1682113209</td>\n",
       "      <td>0</td>\n",
       "      <td>None</td>\n",
       "      <td>False</td>\n",
       "      <td>1682113223</td>\n",
       "      <td>1682113223</td>\n",
       "      <td>2023-04-21 21:40:09</td>\n",
       "      <td>NaN</td>\n",
       "      <td>NaN</td>\n",
       "      <td>NaN</td>\n",
       "    </tr>\n",
       "    <tr>\n",
       "      <th>994</th>\n",
       "      <td>AskWomen</td>\n",
       "      <td></td>\n",
       "      <td>t2_5g35dfr5</td>\n",
       "      <td>0</td>\n",
       "      <td>What do you think about a Muslim guy as a bf?</td>\n",
       "      <td>[]</td>\n",
       "      <td>r/AskWomen</td>\n",
       "      <td>False</td>\n",
       "      <td>6</td>\n",
       "      <td>None</td>\n",
       "      <td>...</td>\n",
       "      <td>1682113436</td>\n",
       "      <td>0</td>\n",
       "      <td>None</td>\n",
       "      <td>False</td>\n",
       "      <td>1682113448</td>\n",
       "      <td>1682113448</td>\n",
       "      <td>2023-04-21 21:43:56</td>\n",
       "      <td>NaN</td>\n",
       "      <td>NaN</td>\n",
       "      <td>NaN</td>\n",
       "    </tr>\n",
       "  </tbody>\n",
       "</table>\n",
       "<p>2 rows × 89 columns</p>\n",
       "</div>"
      ],
      "text/plain": [
       "    subreddit   selftext author_fullname  gilded  \\\n",
       "995  AskWomen  [removed]    t2_9pxvqwsvf       0   \n",
       "994  AskWomen                t2_5g35dfr5       0   \n",
       "\n",
       "                                             title link_flair_richtext  \\\n",
       "995           How I 22 f and moms man daughter 22f                  []   \n",
       "994  What do you think about a Muslim guy as a bf?                  []   \n",
       "\n",
       "    subreddit_name_prefixed  hidden  pwls link_flair_css_class  ...  \\\n",
       "995              r/AskWomen   False     6                 None  ...   \n",
       "994              r/AskWomen   False     6                 None  ...   \n",
       "\n",
       "    created_utc num_crossposts  media  is_video retrieved_utc  updated_utc  \\\n",
       "995  1682113209              0   None     False    1682113223   1682113223   \n",
       "994  1682113436              0   None     False    1682113448   1682113448   \n",
       "\n",
       "        utc_datetime_str post_hint  preview link_flair_template_id  \n",
       "995  2023-04-21 21:40:09       NaN      NaN                    NaN  \n",
       "994  2023-04-21 21:43:56       NaN      NaN                    NaN  \n",
       "\n",
       "[2 rows x 89 columns]"
      ]
     },
     "execution_count": 44,
     "metadata": {},
     "output_type": "execute_result"
    }
   ],
   "source": [
    "#get the oldest post, referenced the utc_datetime_str for more readability\n",
    "women_df.sort_values('created_utc', ascending=True).head(2)"
   ]
  },
  {
   "cell_type": "markdown",
   "id": "08fc2c19-33f4-483c-9275-4b8e9235e366",
   "metadata": {
    "jp-MarkdownHeadingCollapsed": true,
    "tags": []
   },
   "source": [
    "#### New data\n",
    "Here I simply replicated the previous code block, but added a until feature which pulls records older than the specified parameter then apended the results to the original dataframe. Ideally, This would be a function that takes in the subreddit name, size, and epoch time. Then return the dataframe which I can then use a loop to append the dataframes together."
   ]
  },
  {
   "cell_type": "code",
   "execution_count": 52,
   "id": "d75df550-5ecc-442f-9bd5-a10e38623324",
   "metadata": {},
   "outputs": [],
   "source": [
    "#creating a new parameters for the datafarme were appending\n",
    "new_women_params={\n",
    "    'subreddit': 'askwomen',\n",
    "    'size' : 1000,\n",
    "    'until' : 1682113209 #oldset post from the women data frame-- 'women_df'\n",
    "}"
   ]
  },
  {
   "cell_type": "code",
   "execution_count": 53,
   "id": "74222a95-4dca-4a45-9f02-5ca7a744469b",
   "metadata": {},
   "outputs": [],
   "source": [
    "new_women_req = requests.get(url, new_women_params)"
   ]
  },
  {
   "cell_type": "code",
   "execution_count": 54,
   "id": "129075a3-3f56-48b9-9ae1-0a507ff20c00",
   "metadata": {},
   "outputs": [],
   "source": [
    "new_women = pd.DataFrame(new_women_req.json()['data'])"
   ]
  },
  {
   "cell_type": "code",
   "execution_count": 55,
   "id": "ea5032d7-15a9-43ec-b5a1-f664479b3f12",
   "metadata": {},
   "outputs": [
    {
     "name": "stdout",
     "output_type": "stream",
     "text": [
      "999 996\n"
     ]
    }
   ],
   "source": [
    "#comparing the size of the two dataframes\n",
    "print(len(new_women), len(women_df))"
   ]
  },
  {
   "cell_type": "code",
   "execution_count": 56,
   "id": "ed0ea883-7f4d-4fca-92c0-f05db59b0c69",
   "metadata": {},
   "outputs": [
    {
     "data": {
      "text/html": [
       "<div>\n",
       "<style scoped>\n",
       "    .dataframe tbody tr th:only-of-type {\n",
       "        vertical-align: middle;\n",
       "    }\n",
       "\n",
       "    .dataframe tbody tr th {\n",
       "        vertical-align: top;\n",
       "    }\n",
       "\n",
       "    .dataframe thead th {\n",
       "        text-align: right;\n",
       "    }\n",
       "</style>\n",
       "<table border=\"1\" class=\"dataframe\">\n",
       "  <thead>\n",
       "    <tr style=\"text-align: right;\">\n",
       "      <th></th>\n",
       "      <th>subreddit</th>\n",
       "      <th>selftext</th>\n",
       "      <th>author_fullname</th>\n",
       "      <th>gilded</th>\n",
       "      <th>title</th>\n",
       "      <th>link_flair_richtext</th>\n",
       "      <th>subreddit_name_prefixed</th>\n",
       "      <th>hidden</th>\n",
       "      <th>pwls</th>\n",
       "      <th>link_flair_css_class</th>\n",
       "      <th>...</th>\n",
       "      <th>num_crossposts</th>\n",
       "      <th>media</th>\n",
       "      <th>is_video</th>\n",
       "      <th>retrieved_utc</th>\n",
       "      <th>updated_utc</th>\n",
       "      <th>utc_datetime_str</th>\n",
       "      <th>post_hint</th>\n",
       "      <th>preview</th>\n",
       "      <th>link_flair_template_id</th>\n",
       "      <th>author_cakeday</th>\n",
       "    </tr>\n",
       "  </thead>\n",
       "  <tbody>\n",
       "    <tr>\n",
       "      <th>0</th>\n",
       "      <td>AskWomen</td>\n",
       "      <td>[removed]</td>\n",
       "      <td>t2_7eati</td>\n",
       "      <td>0</td>\n",
       "      <td>Women who bartend, when is it okay to ask for ...</td>\n",
       "      <td>[]</td>\n",
       "      <td>r/AskWomen</td>\n",
       "      <td>False</td>\n",
       "      <td>6</td>\n",
       "      <td>None</td>\n",
       "      <td>...</td>\n",
       "      <td>0</td>\n",
       "      <td>None</td>\n",
       "      <td>False</td>\n",
       "      <td>1682112804</td>\n",
       "      <td>1682112805</td>\n",
       "      <td>2023-04-21 21:33:10</td>\n",
       "      <td>NaN</td>\n",
       "      <td>NaN</td>\n",
       "      <td>NaN</td>\n",
       "      <td>NaN</td>\n",
       "    </tr>\n",
       "    <tr>\n",
       "      <th>1</th>\n",
       "      <td>AskWomen</td>\n",
       "      <td></td>\n",
       "      <td>t2_vkwn0tcr</td>\n",
       "      <td>0</td>\n",
       "      <td>What job/career would you have if your mental ...</td>\n",
       "      <td>[]</td>\n",
       "      <td>r/AskWomen</td>\n",
       "      <td>False</td>\n",
       "      <td>6</td>\n",
       "      <td>None</td>\n",
       "      <td>...</td>\n",
       "      <td>0</td>\n",
       "      <td>None</td>\n",
       "      <td>False</td>\n",
       "      <td>1682112727</td>\n",
       "      <td>1682112728</td>\n",
       "      <td>2023-04-21 21:31:53</td>\n",
       "      <td>NaN</td>\n",
       "      <td>NaN</td>\n",
       "      <td>NaN</td>\n",
       "      <td>NaN</td>\n",
       "    </tr>\n",
       "    <tr>\n",
       "      <th>2</th>\n",
       "      <td>AskWomen</td>\n",
       "      <td>[removed]</td>\n",
       "      <td>t2_7f7gnzky</td>\n",
       "      <td>0</td>\n",
       "      <td>My partner of five years broke up with me unex...</td>\n",
       "      <td>[]</td>\n",
       "      <td>r/AskWomen</td>\n",
       "      <td>False</td>\n",
       "      <td>6</td>\n",
       "      <td>None</td>\n",
       "      <td>...</td>\n",
       "      <td>0</td>\n",
       "      <td>None</td>\n",
       "      <td>False</td>\n",
       "      <td>1682112224</td>\n",
       "      <td>1682112224</td>\n",
       "      <td>2023-04-21 21:23:33</td>\n",
       "      <td>NaN</td>\n",
       "      <td>NaN</td>\n",
       "      <td>NaN</td>\n",
       "      <td>NaN</td>\n",
       "    </tr>\n",
       "  </tbody>\n",
       "</table>\n",
       "<p>3 rows × 90 columns</p>\n",
       "</div>"
      ],
      "text/plain": [
       "  subreddit   selftext author_fullname  gilded  \\\n",
       "0  AskWomen  [removed]        t2_7eati       0   \n",
       "1  AskWomen                t2_vkwn0tcr       0   \n",
       "2  AskWomen  [removed]     t2_7f7gnzky       0   \n",
       "\n",
       "                                               title link_flair_richtext  \\\n",
       "0  Women who bartend, when is it okay to ask for ...                  []   \n",
       "1  What job/career would you have if your mental ...                  []   \n",
       "2  My partner of five years broke up with me unex...                  []   \n",
       "\n",
       "  subreddit_name_prefixed  hidden  pwls link_flair_css_class  ...  \\\n",
       "0              r/AskWomen   False     6                 None  ...   \n",
       "1              r/AskWomen   False     6                 None  ...   \n",
       "2              r/AskWomen   False     6                 None  ...   \n",
       "\n",
       "  num_crossposts media  is_video  retrieved_utc updated_utc  \\\n",
       "0              0  None     False     1682112804  1682112805   \n",
       "1              0  None     False     1682112727  1682112728   \n",
       "2              0  None     False     1682112224  1682112224   \n",
       "\n",
       "      utc_datetime_str post_hint preview  link_flair_template_id  \\\n",
       "0  2023-04-21 21:33:10       NaN     NaN                     NaN   \n",
       "1  2023-04-21 21:31:53       NaN     NaN                     NaN   \n",
       "2  2023-04-21 21:23:33       NaN     NaN                     NaN   \n",
       "\n",
       "  author_cakeday  \n",
       "0            NaN  \n",
       "1            NaN  \n",
       "2            NaN  \n",
       "\n",
       "[3 rows x 90 columns]"
      ]
     },
     "execution_count": 56,
     "metadata": {},
     "output_type": "execute_result"
    }
   ],
   "source": [
    "new_women.head(3)"
   ]
  },
  {
   "cell_type": "code",
   "execution_count": 57,
   "id": "20bd2c0a-c3b9-4b24-9e99-b5faa8992ffe",
   "metadata": {},
   "outputs": [],
   "source": [
    "#combine the original women data frame with the new datafame\n",
    "women_df = pd.concat([women_df, new_women])"
   ]
  },
  {
   "cell_type": "code",
   "execution_count": 87,
   "id": "b0e84d98-5f33-4931-8a30-f0ef8b8e6e27",
   "metadata": {
    "scrolled": true,
    "tags": []
   },
   "outputs": [
    {
     "name": "stdout",
     "output_type": "stream",
     "text": [
      "<class 'pandas.core.frame.DataFrame'>\n",
      "Int64Index: 1995 entries, 0 to 998\n",
      "Data columns (total 90 columns):\n",
      " #   Column                         Non-Null Count  Dtype  \n",
      "---  ------                         --------------  -----  \n",
      " 0   subreddit                      1995 non-null   object \n",
      " 1   selftext                       1995 non-null   object \n",
      " 2   author_fullname                1968 non-null   object \n",
      " 3   gilded                         1995 non-null   int64  \n",
      " 4   title                          1995 non-null   object \n",
      " 5   link_flair_richtext            1995 non-null   object \n",
      " 6   subreddit_name_prefixed        1995 non-null   object \n",
      " 7   hidden                         1995 non-null   bool   \n",
      " 8   pwls                           1995 non-null   int64  \n",
      " 9   link_flair_css_class           4 non-null      object \n",
      " 10  thumbnail_height               0 non-null      object \n",
      " 11  top_awarded_type               0 non-null      object \n",
      " 12  hide_score                     1995 non-null   bool   \n",
      " 13  quarantine                     1995 non-null   bool   \n",
      " 14  link_flair_text_color          1995 non-null   object \n",
      " 15  upvote_ratio                   1995 non-null   float64\n",
      " 16  author_flair_background_color  30 non-null     object \n",
      " 17  subreddit_type                 1995 non-null   object \n",
      " 18  total_awards_received          1995 non-null   int64  \n",
      " 19  media_embed                    1995 non-null   object \n",
      " 20  thumbnail_width                0 non-null      object \n",
      " 21  author_flair_template_id       37 non-null     object \n",
      " 22  is_original_content            1995 non-null   bool   \n",
      " 23  secure_media                   0 non-null      object \n",
      " 24  is_reddit_media_domain         1995 non-null   bool   \n",
      " 25  is_meta                        1995 non-null   bool   \n",
      " 26  category                       0 non-null      object \n",
      " 27  secure_media_embed             1995 non-null   object \n",
      " 28  link_flair_text                4 non-null      object \n",
      " 29  score                          1995 non-null   int64  \n",
      " 30  is_created_from_ads_ui         1995 non-null   bool   \n",
      " 31  author_premium                 1968 non-null   object \n",
      " 32  thumbnail                      1995 non-null   object \n",
      " 33  edited                         1995 non-null   bool   \n",
      " 34  author_flair_css_class         40 non-null     object \n",
      " 35  author_flair_richtext          1968 non-null   object \n",
      " 36  gildings                       1995 non-null   object \n",
      " 37  content_categories             0 non-null      object \n",
      " 38  is_self                        1995 non-null   bool   \n",
      " 39  link_flair_type                1995 non-null   object \n",
      " 40  wls                            1995 non-null   int64  \n",
      " 41  removed_by_category            1632 non-null   object \n",
      " 42  author_flair_type              1968 non-null   object \n",
      " 43  domain                         1995 non-null   object \n",
      " 44  allow_live_comments            1995 non-null   bool   \n",
      " 45  suggested_sort                 1995 non-null   object \n",
      " 46  view_count                     0 non-null      object \n",
      " 47  archived                       1995 non-null   bool   \n",
      " 48  no_follow                      1995 non-null   bool   \n",
      " 49  is_crosspostable               1995 non-null   bool   \n",
      " 50  pinned                         1995 non-null   bool   \n",
      " 51  over_18                        1995 non-null   bool   \n",
      " 52  all_awardings                  1995 non-null   object \n",
      " 53  awarders                       1995 non-null   object \n",
      " 54  media_only                     1995 non-null   bool   \n",
      " 55  can_gild                       1995 non-null   bool   \n",
      " 56  spoiler                        1995 non-null   bool   \n",
      " 57  locked                         1995 non-null   bool   \n",
      " 58  author_flair_text              40 non-null     object \n",
      " 59  treatment_tags                 1995 non-null   object \n",
      " 60  removed_by                     0 non-null      object \n",
      " 61  distinguished                  0 non-null      object \n",
      " 62  subreddit_id                   1995 non-null   object \n",
      " 63  link_flair_background_color    1995 non-null   object \n",
      " 64  id                             1995 non-null   object \n",
      " 65  is_robot_indexable             1995 non-null   bool   \n",
      " 66  author                         1995 non-null   object \n",
      " 67  discussion_type                0 non-null      object \n",
      " 68  num_comments                   1995 non-null   int64  \n",
      " 69  send_replies                   1995 non-null   bool   \n",
      " 70  whitelist_status               1995 non-null   object \n",
      " 71  contest_mode                   1995 non-null   bool   \n",
      " 72  author_patreon_flair           1968 non-null   object \n",
      " 73  author_flair_text_color        67 non-null     object \n",
      " 74  permalink                      1995 non-null   object \n",
      " 75  parent_whitelist_status        1995 non-null   object \n",
      " 76  stickied                       1995 non-null   bool   \n",
      " 77  url                            1995 non-null   object \n",
      " 78  subreddit_subscribers          1995 non-null   int64  \n",
      " 79  created_utc                    1995 non-null   int64  \n",
      " 80  num_crossposts                 1995 non-null   int64  \n",
      " 81  media                          0 non-null      object \n",
      " 82  is_video                       1995 non-null   bool   \n",
      " 83  retrieved_utc                  1995 non-null   int64  \n",
      " 84  updated_utc                    1995 non-null   int64  \n",
      " 85  utc_datetime_str               1995 non-null   object \n",
      " 86  post_hint                      17 non-null     object \n",
      " 87  preview                        17 non-null     object \n",
      " 88  link_flair_template_id         4 non-null      object \n",
      " 89  author_cakeday                 3 non-null      object \n",
      "dtypes: bool(24), float64(1), int64(11), object(54)\n",
      "memory usage: 1.1+ MB\n"
     ]
    }
   ],
   "source": [
    "#see total rows, missing values, and an overview of the dataframe\n",
    "women_df.info()"
   ]
  },
  {
   "cell_type": "code",
   "execution_count": 60,
   "id": "fe501972-6611-4908-9398-a62d9c187488",
   "metadata": {},
   "outputs": [],
   "source": [
    "women_df.to_csv('../Data/women.csv', index=False)"
   ]
  },
  {
   "cell_type": "markdown",
   "id": "b2d7771f-f2b7-4497-a37e-f95e9dd70035",
   "metadata": {
    "jp-MarkdownHeadingCollapsed": true,
    "tags": []
   },
   "source": [
    "### Men"
   ]
  },
  {
   "cell_type": "markdown",
   "id": "fc1184fd-f59d-4aa1-899c-6a2a593c150b",
   "metadata": {
    "jp-MarkdownHeadingCollapsed": true,
    "tags": []
   },
   "source": [
    "#### Inital datafame\n",
    "Due to instability of the API I wanted to created an inital dataframe and manually append new data. I was afraid of using a loop and have issues with API timeouts or getting blocked."
   ]
  },
  {
   "cell_type": "code",
   "execution_count": 61,
   "id": "1b0a7b79-cc5e-4466-9269-2e8018fff78f",
   "metadata": {},
   "outputs": [],
   "source": [
    "#params to get the 1000 newest posts from the askmen subreddit\n",
    "men_params={\n",
    "    'subreddit': 'askmen',\n",
    "    'size' : 1000\n",
    "}"
   ]
  },
  {
   "cell_type": "code",
   "execution_count": 62,
   "id": "a6304bcf-d4c6-434a-b76b-dba4ec270763",
   "metadata": {},
   "outputs": [],
   "source": [
    "req_men = requests.get(url, men_params)"
   ]
  },
  {
   "cell_type": "code",
   "execution_count": 63,
   "id": "770b8e0d-e115-446a-a0cd-9bf73b30caed",
   "metadata": {},
   "outputs": [
    {
     "name": "stdout",
     "output_type": "stream",
     "text": [
      " men response code: <Response [200]>\n"
     ]
    }
   ],
   "source": [
    "print(f' men response code: {req_men}')"
   ]
  },
  {
   "cell_type": "code",
   "execution_count": 64,
   "id": "feb9feab-5cc8-4757-b75c-80b89a1d5e59",
   "metadata": {},
   "outputs": [],
   "source": [
    "#manually creating a dataframe then concating new dataframes due to pushshift api issues, this is the original dataframe\n",
    "men_df=pd.DataFrame(req_men.json()['data'])"
   ]
  },
  {
   "cell_type": "code",
   "execution_count": 65,
   "id": "67c9550b-5c8a-40b1-9409-9d91a8e45731",
   "metadata": {},
   "outputs": [
    {
     "data": {
      "text/plain": [
       "999"
      ]
     },
     "execution_count": 65,
     "metadata": {},
     "output_type": "execute_result"
    }
   ],
   "source": [
    "#check to see how many records were pulled\n",
    "len(men_df)"
   ]
  },
  {
   "cell_type": "code",
   "execution_count": 68,
   "id": "3b60e1fa-a307-4657-ac57-f36256f5b5bb",
   "metadata": {},
   "outputs": [
    {
     "data": {
      "text/html": [
       "<div>\n",
       "<style scoped>\n",
       "    .dataframe tbody tr th:only-of-type {\n",
       "        vertical-align: middle;\n",
       "    }\n",
       "\n",
       "    .dataframe tbody tr th {\n",
       "        vertical-align: top;\n",
       "    }\n",
       "\n",
       "    .dataframe thead th {\n",
       "        text-align: right;\n",
       "    }\n",
       "</style>\n",
       "<table border=\"1\" class=\"dataframe\">\n",
       "  <thead>\n",
       "    <tr style=\"text-align: right;\">\n",
       "      <th></th>\n",
       "      <th>subreddit</th>\n",
       "      <th>selftext</th>\n",
       "      <th>author_fullname</th>\n",
       "      <th>gilded</th>\n",
       "      <th>title</th>\n",
       "      <th>link_flair_richtext</th>\n",
       "      <th>subreddit_name_prefixed</th>\n",
       "      <th>hidden</th>\n",
       "      <th>pwls</th>\n",
       "      <th>link_flair_css_class</th>\n",
       "      <th>...</th>\n",
       "      <th>created_utc</th>\n",
       "      <th>num_crossposts</th>\n",
       "      <th>media</th>\n",
       "      <th>is_video</th>\n",
       "      <th>retrieved_utc</th>\n",
       "      <th>updated_utc</th>\n",
       "      <th>utc_datetime_str</th>\n",
       "      <th>post_hint</th>\n",
       "      <th>preview</th>\n",
       "      <th>author_cakeday</th>\n",
       "    </tr>\n",
       "  </thead>\n",
       "  <tbody>\n",
       "    <tr>\n",
       "      <th>998</th>\n",
       "      <td>AskMen</td>\n",
       "      <td></td>\n",
       "      <td>t2_969ax2xq8</td>\n",
       "      <td>0</td>\n",
       "      <td>Thoughts on Bollywood movies and why?</td>\n",
       "      <td>[]</td>\n",
       "      <td>r/AskMen</td>\n",
       "      <td>False</td>\n",
       "      <td>6</td>\n",
       "      <td>None</td>\n",
       "      <td>...</td>\n",
       "      <td>1682195470</td>\n",
       "      <td>0</td>\n",
       "      <td>None</td>\n",
       "      <td>False</td>\n",
       "      <td>1682195488</td>\n",
       "      <td>1682195488</td>\n",
       "      <td>2023-04-22 20:31:10</td>\n",
       "      <td>NaN</td>\n",
       "      <td>NaN</td>\n",
       "      <td>NaN</td>\n",
       "    </tr>\n",
       "    <tr>\n",
       "      <th>997</th>\n",
       "      <td>AskMen</td>\n",
       "      <td></td>\n",
       "      <td>t2_mjo8y3q1</td>\n",
       "      <td>0</td>\n",
       "      <td>Do some guys not like kissing during sex ?</td>\n",
       "      <td>[]</td>\n",
       "      <td>r/AskMen</td>\n",
       "      <td>False</td>\n",
       "      <td>6</td>\n",
       "      <td>None</td>\n",
       "      <td>...</td>\n",
       "      <td>1682195591</td>\n",
       "      <td>0</td>\n",
       "      <td>None</td>\n",
       "      <td>False</td>\n",
       "      <td>1682195604</td>\n",
       "      <td>1682195605</td>\n",
       "      <td>2023-04-22 20:33:11</td>\n",
       "      <td>NaN</td>\n",
       "      <td>NaN</td>\n",
       "      <td>NaN</td>\n",
       "    </tr>\n",
       "    <tr>\n",
       "      <th>996</th>\n",
       "      <td>AskMen</td>\n",
       "      <td></td>\n",
       "      <td>t2_8ywwtdo2p</td>\n",
       "      <td>0</td>\n",
       "      <td>my girlfriend &amp;amp; I just broke up, suspectin...</td>\n",
       "      <td>[]</td>\n",
       "      <td>r/AskMen</td>\n",
       "      <td>False</td>\n",
       "      <td>6</td>\n",
       "      <td>None</td>\n",
       "      <td>...</td>\n",
       "      <td>1682195624</td>\n",
       "      <td>0</td>\n",
       "      <td>None</td>\n",
       "      <td>False</td>\n",
       "      <td>1682195636</td>\n",
       "      <td>1682195636</td>\n",
       "      <td>2023-04-22 20:33:44</td>\n",
       "      <td>NaN</td>\n",
       "      <td>NaN</td>\n",
       "      <td>NaN</td>\n",
       "    </tr>\n",
       "  </tbody>\n",
       "</table>\n",
       "<p>3 rows × 89 columns</p>\n",
       "</div>"
      ],
      "text/plain": [
       "    subreddit selftext author_fullname  gilded  \\\n",
       "998    AskMen             t2_969ax2xq8       0   \n",
       "997    AskMen              t2_mjo8y3q1       0   \n",
       "996    AskMen             t2_8ywwtdo2p       0   \n",
       "\n",
       "                                                 title link_flair_richtext  \\\n",
       "998              Thoughts on Bollywood movies and why?                  []   \n",
       "997         Do some guys not like kissing during sex ?                  []   \n",
       "996  my girlfriend &amp; I just broke up, suspectin...                  []   \n",
       "\n",
       "    subreddit_name_prefixed  hidden  pwls link_flair_css_class  ...  \\\n",
       "998                r/AskMen   False     6                 None  ...   \n",
       "997                r/AskMen   False     6                 None  ...   \n",
       "996                r/AskMen   False     6                 None  ...   \n",
       "\n",
       "    created_utc num_crossposts  media  is_video retrieved_utc  updated_utc  \\\n",
       "998  1682195470              0   None     False    1682195488   1682195488   \n",
       "997  1682195591              0   None     False    1682195604   1682195605   \n",
       "996  1682195624              0   None     False    1682195636   1682195636   \n",
       "\n",
       "        utc_datetime_str post_hint  preview author_cakeday  \n",
       "998  2023-04-22 20:31:10       NaN      NaN            NaN  \n",
       "997  2023-04-22 20:33:11       NaN      NaN            NaN  \n",
       "996  2023-04-22 20:33:44       NaN      NaN            NaN  \n",
       "\n",
       "[3 rows x 89 columns]"
      ]
     },
     "execution_count": 68,
     "metadata": {},
     "output_type": "execute_result"
    }
   ],
   "source": [
    "men_df.sort_values('created_utc', ascending=True).head(3)"
   ]
  },
  {
   "cell_type": "markdown",
   "id": "7e64c3ca-a886-4f13-ab15-f5b79c4a2ce5",
   "metadata": {
    "tags": []
   },
   "source": [
    "#### New data\n",
    "Here I simply replicated the previous code block, but added a until feature which pulls records older than the specified parameter then apended the results to the original dataframe. Ideally, This would be a function that takes in the subreddit name, size, and epoch time. Then return the dataframe which I can then use a loop to append the dataframes together."
   ]
  },
  {
   "cell_type": "code",
   "execution_count": 69,
   "id": "532ab783-6b99-429d-ac2d-5152d5384852",
   "metadata": {},
   "outputs": [],
   "source": [
    "new_men_params={\n",
    "    'subreddit': 'askmen',\n",
    "    'size' : 1000,\n",
    "    'until' : 1682195470\n",
    "}"
   ]
  },
  {
   "cell_type": "code",
   "execution_count": 70,
   "id": "045e1787-32c1-45d5-8197-19153c3d9fa6",
   "metadata": {},
   "outputs": [],
   "source": [
    "new_men_req = requests.get(url, new_men_params)"
   ]
  },
  {
   "cell_type": "code",
   "execution_count": 71,
   "id": "00fb2040-8873-42b2-920d-e7d6016e5f9e",
   "metadata": {},
   "outputs": [],
   "source": [
    "new_men = pd.DataFrame(new_men_req.json()['data'])"
   ]
  },
  {
   "cell_type": "code",
   "execution_count": 72,
   "id": "a5c0432b-ad00-44fb-9380-ec3045e80c68",
   "metadata": {},
   "outputs": [
    {
     "name": "stdout",
     "output_type": "stream",
     "text": [
      "998 999\n"
     ]
    }
   ],
   "source": [
    "print(len(new_men), len(men_df))"
   ]
  },
  {
   "cell_type": "code",
   "execution_count": 73,
   "id": "1ccdfc74-13f0-4416-b641-b413c0b61778",
   "metadata": {},
   "outputs": [
    {
     "data": {
      "text/html": [
       "<div>\n",
       "<style scoped>\n",
       "    .dataframe tbody tr th:only-of-type {\n",
       "        vertical-align: middle;\n",
       "    }\n",
       "\n",
       "    .dataframe tbody tr th {\n",
       "        vertical-align: top;\n",
       "    }\n",
       "\n",
       "    .dataframe thead th {\n",
       "        text-align: right;\n",
       "    }\n",
       "</style>\n",
       "<table border=\"1\" class=\"dataframe\">\n",
       "  <thead>\n",
       "    <tr style=\"text-align: right;\">\n",
       "      <th></th>\n",
       "      <th>subreddit</th>\n",
       "      <th>selftext</th>\n",
       "      <th>author_fullname</th>\n",
       "      <th>gilded</th>\n",
       "      <th>title</th>\n",
       "      <th>link_flair_richtext</th>\n",
       "      <th>subreddit_name_prefixed</th>\n",
       "      <th>hidden</th>\n",
       "      <th>pwls</th>\n",
       "      <th>link_flair_css_class</th>\n",
       "      <th>...</th>\n",
       "      <th>created_utc</th>\n",
       "      <th>num_crossposts</th>\n",
       "      <th>media</th>\n",
       "      <th>is_video</th>\n",
       "      <th>retrieved_utc</th>\n",
       "      <th>updated_utc</th>\n",
       "      <th>utc_datetime_str</th>\n",
       "      <th>post_hint</th>\n",
       "      <th>preview</th>\n",
       "      <th>author_cakeday</th>\n",
       "    </tr>\n",
       "  </thead>\n",
       "  <tbody>\n",
       "    <tr>\n",
       "      <th>0</th>\n",
       "      <td>AskMen</td>\n",
       "      <td>[removed]</td>\n",
       "      <td>t2_wa2icro</td>\n",
       "      <td>0</td>\n",
       "      <td>Do men care about very muscular women?</td>\n",
       "      <td>[]</td>\n",
       "      <td>r/AskMen</td>\n",
       "      <td>False</td>\n",
       "      <td>6</td>\n",
       "      <td>None</td>\n",
       "      <td>...</td>\n",
       "      <td>1682195369</td>\n",
       "      <td>0</td>\n",
       "      <td>None</td>\n",
       "      <td>False</td>\n",
       "      <td>1682195385</td>\n",
       "      <td>1682195386</td>\n",
       "      <td>2023-04-22 20:29:29</td>\n",
       "      <td>NaN</td>\n",
       "      <td>NaN</td>\n",
       "      <td>NaN</td>\n",
       "    </tr>\n",
       "    <tr>\n",
       "      <th>1</th>\n",
       "      <td>AskMen</td>\n",
       "      <td>[removed]</td>\n",
       "      <td>t2_7jcvcqwk</td>\n",
       "      <td>0</td>\n",
       "      <td>My(23M) gf’s(26F) dad was diagnosed with cance...</td>\n",
       "      <td>[]</td>\n",
       "      <td>r/AskMen</td>\n",
       "      <td>False</td>\n",
       "      <td>6</td>\n",
       "      <td>None</td>\n",
       "      <td>...</td>\n",
       "      <td>1682194947</td>\n",
       "      <td>0</td>\n",
       "      <td>None</td>\n",
       "      <td>False</td>\n",
       "      <td>1682194962</td>\n",
       "      <td>1682194963</td>\n",
       "      <td>2023-04-22 20:22:27</td>\n",
       "      <td>NaN</td>\n",
       "      <td>NaN</td>\n",
       "      <td>NaN</td>\n",
       "    </tr>\n",
       "    <tr>\n",
       "      <th>2</th>\n",
       "      <td>AskMen</td>\n",
       "      <td>[removed]</td>\n",
       "      <td>t2_wa2icro</td>\n",
       "      <td>0</td>\n",
       "      <td>Do men care about women having muscles?</td>\n",
       "      <td>[]</td>\n",
       "      <td>r/AskMen</td>\n",
       "      <td>False</td>\n",
       "      <td>6</td>\n",
       "      <td>None</td>\n",
       "      <td>...</td>\n",
       "      <td>1682194901</td>\n",
       "      <td>0</td>\n",
       "      <td>None</td>\n",
       "      <td>False</td>\n",
       "      <td>1682194920</td>\n",
       "      <td>1682194921</td>\n",
       "      <td>2023-04-22 20:21:41</td>\n",
       "      <td>NaN</td>\n",
       "      <td>NaN</td>\n",
       "      <td>NaN</td>\n",
       "    </tr>\n",
       "  </tbody>\n",
       "</table>\n",
       "<p>3 rows × 89 columns</p>\n",
       "</div>"
      ],
      "text/plain": [
       "  subreddit   selftext author_fullname  gilded  \\\n",
       "0    AskMen  [removed]      t2_wa2icro       0   \n",
       "1    AskMen  [removed]     t2_7jcvcqwk       0   \n",
       "2    AskMen  [removed]      t2_wa2icro       0   \n",
       "\n",
       "                                               title link_flair_richtext  \\\n",
       "0             Do men care about very muscular women?                  []   \n",
       "1  My(23M) gf’s(26F) dad was diagnosed with cance...                  []   \n",
       "2            Do men care about women having muscles?                  []   \n",
       "\n",
       "  subreddit_name_prefixed  hidden  pwls link_flair_css_class  ... created_utc  \\\n",
       "0                r/AskMen   False     6                 None  ...  1682195369   \n",
       "1                r/AskMen   False     6                 None  ...  1682194947   \n",
       "2                r/AskMen   False     6                 None  ...  1682194901   \n",
       "\n",
       "  num_crossposts  media  is_video retrieved_utc  updated_utc  \\\n",
       "0              0   None     False    1682195385   1682195386   \n",
       "1              0   None     False    1682194962   1682194963   \n",
       "2              0   None     False    1682194920   1682194921   \n",
       "\n",
       "      utc_datetime_str post_hint  preview author_cakeday  \n",
       "0  2023-04-22 20:29:29       NaN      NaN            NaN  \n",
       "1  2023-04-22 20:22:27       NaN      NaN            NaN  \n",
       "2  2023-04-22 20:21:41       NaN      NaN            NaN  \n",
       "\n",
       "[3 rows x 89 columns]"
      ]
     },
     "execution_count": 73,
     "metadata": {},
     "output_type": "execute_result"
    }
   ],
   "source": [
    "#check the first few rows of men\n",
    "new_men.head(3)"
   ]
  },
  {
   "cell_type": "code",
   "execution_count": 74,
   "id": "996b3d13-5be9-44b7-bd02-ba9c6c66c57b",
   "metadata": {},
   "outputs": [],
   "source": [
    "men_df = pd.concat([men_df,new_men])"
   ]
  },
  {
   "cell_type": "code",
   "execution_count": 86,
   "id": "3b791885-e8af-4b4e-9102-36cbe21492f4",
   "metadata": {
    "scrolled": true,
    "tags": []
   },
   "outputs": [
    {
     "name": "stdout",
     "output_type": "stream",
     "text": [
      "<class 'pandas.core.frame.DataFrame'>\n",
      "Int64Index: 1997 entries, 0 to 997\n",
      "Data columns (total 89 columns):\n",
      " #   Column                         Non-Null Count  Dtype  \n",
      "---  ------                         --------------  -----  \n",
      " 0   subreddit                      1997 non-null   object \n",
      " 1   selftext                       1997 non-null   object \n",
      " 2   author_fullname                1946 non-null   object \n",
      " 3   gilded                         1997 non-null   int64  \n",
      " 4   title                          1997 non-null   object \n",
      " 5   link_flair_richtext            1997 non-null   object \n",
      " 6   subreddit_name_prefixed        1997 non-null   object \n",
      " 7   hidden                         1997 non-null   bool   \n",
      " 8   pwls                           1997 non-null   int64  \n",
      " 9   link_flair_css_class           0 non-null      object \n",
      " 10  thumbnail_height               0 non-null      object \n",
      " 11  top_awarded_type               0 non-null      object \n",
      " 12  hide_score                     1997 non-null   bool   \n",
      " 13  quarantine                     1997 non-null   bool   \n",
      " 14  link_flair_text_color          1997 non-null   object \n",
      " 15  upvote_ratio                   1997 non-null   float64\n",
      " 16  author_flair_background_color  103 non-null    object \n",
      " 17  subreddit_type                 1997 non-null   object \n",
      " 18  total_awards_received          1997 non-null   int64  \n",
      " 19  media_embed                    1997 non-null   object \n",
      " 20  thumbnail_width                0 non-null      object \n",
      " 21  author_flair_template_id       51 non-null     object \n",
      " 22  is_original_content            1997 non-null   bool   \n",
      " 23  secure_media                   0 non-null      object \n",
      " 24  is_reddit_media_domain         1997 non-null   bool   \n",
      " 25  is_meta                        1997 non-null   bool   \n",
      " 26  category                       0 non-null      object \n",
      " 27  secure_media_embed             1997 non-null   object \n",
      " 28  link_flair_text                0 non-null      object \n",
      " 29  score                          1997 non-null   int64  \n",
      " 30  is_created_from_ads_ui         1997 non-null   bool   \n",
      " 31  author_premium                 1946 non-null   object \n",
      " 32  thumbnail                      1997 non-null   object \n",
      " 33  edited                         1997 non-null   bool   \n",
      " 34  author_flair_css_class         52 non-null     object \n",
      " 35  author_flair_richtext          1946 non-null   object \n",
      " 36  gildings                       1997 non-null   object \n",
      " 37  content_categories             0 non-null      object \n",
      " 38  is_self                        1997 non-null   bool   \n",
      " 39  link_flair_type                1997 non-null   object \n",
      " 40  wls                            1997 non-null   int64  \n",
      " 41  removed_by_category            1352 non-null   object \n",
      " 42  author_flair_type              1946 non-null   object \n",
      " 43  domain                         1997 non-null   object \n",
      " 44  allow_live_comments            1997 non-null   bool   \n",
      " 45  suggested_sort                 0 non-null      object \n",
      " 46  view_count                     0 non-null      object \n",
      " 47  archived                       1997 non-null   bool   \n",
      " 48  no_follow                      1997 non-null   bool   \n",
      " 49  is_crosspostable               1997 non-null   bool   \n",
      " 50  pinned                         1997 non-null   bool   \n",
      " 51  over_18                        1997 non-null   bool   \n",
      " 52  all_awardings                  1997 non-null   object \n",
      " 53  awarders                       1997 non-null   object \n",
      " 54  media_only                     1997 non-null   bool   \n",
      " 55  can_gild                       1997 non-null   bool   \n",
      " 56  spoiler                        1997 non-null   bool   \n",
      " 57  locked                         1997 non-null   bool   \n",
      " 58  author_flair_text              54 non-null     object \n",
      " 59  treatment_tags                 1997 non-null   object \n",
      " 60  removed_by                     0 non-null      object \n",
      " 61  distinguished                  0 non-null      object \n",
      " 62  subreddit_id                   1997 non-null   object \n",
      " 63  link_flair_background_color    1997 non-null   object \n",
      " 64  id                             1997 non-null   object \n",
      " 65  is_robot_indexable             1997 non-null   bool   \n",
      " 66  author                         1997 non-null   object \n",
      " 67  discussion_type                0 non-null      object \n",
      " 68  num_comments                   1997 non-null   int64  \n",
      " 69  send_replies                   1997 non-null   bool   \n",
      " 70  whitelist_status               1997 non-null   object \n",
      " 71  contest_mode                   1997 non-null   bool   \n",
      " 72  author_patreon_flair           1946 non-null   object \n",
      " 73  author_flair_text_color        105 non-null    object \n",
      " 74  permalink                      1997 non-null   object \n",
      " 75  parent_whitelist_status        1997 non-null   object \n",
      " 76  stickied                       1997 non-null   bool   \n",
      " 77  url                            1997 non-null   object \n",
      " 78  subreddit_subscribers          1997 non-null   int64  \n",
      " 79  created_utc                    1997 non-null   int64  \n",
      " 80  num_crossposts                 1997 non-null   int64  \n",
      " 81  media                          0 non-null      object \n",
      " 82  is_video                       1997 non-null   bool   \n",
      " 83  retrieved_utc                  1997 non-null   int64  \n",
      " 84  updated_utc                    1997 non-null   int64  \n",
      " 85  utc_datetime_str               1997 non-null   object \n",
      " 86  post_hint                      11 non-null     object \n",
      " 87  preview                        11 non-null     object \n",
      " 88  author_cakeday                 3 non-null      object \n",
      "dtypes: bool(24), float64(1), int64(11), object(53)\n",
      "memory usage: 1.1+ MB\n"
     ]
    }
   ],
   "source": [
    "#see total rows, missing values, and an overview of the dataframe\n",
    "men_df.info()"
   ]
  },
  {
   "cell_type": "code",
   "execution_count": 77,
   "id": "2e3e7b60-c24b-42d2-9d4c-dd96c15a6c6f",
   "metadata": {},
   "outputs": [],
   "source": [
    "men_df.to_csv('../Data/ask_men.csv', index=False)"
   ]
  },
  {
   "cell_type": "markdown",
   "id": "ff9956a3-eec0-4b3f-9959-776004566ba4",
   "metadata": {
    "tags": []
   },
   "source": [
    "## Combine data"
   ]
  },
  {
   "cell_type": "code",
   "execution_count": 88,
   "id": "a7bc4822-e7b5-4331-b441-d9f44a89bb0b",
   "metadata": {},
   "outputs": [],
   "source": [
    "sub_reddit_data = pd.concat([women_df, men_df])"
   ]
  },
  {
   "cell_type": "code",
   "execution_count": 89,
   "id": "ed11f5a7-bad6-46ec-852f-eddcdbbdae5c",
   "metadata": {
    "scrolled": true,
    "tags": []
   },
   "outputs": [
    {
     "name": "stdout",
     "output_type": "stream",
     "text": [
      "<class 'pandas.core.frame.DataFrame'>\n",
      "Int64Index: 3992 entries, 0 to 997\n",
      "Data columns (total 90 columns):\n",
      " #   Column                         Non-Null Count  Dtype  \n",
      "---  ------                         --------------  -----  \n",
      " 0   subreddit                      3992 non-null   object \n",
      " 1   selftext                       3992 non-null   object \n",
      " 2   author_fullname                3914 non-null   object \n",
      " 3   gilded                         3992 non-null   int64  \n",
      " 4   title                          3992 non-null   object \n",
      " 5   link_flair_richtext            3992 non-null   object \n",
      " 6   subreddit_name_prefixed        3992 non-null   object \n",
      " 7   hidden                         3992 non-null   bool   \n",
      " 8   pwls                           3992 non-null   int64  \n",
      " 9   link_flair_css_class           4 non-null      object \n",
      " 10  thumbnail_height               0 non-null      object \n",
      " 11  top_awarded_type               0 non-null      object \n",
      " 12  hide_score                     3992 non-null   bool   \n",
      " 13  quarantine                     3992 non-null   bool   \n",
      " 14  link_flair_text_color          3992 non-null   object \n",
      " 15  upvote_ratio                   3992 non-null   float64\n",
      " 16  author_flair_background_color  133 non-null    object \n",
      " 17  subreddit_type                 3992 non-null   object \n",
      " 18  total_awards_received          3992 non-null   int64  \n",
      " 19  media_embed                    3992 non-null   object \n",
      " 20  thumbnail_width                0 non-null      object \n",
      " 21  author_flair_template_id       88 non-null     object \n",
      " 22  is_original_content            3992 non-null   bool   \n",
      " 23  secure_media                   0 non-null      object \n",
      " 24  is_reddit_media_domain         3992 non-null   bool   \n",
      " 25  is_meta                        3992 non-null   bool   \n",
      " 26  category                       0 non-null      object \n",
      " 27  secure_media_embed             3992 non-null   object \n",
      " 28  link_flair_text                4 non-null      object \n",
      " 29  score                          3992 non-null   int64  \n",
      " 30  is_created_from_ads_ui         3992 non-null   bool   \n",
      " 31  author_premium                 3914 non-null   object \n",
      " 32  thumbnail                      3992 non-null   object \n",
      " 33  edited                         3992 non-null   bool   \n",
      " 34  author_flair_css_class         92 non-null     object \n",
      " 35  author_flair_richtext          3914 non-null   object \n",
      " 36  gildings                       3992 non-null   object \n",
      " 37  content_categories             0 non-null      object \n",
      " 38  is_self                        3992 non-null   bool   \n",
      " 39  link_flair_type                3992 non-null   object \n",
      " 40  wls                            3992 non-null   int64  \n",
      " 41  removed_by_category            2984 non-null   object \n",
      " 42  author_flair_type              3914 non-null   object \n",
      " 43  domain                         3992 non-null   object \n",
      " 44  allow_live_comments            3992 non-null   bool   \n",
      " 45  suggested_sort                 1995 non-null   object \n",
      " 46  view_count                     0 non-null      object \n",
      " 47  archived                       3992 non-null   bool   \n",
      " 48  no_follow                      3992 non-null   bool   \n",
      " 49  is_crosspostable               3992 non-null   bool   \n",
      " 50  pinned                         3992 non-null   bool   \n",
      " 51  over_18                        3992 non-null   bool   \n",
      " 52  all_awardings                  3992 non-null   object \n",
      " 53  awarders                       3992 non-null   object \n",
      " 54  media_only                     3992 non-null   bool   \n",
      " 55  can_gild                       3992 non-null   bool   \n",
      " 56  spoiler                        3992 non-null   bool   \n",
      " 57  locked                         3992 non-null   bool   \n",
      " 58  author_flair_text              94 non-null     object \n",
      " 59  treatment_tags                 3992 non-null   object \n",
      " 60  removed_by                     0 non-null      object \n",
      " 61  distinguished                  0 non-null      object \n",
      " 62  subreddit_id                   3992 non-null   object \n",
      " 63  link_flair_background_color    3992 non-null   object \n",
      " 64  id                             3992 non-null   object \n",
      " 65  is_robot_indexable             3992 non-null   bool   \n",
      " 66  author                         3992 non-null   object \n",
      " 67  discussion_type                0 non-null      object \n",
      " 68  num_comments                   3992 non-null   int64  \n",
      " 69  send_replies                   3992 non-null   bool   \n",
      " 70  whitelist_status               3992 non-null   object \n",
      " 71  contest_mode                   3992 non-null   bool   \n",
      " 72  author_patreon_flair           3914 non-null   object \n",
      " 73  author_flair_text_color        172 non-null    object \n",
      " 74  permalink                      3992 non-null   object \n",
      " 75  parent_whitelist_status        3992 non-null   object \n",
      " 76  stickied                       3992 non-null   bool   \n",
      " 77  url                            3992 non-null   object \n",
      " 78  subreddit_subscribers          3992 non-null   int64  \n",
      " 79  created_utc                    3992 non-null   int64  \n",
      " 80  num_crossposts                 3992 non-null   int64  \n",
      " 81  media                          0 non-null      object \n",
      " 82  is_video                       3992 non-null   bool   \n",
      " 83  retrieved_utc                  3992 non-null   int64  \n",
      " 84  updated_utc                    3992 non-null   int64  \n",
      " 85  utc_datetime_str               3992 non-null   object \n",
      " 86  post_hint                      28 non-null     object \n",
      " 87  preview                        28 non-null     object \n",
      " 88  link_flair_template_id         4 non-null      object \n",
      " 89  author_cakeday                 6 non-null      object \n",
      "dtypes: bool(24), float64(1), int64(11), object(54)\n",
      "memory usage: 2.1+ MB\n"
     ]
    }
   ],
   "source": [
    "sub_reddit_data.info()"
   ]
  },
  {
   "cell_type": "code",
   "execution_count": 1,
   "id": "c5b114d3-832e-4118-b5e5-a3d6ef14279a",
   "metadata": {},
   "outputs": [
    {
     "ename": "NameError",
     "evalue": "name 'sub_reddit_data' is not defined",
     "output_type": "error",
     "traceback": [
      "\u001b[1;31m---------------------------------------------------------------------------\u001b[0m",
      "\u001b[1;31mNameError\u001b[0m                                 Traceback (most recent call last)",
      "\u001b[1;32m~\\AppData\\Local\\Temp\\ipykernel_6340\\748592462.py\u001b[0m in \u001b[0;36m<module>\u001b[1;34m\u001b[0m\n\u001b[1;32m----> 1\u001b[1;33m \u001b[0msub_reddit_data\u001b[0m\u001b[1;33m[\u001b[0m\u001b[1;34m'subreddit'\u001b[0m\u001b[1;33m]\u001b[0m\u001b[1;33m.\u001b[0m\u001b[0mvalue_counts\u001b[0m\u001b[1;33m(\u001b[0m\u001b[1;33m)\u001b[0m\u001b[1;33m\u001b[0m\u001b[1;33m\u001b[0m\u001b[0m\n\u001b[0m",
      "\u001b[1;31mNameError\u001b[0m: name 'sub_reddit_data' is not defined"
     ]
    }
   ],
   "source": [
    "sub_reddit_data['subreddit'].value_counts()"
   ]
  },
  {
   "cell_type": "code",
   "execution_count": 95,
   "id": "bcff09da-0adb-4ed5-820f-2123623b1a64",
   "metadata": {},
   "outputs": [],
   "source": [
    "sub_reddit_data.to_csv('../Data/sub_reddit_data.csv', index=False)"
   ]
  }
 ],
 "metadata": {
  "kernelspec": {
   "display_name": "Python 3 (ipykernel)",
   "language": "python",
   "name": "python3"
  },
  "language_info": {
   "codemirror_mode": {
    "name": "ipython",
    "version": 3
   },
   "file_extension": ".py",
   "mimetype": "text/x-python",
   "name": "python",
   "nbconvert_exporter": "python",
   "pygments_lexer": "ipython3",
   "version": "3.9.13"
  }
 },
 "nbformat": 4,
 "nbformat_minor": 5
}
