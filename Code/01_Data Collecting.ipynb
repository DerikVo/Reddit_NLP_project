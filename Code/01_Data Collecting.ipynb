{
 "cells": [
  {
   "cell_type": "markdown",
   "id": "0f446d8a-0ff4-4647-a8f0-c45df6389ac3",
   "metadata": {},
   "source": [
    "# Introduction\n",
    "This notebook will be used to gather data from reddit through an API. The two subreddits we will be gather data from are:\n",
    "1) ) [Ask Men](https://www.reddit.com/r/AskMen)\n",
    "2) ) [Ask Women](https://www.reddit.com/r/AskWomen)\n",
    "\n",
    "For this portion I created separate list for the first 1000 post descending from April 19, 2023. For the information stored I kept track of the:\n",
    "1) ) Title\n",
    "2) ) Time stamp\n",
    "3) ) Subreddit\n",
    "\n",
    "These files will be stored as seperate as a backup, but a file called sub_reddit_data will be created combining the two."
   ]
  },
  {
   "cell_type": "markdown",
   "id": "85ba06a8-0735-4ea0-879a-318c8e6a5c7d",
   "metadata": {},
   "source": [
    "## Imports"
   ]
  },
  {
   "cell_type": "code",
   "execution_count": 1,
   "id": "7d9ec63e-db69-4bf6-a86d-bbe16b7865a4",
   "metadata": {},
   "outputs": [],
   "source": [
    "import requests\n",
    "import pandas as pd"
   ]
  },
  {
   "cell_type": "code",
   "execution_count": 201,
   "id": "4a00598f-6bb6-47ba-bd3c-106e8006d91e",
   "metadata": {},
   "outputs": [],
   "source": [
    "# api url\n",
    "url =  'https://api.pushshift.io/reddit/search/submission'"
   ]
  },
  {
   "cell_type": "markdown",
   "id": "1f3fd552-0336-4096-86bf-d413b9176ccf",
   "metadata": {
    "tags": []
   },
   "source": [
    "## Pulling data from api"
   ]
  },
  {
   "cell_type": "markdown",
   "id": "b5f2dacf-a20d-432c-a77c-4c8833aa29dc",
   "metadata": {
    "tags": []
   },
   "source": [
    "### Women"
   ]
  },
  {
   "cell_type": "code",
   "execution_count": 202,
   "id": "ba221a2c-96c1-4199-a5e3-7008c4e1ed06",
   "metadata": {},
   "outputs": [],
   "source": [
    "#params to get the 1000 newest posts from the askwomen subreddit\n",
    "women_params={\n",
    "    'subreddit': 'askwomen',\n",
    "    'size' : 1000\n",
    "}"
   ]
  },
  {
   "cell_type": "code",
   "execution_count": 205,
   "id": "41ed6bab-17c5-41c3-8c3a-0dbcf29820d6",
   "metadata": {},
   "outputs": [],
   "source": [
    "req_women = requests.get(url, women_params)"
   ]
  },
  {
   "cell_type": "code",
   "execution_count": 206,
   "id": "19a70160-e613-4acb-bec8-2cf9122edc47",
   "metadata": {},
   "outputs": [
    {
     "name": "stdout",
     "output_type": "stream",
     "text": [
      " women response code: <Response [200]>\n"
     ]
    }
   ],
   "source": [
    "#check to see if we established a connect\n",
    "print(f' women response code: {req_women}')"
   ]
  },
  {
   "cell_type": "code",
   "execution_count": 207,
   "id": "c65c7145-53bb-45ee-90cc-dfbdd3c92124",
   "metadata": {},
   "outputs": [
    {
     "data": {
      "text/plain": [
       "dict_keys(['data', 'error', 'metadata'])"
      ]
     },
     "execution_count": 207,
     "metadata": {},
     "output_type": "execute_result"
    }
   ],
   "source": [
    "#checked keys to see what data we need\n",
    "req_women.json().keys()"
   ]
  },
  {
   "cell_type": "code",
   "execution_count": 208,
   "id": "8fb76d35-f4d8-4510-8e51-ea30fe27883c",
   "metadata": {
    "scrolled": true,
    "tags": []
   },
   "outputs": [
    {
     "data": {
      "text/plain": [
       "dict_keys(['subreddit', 'selftext', 'author_fullname', 'gilded', 'title', 'link_flair_richtext', 'subreddit_name_prefixed', 'hidden', 'pwls', 'link_flair_css_class', 'thumbnail_height', 'top_awarded_type', 'hide_score', 'quarantine', 'link_flair_text_color', 'upvote_ratio', 'author_flair_background_color', 'subreddit_type', 'total_awards_received', 'media_embed', 'thumbnail_width', 'author_flair_template_id', 'is_original_content', 'secure_media', 'is_reddit_media_domain', 'is_meta', 'category', 'secure_media_embed', 'link_flair_text', 'score', 'is_created_from_ads_ui', 'author_premium', 'thumbnail', 'edited', 'author_flair_css_class', 'author_flair_richtext', 'gildings', 'content_categories', 'is_self', 'link_flair_type', 'wls', 'removed_by_category', 'author_flair_type', 'domain', 'allow_live_comments', 'suggested_sort', 'view_count', 'archived', 'no_follow', 'is_crosspostable', 'pinned', 'over_18', 'all_awardings', 'awarders', 'media_only', 'can_gild', 'spoiler', 'locked', 'author_flair_text', 'treatment_tags', 'removed_by', 'distinguished', 'subreddit_id', 'link_flair_background_color', 'id', 'is_robot_indexable', 'author', 'discussion_type', 'num_comments', 'send_replies', 'whitelist_status', 'contest_mode', 'author_patreon_flair', 'author_flair_text_color', 'permalink', 'parent_whitelist_status', 'stickied', 'url', 'subreddit_subscribers', 'created_utc', 'num_crossposts', 'media', 'is_video', 'retrieved_utc', 'updated_utc', 'utc_datetime_str'])"
      ]
     },
     "execution_count": 208,
     "metadata": {},
     "output_type": "execute_result"
    }
   ],
   "source": [
    "'''\n",
    "See the keys of the nested dictionaries and list\n",
    "That data is stored in a dictionary stored in a list stored in a dictionary \n",
    "\n",
    "'''\n",
    "req_women.json()['data'][0].keys()"
   ]
  },
  {
   "cell_type": "code",
   "execution_count": 183,
   "id": "19a8f070-bf40-4a42-b2c5-26bf5c72dac2",
   "metadata": {},
   "outputs": [],
   "source": [
    "#had to do 999 because loop kept passing the index\n",
    "women_list = []\n",
    "women_time = []\n",
    "for i in range(len(req_women.json()['data'])):\n",
    "    women_list.append(req_women.json()['data'][i]['title'])\n",
    "    women_time.append(req_women.json()['data'][i]['utc_datetime_str'])"
   ]
  },
  {
   "cell_type": "code",
   "execution_count": 184,
   "id": "35667c7f-3742-4747-8855-f4090dd43ff9",
   "metadata": {},
   "outputs": [],
   "source": [
    "#zipping list so I can create a dataframe to save as a csv\n",
    "women_combined_list = list(zip(women_list, women_time))"
   ]
  },
  {
   "cell_type": "code",
   "execution_count": 185,
   "id": "6b9a69a5-9f9a-4847-b11c-01b5765e4716",
   "metadata": {},
   "outputs": [],
   "source": [
    "#converted into a dataframe\n",
    "women_df = pd.DataFrame(women_combined_list, columns=['title','time_stamp'])"
   ]
  },
  {
   "cell_type": "code",
   "execution_count": 186,
   "id": "09716589-9aa5-4eed-b917-7fd6979127e9",
   "metadata": {},
   "outputs": [],
   "source": [
    "#lable the sub reddit\n",
    "women_df['subreddit'] = 'ask_women'"
   ]
  },
  {
   "cell_type": "code",
   "execution_count": 187,
   "id": "b0e84d98-5f33-4931-8a30-f0ef8b8e6e27",
   "metadata": {},
   "outputs": [
    {
     "data": {
      "text/plain": [
       "999"
      ]
     },
     "execution_count": 187,
     "metadata": {},
     "output_type": "execute_result"
    }
   ],
   "source": [
    "#check the the ammount of entires\n",
    "len(women_df)"
   ]
  },
  {
   "cell_type": "code",
   "execution_count": 188,
   "id": "96d2d7b4-dc7f-4279-82df-b8cd95babc85",
   "metadata": {},
   "outputs": [
    {
     "data": {
      "text/html": [
       "<div>\n",
       "<style scoped>\n",
       "    .dataframe tbody tr th:only-of-type {\n",
       "        vertical-align: middle;\n",
       "    }\n",
       "\n",
       "    .dataframe tbody tr th {\n",
       "        vertical-align: top;\n",
       "    }\n",
       "\n",
       "    .dataframe thead th {\n",
       "        text-align: right;\n",
       "    }\n",
       "</style>\n",
       "<table border=\"1\" class=\"dataframe\">\n",
       "  <thead>\n",
       "    <tr style=\"text-align: right;\">\n",
       "      <th></th>\n",
       "      <th>title</th>\n",
       "      <th>time_stamp</th>\n",
       "      <th>subreddit</th>\n",
       "    </tr>\n",
       "  </thead>\n",
       "  <tbody>\n",
       "    <tr>\n",
       "      <th>0</th>\n",
       "      <td>Women who lowered their standards significantl...</td>\n",
       "      <td>2023-04-19 22:44:12</td>\n",
       "      <td>ask_women</td>\n",
       "    </tr>\n",
       "    <tr>\n",
       "      <th>1</th>\n",
       "      <td>Women who ignored red flags on the first date,...</td>\n",
       "      <td>2023-04-19 22:42:37</td>\n",
       "      <td>ask_women</td>\n",
       "    </tr>\n",
       "    <tr>\n",
       "      <th>2</th>\n",
       "      <td>What would you do if a man doesn’t respond to ...</td>\n",
       "      <td>2023-04-19 22:41:14</td>\n",
       "      <td>ask_women</td>\n",
       "    </tr>\n",
       "    <tr>\n",
       "      <th>3</th>\n",
       "      <td>ladies of Reddit that do meditation in a neigh...</td>\n",
       "      <td>2023-04-19 22:14:51</td>\n",
       "      <td>ask_women</td>\n",
       "    </tr>\n",
       "    <tr>\n",
       "      <th>4</th>\n",
       "      <td>Hello, Shrinking technology was invented and g...</td>\n",
       "      <td>2023-04-19 21:54:55</td>\n",
       "      <td>ask_women</td>\n",
       "    </tr>\n",
       "  </tbody>\n",
       "</table>\n",
       "</div>"
      ],
      "text/plain": [
       "                                               title           time_stamp  \\\n",
       "0  Women who lowered their standards significantl...  2023-04-19 22:44:12   \n",
       "1  Women who ignored red flags on the first date,...  2023-04-19 22:42:37   \n",
       "2  What would you do if a man doesn’t respond to ...  2023-04-19 22:41:14   \n",
       "3  ladies of Reddit that do meditation in a neigh...  2023-04-19 22:14:51   \n",
       "4  Hello, Shrinking technology was invented and g...  2023-04-19 21:54:55   \n",
       "\n",
       "   subreddit  \n",
       "0  ask_women  \n",
       "1  ask_women  \n",
       "2  ask_women  \n",
       "3  ask_women  \n",
       "4  ask_women  "
      ]
     },
     "execution_count": 188,
     "metadata": {},
     "output_type": "execute_result"
    }
   ],
   "source": [
    "#see the first 5 rows to see if we got the titles.\n",
    "women_df.head()"
   ]
  },
  {
   "cell_type": "code",
   "execution_count": 189,
   "id": "fe501972-6611-4908-9398-a62d9c187488",
   "metadata": {},
   "outputs": [],
   "source": [
    "women_df.to_csv('./Data/ask_women.csv', index=False)"
   ]
  },
  {
   "cell_type": "markdown",
   "id": "b2d7771f-f2b7-4497-a37e-f95e9dd70035",
   "metadata": {
    "tags": []
   },
   "source": [
    "### Men"
   ]
  },
  {
   "cell_type": "code",
   "execution_count": 209,
   "id": "1b0a7b79-cc5e-4466-9269-2e8018fff78f",
   "metadata": {},
   "outputs": [],
   "source": [
    "#params to get the 1000 newest posts from the askmen subreddit\n",
    "men_params={\n",
    "    'subreddit': 'askmen',\n",
    "    'size' : 1000\n",
    "}"
   ]
  },
  {
   "cell_type": "code",
   "execution_count": 210,
   "id": "a6304bcf-d4c6-434a-b76b-dba4ec270763",
   "metadata": {},
   "outputs": [],
   "source": [
    "req_men = requests.get(url, men_params)"
   ]
  },
  {
   "cell_type": "code",
   "execution_count": 211,
   "id": "770b8e0d-e115-446a-a0cd-9bf73b30caed",
   "metadata": {},
   "outputs": [
    {
     "name": "stdout",
     "output_type": "stream",
     "text": [
      " men response code: <Response [200]>\n"
     ]
    }
   ],
   "source": [
    "print(f' men response code: {req_men}')"
   ]
  },
  {
   "cell_type": "code",
   "execution_count": 174,
   "id": "68b4a344-08fb-42ef-81fc-8d61df3c2176",
   "metadata": {},
   "outputs": [],
   "source": [
    "men_list = []\n",
    "men_time = []\n",
    "for i in range(len(req_men.json()['data'])):\n",
    "    men_list.append(req_men.json()['data'][i]['title'])\n",
    "    men_time.append(req_men.json()['data'][i]['utc_datetime_str'])"
   ]
  },
  {
   "cell_type": "code",
   "execution_count": 175,
   "id": "b1423b0b-826c-4e82-9c87-a09a962aabc7",
   "metadata": {},
   "outputs": [],
   "source": [
    "#combine the list\n",
    "men_combined_list = list(zip(men_list, men_time))"
   ]
  },
  {
   "cell_type": "code",
   "execution_count": 176,
   "id": "1923be15-6fa1-40a4-8388-2bdc9a7dcf0c",
   "metadata": {},
   "outputs": [],
   "source": [
    "#convert to a data frame\n",
    "men_df = pd.DataFrame(men_combined_list, columns=['title','time_stamp'])"
   ]
  },
  {
   "cell_type": "code",
   "execution_count": 177,
   "id": "d9c2a68a-1ffc-4bb3-b272-445ce693d977",
   "metadata": {},
   "outputs": [],
   "source": [
    "#lable the sub reddit\n",
    "men_df['subreddit'] = 'ask_men'"
   ]
  },
  {
   "cell_type": "code",
   "execution_count": 190,
   "id": "67c9550b-5c8a-40b1-9409-9d91a8e45731",
   "metadata": {},
   "outputs": [
    {
     "data": {
      "text/plain": [
       "998"
      ]
     },
     "execution_count": 190,
     "metadata": {},
     "output_type": "execute_result"
    }
   ],
   "source": [
    "len(men_df)"
   ]
  },
  {
   "cell_type": "code",
   "execution_count": 179,
   "id": "3b60e1fa-a307-4657-ac57-f36256f5b5bb",
   "metadata": {},
   "outputs": [
    {
     "data": {
      "text/html": [
       "<div>\n",
       "<style scoped>\n",
       "    .dataframe tbody tr th:only-of-type {\n",
       "        vertical-align: middle;\n",
       "    }\n",
       "\n",
       "    .dataframe tbody tr th {\n",
       "        vertical-align: top;\n",
       "    }\n",
       "\n",
       "    .dataframe thead th {\n",
       "        text-align: right;\n",
       "    }\n",
       "</style>\n",
       "<table border=\"1\" class=\"dataframe\">\n",
       "  <thead>\n",
       "    <tr style=\"text-align: right;\">\n",
       "      <th></th>\n",
       "      <th>title</th>\n",
       "      <th>time_stamp</th>\n",
       "      <th>subreddit</th>\n",
       "    </tr>\n",
       "  </thead>\n",
       "  <tbody>\n",
       "    <tr>\n",
       "      <th>0</th>\n",
       "      <td>Replay but not respond</td>\n",
       "      <td>2023-04-19 23:10:46</td>\n",
       "      <td>ask_men</td>\n",
       "    </tr>\n",
       "    <tr>\n",
       "      <th>1</th>\n",
       "      <td>Would you rather be sexually assaulted, or fal...</td>\n",
       "      <td>2023-04-19 23:07:17</td>\n",
       "      <td>ask_men</td>\n",
       "    </tr>\n",
       "    <tr>\n",
       "      <th>2</th>\n",
       "      <td>Deleted Instagram to avoid seeing women</td>\n",
       "      <td>2023-04-19 23:03:58</td>\n",
       "      <td>ask_men</td>\n",
       "    </tr>\n",
       "    <tr>\n",
       "      <th>3</th>\n",
       "      <td>If women get periods why don't men get commas?</td>\n",
       "      <td>2023-04-19 23:01:48</td>\n",
       "      <td>ask_men</td>\n",
       "    </tr>\n",
       "    <tr>\n",
       "      <th>4</th>\n",
       "      <td>What characters can you identify by their mask...</td>\n",
       "      <td>2023-04-19 22:59:52</td>\n",
       "      <td>ask_men</td>\n",
       "    </tr>\n",
       "  </tbody>\n",
       "</table>\n",
       "</div>"
      ],
      "text/plain": [
       "                                               title           time_stamp  \\\n",
       "0                             Replay but not respond  2023-04-19 23:10:46   \n",
       "1  Would you rather be sexually assaulted, or fal...  2023-04-19 23:07:17   \n",
       "2            Deleted Instagram to avoid seeing women  2023-04-19 23:03:58   \n",
       "3     If women get periods why don't men get commas?  2023-04-19 23:01:48   \n",
       "4  What characters can you identify by their mask...  2023-04-19 22:59:52   \n",
       "\n",
       "  subreddit  \n",
       "0   ask_men  \n",
       "1   ask_men  \n",
       "2   ask_men  \n",
       "3   ask_men  \n",
       "4   ask_men  "
      ]
     },
     "execution_count": 179,
     "metadata": {},
     "output_type": "execute_result"
    }
   ],
   "source": [
    "men_df.head()"
   ]
  },
  {
   "cell_type": "code",
   "execution_count": 191,
   "id": "2e3e7b60-c24b-42d2-9d4c-dd96c15a6c6f",
   "metadata": {},
   "outputs": [],
   "source": [
    "men_df.to_csv('./Data/ask_men.csv', index=False)"
   ]
  },
  {
   "cell_type": "markdown",
   "id": "ff9956a3-eec0-4b3f-9959-776004566ba4",
   "metadata": {},
   "source": [
    "## Combine data"
   ]
  },
  {
   "cell_type": "code",
   "execution_count": 192,
   "id": "a7bc4822-e7b5-4331-b441-d9f44a89bb0b",
   "metadata": {},
   "outputs": [],
   "source": [
    "sub_reddit_data = pd.concat([women_df, men_df])"
   ]
  },
  {
   "cell_type": "code",
   "execution_count": 193,
   "id": "ed11f5a7-bad6-46ec-852f-eddcdbbdae5c",
   "metadata": {},
   "outputs": [
    {
     "name": "stdout",
     "output_type": "stream",
     "text": [
      "<class 'pandas.core.frame.DataFrame'>\n",
      "Int64Index: 1997 entries, 0 to 997\n",
      "Data columns (total 3 columns):\n",
      " #   Column      Non-Null Count  Dtype \n",
      "---  ------      --------------  ----- \n",
      " 0   title       1997 non-null   object\n",
      " 1   time_stamp  1997 non-null   object\n",
      " 2   subreddit   1997 non-null   object\n",
      "dtypes: object(3)\n",
      "memory usage: 62.4+ KB\n"
     ]
    }
   ],
   "source": [
    "sub_reddit_data.info()"
   ]
  },
  {
   "cell_type": "code",
   "execution_count": 194,
   "id": "c5b114d3-832e-4118-b5e5-a3d6ef14279a",
   "metadata": {},
   "outputs": [
    {
     "data": {
      "text/plain": [
       "ask_women    999\n",
       "ask_men      998\n",
       "Name: subreddit, dtype: int64"
      ]
     },
     "execution_count": 194,
     "metadata": {},
     "output_type": "execute_result"
    }
   ],
   "source": [
    "sub_reddit_data['subreddit'].value_counts()"
   ]
  },
  {
   "cell_type": "code",
   "execution_count": 195,
   "id": "bcff09da-0adb-4ed5-820f-2123623b1a64",
   "metadata": {},
   "outputs": [],
   "source": [
    "sub_reddit_data.to_csv('./Data/sub_reddit_data.csv')"
   ]
  }
 ],
 "metadata": {
  "kernelspec": {
   "display_name": "Python 3 (ipykernel)",
   "language": "python",
   "name": "python3"
  },
  "language_info": {
   "codemirror_mode": {
    "name": "ipython",
    "version": 3
   },
   "file_extension": ".py",
   "mimetype": "text/x-python",
   "name": "python",
   "nbconvert_exporter": "python",
   "pygments_lexer": "ipython3",
   "version": "3.9.13"
  }
 },
 "nbformat": 4,
 "nbformat_minor": 5
}
