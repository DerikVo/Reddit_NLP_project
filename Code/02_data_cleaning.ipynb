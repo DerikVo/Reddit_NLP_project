{
 "cells": [
  {
   "cell_type": "markdown",
   "id": "20cb2389-b22f-4ba0-a634-e9d9623e5eb7",
   "metadata": {},
   "source": [
    "# Imports"
   ]
  },
  {
   "cell_type": "code",
   "execution_count": 83,
   "id": "bf90de2c-9467-4fe1-a1be-12289d09cfae",
   "metadata": {},
   "outputs": [],
   "source": [
    "import pandas as pd\n",
    "import matplotlib.pyplot as plt\n",
    "import seaborn as sns\n",
    "import datetime as dt\n",
    "from sklearn.feature_extraction.text import CountVectorizer"
   ]
  },
  {
   "cell_type": "markdown",
   "id": "23af8a97-e945-41b4-a8e6-13024e568b6a",
   "metadata": {},
   "source": [
    "# Load Data"
   ]
  },
  {
   "cell_type": "code",
   "execution_count": 92,
   "id": "9fe64d5e-5691-46a3-b633-533768e0d670",
   "metadata": {},
   "outputs": [
    {
     "data": {
      "text/html": [
       "<div>\n",
       "<style scoped>\n",
       "    .dataframe tbody tr th:only-of-type {\n",
       "        vertical-align: middle;\n",
       "    }\n",
       "\n",
       "    .dataframe tbody tr th {\n",
       "        vertical-align: top;\n",
       "    }\n",
       "\n",
       "    .dataframe thead th {\n",
       "        text-align: right;\n",
       "    }\n",
       "</style>\n",
       "<table border=\"1\" class=\"dataframe\">\n",
       "  <thead>\n",
       "    <tr style=\"text-align: right;\">\n",
       "      <th></th>\n",
       "      <th>subreddit</th>\n",
       "      <th>selftext</th>\n",
       "      <th>author_fullname</th>\n",
       "      <th>gilded</th>\n",
       "      <th>title</th>\n",
       "      <th>link_flair_richtext</th>\n",
       "      <th>subreddit_name_prefixed</th>\n",
       "      <th>hidden</th>\n",
       "      <th>pwls</th>\n",
       "      <th>link_flair_css_class</th>\n",
       "      <th>...</th>\n",
       "      <th>num_crossposts</th>\n",
       "      <th>media</th>\n",
       "      <th>is_video</th>\n",
       "      <th>retrieved_utc</th>\n",
       "      <th>updated_utc</th>\n",
       "      <th>utc_datetime_str</th>\n",
       "      <th>post_hint</th>\n",
       "      <th>preview</th>\n",
       "      <th>link_flair_template_id</th>\n",
       "      <th>author_cakeday</th>\n",
       "    </tr>\n",
       "  </thead>\n",
       "  <tbody>\n",
       "    <tr>\n",
       "      <th>0</th>\n",
       "      <td>AskWomen</td>\n",
       "      <td>[removed]</td>\n",
       "      <td>t2_v4u69ho5</td>\n",
       "      <td>0</td>\n",
       "      <td>How about true friendship between men and wome...</td>\n",
       "      <td>[]</td>\n",
       "      <td>r/AskWomen</td>\n",
       "      <td>False</td>\n",
       "      <td>6</td>\n",
       "      <td>NaN</td>\n",
       "      <td>...</td>\n",
       "      <td>0</td>\n",
       "      <td>NaN</td>\n",
       "      <td>False</td>\n",
       "      <td>1682375081</td>\n",
       "      <td>1682375081</td>\n",
       "      <td>2023-04-24 22:24:26</td>\n",
       "      <td>NaN</td>\n",
       "      <td>NaN</td>\n",
       "      <td>NaN</td>\n",
       "      <td>NaN</td>\n",
       "    </tr>\n",
       "  </tbody>\n",
       "</table>\n",
       "<p>1 rows × 90 columns</p>\n",
       "</div>"
      ],
      "text/plain": [
       "  subreddit   selftext author_fullname  gilded  \\\n",
       "0  AskWomen  [removed]     t2_v4u69ho5       0   \n",
       "\n",
       "                                               title link_flair_richtext  \\\n",
       "0  How about true friendship between men and wome...                  []   \n",
       "\n",
       "  subreddit_name_prefixed  hidden  pwls link_flair_css_class  ...  \\\n",
       "0              r/AskWomen   False     6                  NaN  ...   \n",
       "\n",
       "   num_crossposts  media  is_video  retrieved_utc updated_utc  \\\n",
       "0               0    NaN     False     1682375081  1682375081   \n",
       "\n",
       "      utc_datetime_str post_hint preview  link_flair_template_id  \\\n",
       "0  2023-04-24 22:24:26       NaN     NaN                     NaN   \n",
       "\n",
       "  author_cakeday  \n",
       "0            NaN  \n",
       "\n",
       "[1 rows x 90 columns]"
      ]
     },
     "execution_count": 92,
     "metadata": {},
     "output_type": "execute_result"
    }
   ],
   "source": [
    "df = pd.read_csv('../Data/sub_reddit_data.csv')\n",
    "df.head(1)"
   ]
  },
  {
   "cell_type": "markdown",
   "id": "7fc98fd5-7402-44a7-9cfe-c274b125b06c",
   "metadata": {},
   "source": [
    "# Clean and select features"
   ]
  },
  {
   "cell_type": "code",
   "execution_count": 93,
   "id": "377f4d13-200c-4c23-922e-f2caf01122c9",
   "metadata": {},
   "outputs": [],
   "source": [
    "df=df[['subreddit','title','hidden','utc_datetime_str', 'num_comments']]"
   ]
  },
  {
   "cell_type": "code",
   "execution_count": 94,
   "id": "bfd83c23-3c9b-492e-9261-a74ded761461",
   "metadata": {},
   "outputs": [
    {
     "data": {
      "text/html": [
       "<div>\n",
       "<style scoped>\n",
       "    .dataframe tbody tr th:only-of-type {\n",
       "        vertical-align: middle;\n",
       "    }\n",
       "\n",
       "    .dataframe tbody tr th {\n",
       "        vertical-align: top;\n",
       "    }\n",
       "\n",
       "    .dataframe thead th {\n",
       "        text-align: right;\n",
       "    }\n",
       "</style>\n",
       "<table border=\"1\" class=\"dataframe\">\n",
       "  <thead>\n",
       "    <tr style=\"text-align: right;\">\n",
       "      <th></th>\n",
       "      <th>subreddit</th>\n",
       "      <th>title</th>\n",
       "      <th>hidden</th>\n",
       "      <th>utc_datetime_str</th>\n",
       "      <th>num_comments</th>\n",
       "    </tr>\n",
       "  </thead>\n",
       "  <tbody>\n",
       "    <tr>\n",
       "      <th>0</th>\n",
       "      <td>AskWomen</td>\n",
       "      <td>How about true friendship between men and wome...</td>\n",
       "      <td>False</td>\n",
       "      <td>2023-04-24 22:24:26</td>\n",
       "      <td>0</td>\n",
       "    </tr>\n",
       "    <tr>\n",
       "      <th>1</th>\n",
       "      <td>AskWomen</td>\n",
       "      <td>Does this mean she’s not interested? What shou...</td>\n",
       "      <td>False</td>\n",
       "      <td>2023-04-24 22:18:10</td>\n",
       "      <td>1</td>\n",
       "    </tr>\n",
       "    <tr>\n",
       "      <th>2</th>\n",
       "      <td>AskWomen</td>\n",
       "      <td>What’s something that your brain cannot compre...</td>\n",
       "      <td>False</td>\n",
       "      <td>2023-04-24 22:17:10</td>\n",
       "      <td>0</td>\n",
       "    </tr>\n",
       "  </tbody>\n",
       "</table>\n",
       "</div>"
      ],
      "text/plain": [
       "  subreddit                                              title  hidden  \\\n",
       "0  AskWomen  How about true friendship between men and wome...   False   \n",
       "1  AskWomen  Does this mean she’s not interested? What shou...   False   \n",
       "2  AskWomen  What’s something that your brain cannot compre...   False   \n",
       "\n",
       "      utc_datetime_str  num_comments  \n",
       "0  2023-04-24 22:24:26             0  \n",
       "1  2023-04-24 22:18:10             1  \n",
       "2  2023-04-24 22:17:10             0  "
      ]
     },
     "execution_count": 94,
     "metadata": {},
     "output_type": "execute_result"
    }
   ],
   "source": [
    "df.head(3)"
   ]
  },
  {
   "cell_type": "markdown",
   "id": "78ba19d8-8a23-40e9-9e94-a76cf1f24d52",
   "metadata": {},
   "source": [
    "## Feature engineering"
   ]
  },
  {
   "cell_type": "code",
   "execution_count": 95,
   "id": "e6b858ec-fedf-4092-9722-1a4cfba09be2",
   "metadata": {},
   "outputs": [],
   "source": [
    "#convert the utc_datetime_str into a date time data type\n",
    "df['utc_datetime_str']= pd.to_datetime(df['utc_datetime_str'])"
   ]
  },
  {
   "cell_type": "code",
   "execution_count": 96,
   "id": "5026f8e2-651a-46ac-8848-cf74cc2b7d0e",
   "metadata": {},
   "outputs": [
    {
     "data": {
      "text/html": [
       "<div>\n",
       "<style scoped>\n",
       "    .dataframe tbody tr th:only-of-type {\n",
       "        vertical-align: middle;\n",
       "    }\n",
       "\n",
       "    .dataframe tbody tr th {\n",
       "        vertical-align: top;\n",
       "    }\n",
       "\n",
       "    .dataframe thead th {\n",
       "        text-align: right;\n",
       "    }\n",
       "</style>\n",
       "<table border=\"1\" class=\"dataframe\">\n",
       "  <thead>\n",
       "    <tr style=\"text-align: right;\">\n",
       "      <th></th>\n",
       "      <th>subreddit</th>\n",
       "      <th>title</th>\n",
       "      <th>hidden</th>\n",
       "      <th>utc_datetime_str</th>\n",
       "      <th>num_comments</th>\n",
       "    </tr>\n",
       "  </thead>\n",
       "  <tbody>\n",
       "    <tr>\n",
       "      <th>0</th>\n",
       "      <td>AskWomen</td>\n",
       "      <td>How about true friendship between men and wome...</td>\n",
       "      <td>False</td>\n",
       "      <td>2023-04-24 22:24:26</td>\n",
       "      <td>0</td>\n",
       "    </tr>\n",
       "  </tbody>\n",
       "</table>\n",
       "</div>"
      ],
      "text/plain": [
       "  subreddit                                              title  hidden  \\\n",
       "0  AskWomen  How about true friendship between men and wome...   False   \n",
       "\n",
       "     utc_datetime_str  num_comments  \n",
       "0 2023-04-24 22:24:26             0  "
      ]
     },
     "execution_count": 96,
     "metadata": {},
     "output_type": "execute_result"
    }
   ],
   "source": [
    "df.head(1)"
   ]
  },
  {
   "cell_type": "code",
   "execution_count": 90,
   "id": "3b5a37d6-7c14-4122-8f2b-84bc8b87dd60",
   "metadata": {},
   "outputs": [],
   "source": [
    "#referenced this stack overflow: https://stackoverflow.com/questions/28009370/get-weekday-day-of-week-for-datetime-column-of-dataframe\n",
    "df['title_word_count'] = df['title'].apply(lambda text: len(text.split()))"
   ]
  },
  {
   "cell_type": "code",
   "execution_count": 100,
   "id": "ae65361d-93b4-40a7-babd-76fe6ce19437",
   "metadata": {},
   "outputs": [],
   "source": [
    "df['day_num'] = df['utc_datetime_str'].apply(lambda x: x.weekday())"
   ]
  },
  {
   "cell_type": "code",
   "execution_count": 101,
   "id": "a4ccf360-1d64-4939-97b7-45c34814055e",
   "metadata": {},
   "outputs": [],
   "source": [
    "df['day_num'] = df['utc_datetime_str'].apply(lambda x: x.day_name())"
   ]
  },
  {
   "cell_type": "code",
   "execution_count": 102,
   "id": "2d1117d8-01cf-48e1-b754-3432eac7b87a",
   "metadata": {},
   "outputs": [
    {
     "data": {
      "text/html": [
       "<div>\n",
       "<style scoped>\n",
       "    .dataframe tbody tr th:only-of-type {\n",
       "        vertical-align: middle;\n",
       "    }\n",
       "\n",
       "    .dataframe tbody tr th {\n",
       "        vertical-align: top;\n",
       "    }\n",
       "\n",
       "    .dataframe thead th {\n",
       "        text-align: right;\n",
       "    }\n",
       "</style>\n",
       "<table border=\"1\" class=\"dataframe\">\n",
       "  <thead>\n",
       "    <tr style=\"text-align: right;\">\n",
       "      <th></th>\n",
       "      <th>subreddit</th>\n",
       "      <th>title</th>\n",
       "      <th>hidden</th>\n",
       "      <th>utc_datetime_str</th>\n",
       "      <th>num_comments</th>\n",
       "      <th>day</th>\n",
       "      <th>day_num</th>\n",
       "    </tr>\n",
       "  </thead>\n",
       "  <tbody>\n",
       "    <tr>\n",
       "      <th>0</th>\n",
       "      <td>AskWomen</td>\n",
       "      <td>How about true friendship between men and wome...</td>\n",
       "      <td>False</td>\n",
       "      <td>2023-04-24 22:24:26</td>\n",
       "      <td>0</td>\n",
       "      <td>0</td>\n",
       "      <td>Monday</td>\n",
       "    </tr>\n",
       "    <tr>\n",
       "      <th>1</th>\n",
       "      <td>AskWomen</td>\n",
       "      <td>Does this mean she’s not interested? What shou...</td>\n",
       "      <td>False</td>\n",
       "      <td>2023-04-24 22:18:10</td>\n",
       "      <td>1</td>\n",
       "      <td>0</td>\n",
       "      <td>Monday</td>\n",
       "    </tr>\n",
       "    <tr>\n",
       "      <th>2</th>\n",
       "      <td>AskWomen</td>\n",
       "      <td>What’s something that your brain cannot compre...</td>\n",
       "      <td>False</td>\n",
       "      <td>2023-04-24 22:17:10</td>\n",
       "      <td>0</td>\n",
       "      <td>0</td>\n",
       "      <td>Monday</td>\n",
       "    </tr>\n",
       "    <tr>\n",
       "      <th>3</th>\n",
       "      <td>AskWomen</td>\n",
       "      <td>Does this mean she’s not interested? What shou...</td>\n",
       "      <td>False</td>\n",
       "      <td>2023-04-24 22:16:55</td>\n",
       "      <td>1</td>\n",
       "      <td>0</td>\n",
       "      <td>Monday</td>\n",
       "    </tr>\n",
       "    <tr>\n",
       "      <th>4</th>\n",
       "      <td>AskWomen</td>\n",
       "      <td>Out of curiosity, what are reasons TO have chi...</td>\n",
       "      <td>False</td>\n",
       "      <td>2023-04-24 22:00:29</td>\n",
       "      <td>1</td>\n",
       "      <td>0</td>\n",
       "      <td>Monday</td>\n",
       "    </tr>\n",
       "    <tr>\n",
       "      <th>...</th>\n",
       "      <td>...</td>\n",
       "      <td>...</td>\n",
       "      <td>...</td>\n",
       "      <td>...</td>\n",
       "      <td>...</td>\n",
       "      <td>...</td>\n",
       "      <td>...</td>\n",
       "    </tr>\n",
       "    <tr>\n",
       "      <th>3987</th>\n",
       "      <td>AskMen</td>\n",
       "      <td>Guys, what are some best-fragrance best-perfor...</td>\n",
       "      <td>False</td>\n",
       "      <td>2023-04-20 14:30:59</td>\n",
       "      <td>0</td>\n",
       "      <td>3</td>\n",
       "      <td>Thursday</td>\n",
       "    </tr>\n",
       "    <tr>\n",
       "      <th>3988</th>\n",
       "      <td>AskMen</td>\n",
       "      <td>What's the most nerve-wracking bottle to piss in?</td>\n",
       "      <td>False</td>\n",
       "      <td>2023-04-20 14:24:21</td>\n",
       "      <td>0</td>\n",
       "      <td>3</td>\n",
       "      <td>Thursday</td>\n",
       "    </tr>\n",
       "    <tr>\n",
       "      <th>3989</th>\n",
       "      <td>AskMen</td>\n",
       "      <td>What's the story of that one breakup that comp...</td>\n",
       "      <td>False</td>\n",
       "      <td>2023-04-20 14:19:10</td>\n",
       "      <td>1</td>\n",
       "      <td>3</td>\n",
       "      <td>Thursday</td>\n",
       "    </tr>\n",
       "    <tr>\n",
       "      <th>3990</th>\n",
       "      <td>AskMen</td>\n",
       "      <td>What’s the most attractive thing about a woman??</td>\n",
       "      <td>False</td>\n",
       "      <td>2023-04-20 14:15:35</td>\n",
       "      <td>0</td>\n",
       "      <td>3</td>\n",
       "      <td>Thursday</td>\n",
       "    </tr>\n",
       "    <tr>\n",
       "      <th>3991</th>\n",
       "      <td>AskMen</td>\n",
       "      <td>Men of reddit, what is something that would ma...</td>\n",
       "      <td>False</td>\n",
       "      <td>2023-04-20 14:01:28</td>\n",
       "      <td>0</td>\n",
       "      <td>3</td>\n",
       "      <td>Thursday</td>\n",
       "    </tr>\n",
       "  </tbody>\n",
       "</table>\n",
       "<p>3992 rows × 7 columns</p>\n",
       "</div>"
      ],
      "text/plain": [
       "     subreddit                                              title  hidden  \\\n",
       "0     AskWomen  How about true friendship between men and wome...   False   \n",
       "1     AskWomen  Does this mean she’s not interested? What shou...   False   \n",
       "2     AskWomen  What’s something that your brain cannot compre...   False   \n",
       "3     AskWomen  Does this mean she’s not interested? What shou...   False   \n",
       "4     AskWomen  Out of curiosity, what are reasons TO have chi...   False   \n",
       "...        ...                                                ...     ...   \n",
       "3987    AskMen  Guys, what are some best-fragrance best-perfor...   False   \n",
       "3988    AskMen  What's the most nerve-wracking bottle to piss in?   False   \n",
       "3989    AskMen  What's the story of that one breakup that comp...   False   \n",
       "3990    AskMen   What’s the most attractive thing about a woman??   False   \n",
       "3991    AskMen  Men of reddit, what is something that would ma...   False   \n",
       "\n",
       "        utc_datetime_str  num_comments  day   day_num  \n",
       "0    2023-04-24 22:24:26             0    0    Monday  \n",
       "1    2023-04-24 22:18:10             1    0    Monday  \n",
       "2    2023-04-24 22:17:10             0    0    Monday  \n",
       "3    2023-04-24 22:16:55             1    0    Monday  \n",
       "4    2023-04-24 22:00:29             1    0    Monday  \n",
       "...                  ...           ...  ...       ...  \n",
       "3987 2023-04-20 14:30:59             0    3  Thursday  \n",
       "3988 2023-04-20 14:24:21             0    3  Thursday  \n",
       "3989 2023-04-20 14:19:10             1    3  Thursday  \n",
       "3990 2023-04-20 14:15:35             0    3  Thursday  \n",
       "3991 2023-04-20 14:01:28             0    3  Thursday  \n",
       "\n",
       "[3992 rows x 7 columns]"
      ]
     },
     "execution_count": 102,
     "metadata": {},
     "output_type": "execute_result"
    }
   ],
   "source": [
    "df"
   ]
  },
  {
   "cell_type": "markdown",
   "id": "13689d65-4e2a-4993-909d-ef26ecd54637",
   "metadata": {},
   "source": [
    "## Checking value counts"
   ]
  },
  {
   "cell_type": "code",
   "execution_count": 56,
   "id": "aa255e54-f151-44ab-9e85-5bcbaf98b0e9",
   "metadata": {
    "scrolled": true,
    "tags": []
   },
   "outputs": [
    {
     "data": {
      "text/plain": [
       "9     333\n",
       "8     325\n",
       "10    312\n",
       "12    290\n",
       "11    269\n",
       "7     252\n",
       "13    213\n",
       "6     206\n",
       "14    205\n",
       "15    198\n",
       "17    153\n",
       "16    150\n",
       "18    123\n",
       "5     108\n",
       "19    100\n",
       "20     76\n",
       "4      74\n",
       "21     58\n",
       "23     57\n",
       "3      51\n",
       "22     50\n",
       "2      47\n",
       "1      42\n",
       "24     40\n",
       "25     39\n",
       "26     27\n",
       "27     25\n",
       "31     20\n",
       "28     19\n",
       "29     14\n",
       "30     13\n",
       "32     11\n",
       "35      9\n",
       "34      7\n",
       "49      6\n",
       "36      6\n",
       "39      5\n",
       "33      5\n",
       "52      5\n",
       "37      4\n",
       "44      4\n",
       "42      3\n",
       "38      3\n",
       "47      3\n",
       "56      3\n",
       "41      3\n",
       "59      3\n",
       "54      3\n",
       "43      3\n",
       "53      2\n",
       "51      2\n",
       "40      2\n",
       "45      2\n",
       "50      2\n",
       "46      2\n",
       "48      1\n",
       "62      1\n",
       "58      1\n",
       "63      1\n",
       "60      1\n",
       "Name: title_word_count, dtype: int64"
      ]
     },
     "execution_count": 56,
     "metadata": {},
     "output_type": "execute_result"
    }
   ],
   "source": [
    "df['title_word_count'].value_counts(sort=True)"
   ]
  },
  {
   "cell_type": "code",
   "execution_count": 69,
   "id": "ab156526-e560-484a-bc7b-763069bff970",
   "metadata": {},
   "outputs": [
    {
     "data": {
      "text/plain": [
       "Text(0.5, 0, 'Title word count')"
      ]
     },
     "execution_count": 69,
     "metadata": {},
     "output_type": "execute_result"
    },
    {
     "data": {
      "image/png": "[encoded data removed]",
      "text/plain": [
       "<Figure size 1000x1000 with 1 Axes>"
      ]
     },
     "metadata": {},
     "output_type": "display_data"
    }
   ],
   "source": [
    "plt.figure(figsize=(10,10))\n",
    "sns.histplot(data=df['title_word_count'])\n",
    "plt.axvline(x=df['title_word_count'].median(), color='black', linewidth=4)\n",
    "plt.xlabel(\"Title word count\")"
   ]
  },
  {
   "cell_type": "code",
   "execution_count": null,
   "id": "08fc1150-972a-4ac0-a398-68cc3d56a378",
   "metadata": {},
   "outputs": [],
   "source": []
  },
  {
   "cell_type": "code",
   "execution_count": 32,
   "id": "4b032031-adc1-4437-9a1f-3ce743ea3ab1",
   "metadata": {},
   "outputs": [
    {
     "data": {
      "text/html": [
       "<div>\n",
       "<style scoped>\n",
       "    .dataframe tbody tr th:only-of-type {\n",
       "        vertical-align: middle;\n",
       "    }\n",
       "\n",
       "    .dataframe tbody tr th {\n",
       "        vertical-align: top;\n",
       "    }\n",
       "\n",
       "    .dataframe thead th {\n",
       "        text-align: right;\n",
       "    }\n",
       "</style>\n",
       "<table border=\"1\" class=\"dataframe\">\n",
       "  <thead>\n",
       "    <tr style=\"text-align: right;\">\n",
       "      <th></th>\n",
       "      <th>subreddit</th>\n",
       "      <th>title</th>\n",
       "      <th>hidden</th>\n",
       "      <th>utc_datetime_str</th>\n",
       "      <th>title_word_count</th>\n",
       "    </tr>\n",
       "  </thead>\n",
       "  <tbody>\n",
       "    <tr>\n",
       "      <th>0</th>\n",
       "      <td>AskWomen</td>\n",
       "      <td>How about true friendship between men and wome...</td>\n",
       "      <td>False</td>\n",
       "      <td>2023-04-24 22:24:26</td>\n",
       "      <td>10</td>\n",
       "    </tr>\n",
       "  </tbody>\n",
       "</table>\n",
       "</div>"
      ],
      "text/plain": [
       "  subreddit                                              title  hidden  \\\n",
       "0  AskWomen  How about true friendship between men and wome...   False   \n",
       "\n",
       "     utc_datetime_str  title_word_count  \n",
       "0 2023-04-24 22:24:26                10  "
      ]
     },
     "execution_count": 32,
     "metadata": {},
     "output_type": "execute_result"
    }
   ],
   "source": [
    "df.head(1)"
   ]
  },
  {
   "cell_type": "code",
   "execution_count": 37,
   "id": "c86561d6-2cf9-4414-a6b3-b4e2b49133c5",
   "metadata": {},
   "outputs": [
    {
     "data": {
      "text/plain": [
       "AskMen      1997\n",
       "AskWomen    1995\n",
       "Name: subreddit, dtype: int64"
      ]
     },
     "execution_count": 37,
     "metadata": {},
     "output_type": "execute_result"
    }
   ],
   "source": [
    "#check the value counts to ensure it matches what we exported\n",
    "df['subreddit'].value_counts()"
   ]
  },
  {
   "cell_type": "code",
   "execution_count": 38,
   "id": "c3a9383d-21b8-4903-b7ac-0af219bd375e",
   "metadata": {},
   "outputs": [
    {
     "data": {
      "text/plain": [
       "1    2300\n",
       "0    1691\n",
       "3       1\n",
       "Name: num_comments, dtype: int64"
      ]
     },
     "execution_count": 38,
     "metadata": {},
     "output_type": "execute_result"
    }
   ],
   "source": [
    "'''\n",
    "I had assumed num_comments was the number of comments within a thread, but thought the valuecounts was weird,\n",
    "so when I looked at the api documentation it didnt specific what it was.\n",
    "The Api documentation just states that num_comments is an integer between 1 and 500\n",
    "'''\n",
    "df['num_comments'].value_counts()"
   ]
  },
  {
   "cell_type": "code",
   "execution_count": 23,
   "id": "6909a859-133b-472d-b701-2fb6dd5e9ccb",
   "metadata": {},
   "outputs": [
    {
     "data": {
      "text/plain": [
       "subreddit           object\n",
       "title               object\n",
       "hidden                bool\n",
       "utc_datetime_str    object\n",
       "dtype: object"
      ]
     },
     "execution_count": 23,
     "metadata": {},
     "output_type": "execute_result"
    }
   ],
   "source": [
    "#check the datatypes to see if everything is what they should be\n",
    "df.dtypes"
   ]
  },
  {
   "cell_type": "code",
   "execution_count": 27,
   "id": "11dcb2ff-9800-4330-af95-a6ba2f8d56e0",
   "metadata": {},
   "outputs": [
    {
     "data": {
      "text/plain": [
       "subreddit                   object\n",
       "title                       object\n",
       "hidden                        bool\n",
       "utc_datetime_str    datetime64[ns]\n",
       "dtype: object"
      ]
     },
     "execution_count": 27,
     "metadata": {},
     "output_type": "execute_result"
    }
   ],
   "source": [
    "#ensure the datatype is changed\n",
    "df.dtypes"
   ]
  },
  {
   "cell_type": "code",
   "execution_count": 28,
   "id": "1d9d8420-0cc5-4c2b-8d84-1ecabaca2e87",
   "metadata": {},
   "outputs": [
    {
     "data": {
      "text/plain": [
       "subreddit           0\n",
       "title               0\n",
       "hidden              0\n",
       "utc_datetime_str    0\n",
       "dtype: int64"
      ]
     },
     "execution_count": 28,
     "metadata": {},
     "output_type": "execute_result"
    }
   ],
   "source": [
    "#check for missing values\n",
    "df.isnull().sum()"
   ]
  }
 ],
 "metadata": {
  "kernelspec": {
   "display_name": "Python [conda env:root] *",
   "language": "python",
   "name": "conda-root-py"
  },
  "language_info": {
   "codemirror_mode": {
    "name": "ipython",
    "version": 3
   },
   "file_extension": ".py",
   "mimetype": "text/x-python",
   "name": "python",
   "nbconvert_exporter": "python",
   "pygments_lexer": "ipython3",
   "version": "3.9.13"
  }
 },
 "nbformat": 4,
 "nbformat_minor": 5
}
