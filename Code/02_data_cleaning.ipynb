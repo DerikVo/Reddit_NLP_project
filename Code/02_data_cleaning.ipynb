{
 "cells": [
  {
   "cell_type": "markdown",
   "id": "20cb2389-b22f-4ba0-a634-e9d9623e5eb7",
   "metadata": {},
   "source": [
    "# Imports"
   ]
  },
  {
   "cell_type": "code",
   "execution_count": 5,
   "id": "bf90de2c-9467-4fe1-a1be-12289d09cfae",
   "metadata": {},
   "outputs": [],
   "source": [
    "import numpy as np\n",
    "import pandas as pd\n",
    "import matplotlib.pyplot as plt\n",
    "import seaborn as sns\n",
    "import datetime as dt\n",
    "from sklearn.feature_extraction.text import CountVectorizer\n",
    "from nltk.sentiment.vader import SentimentIntensityAnalyzer"
   ]
  },
  {
   "cell_type": "markdown",
   "id": "fdf1305a-1eb1-4ff2-a20a-a19a57de7b13",
   "metadata": {},
   "source": [
    "# Introducion:"
   ]
  },
  {
   "cell_type": "markdown",
   "id": "515cddcf-ba1b-4078-8798-af81fbe6e790",
   "metadata": {},
   "source": [
    "There will be two sections in this notebook. The first portion [Iteration 1](#Iteration_1) datasets, The first is [01_sub_reddit_data](../Data/01_sub_reddit_data.csv) which contained an inital 3992 records; however upon our first analysis, we found that nearly 70% of our titles were removed by a moderator. We assume that removed post violate the subreddit guidelines which wont be representive of the subreddits.\n",
    "\n",
    "We then went back to the data collection notebook [01_data_collecting](../Code/01_data_collecting.ipynb) and added parameters to pull post that had a minimum of 4 post and was not removed by a moderator; however, the removed by moderator parameter was depercated. Then we proceeded to clean the data of the new column in [Iteration 1](#Iteration_2). We decided against concatenating the clean data to the new list, because we didnt want to cause issues with our feature engineered columns causing a punch of NULL or blank columns to appear in the new data set."
   ]
  },
  {
   "cell_type": "markdown",
   "id": "1b449bfe-62e9-4aa0-8be0-381fd20bc58a",
   "metadata": {
    "jp-MarkdownHeadingCollapsed": true,
    "tags": []
   },
   "source": [
    "# Iteration 1"
   ]
  },
  {
   "cell_type": "markdown",
   "id": "23af8a97-e945-41b4-a8e6-13024e568b6a",
   "metadata": {
    "tags": []
   },
   "source": [
    "## Load Data"
   ]
  },
  {
   "cell_type": "code",
   "execution_count": 2,
   "id": "9fe64d5e-5691-46a3-b633-533768e0d670",
   "metadata": {},
   "outputs": [
    {
     "data": {
      "text/html": [
       "<div>\n",
       "<style scoped>\n",
       "    .dataframe tbody tr th:only-of-type {\n",
       "        vertical-align: middle;\n",
       "    }\n",
       "\n",
       "    .dataframe tbody tr th {\n",
       "        vertical-align: top;\n",
       "    }\n",
       "\n",
       "    .dataframe thead th {\n",
       "        text-align: right;\n",
       "    }\n",
       "</style>\n",
       "<table border=\"1\" class=\"dataframe\">\n",
       "  <thead>\n",
       "    <tr style=\"text-align: right;\">\n",
       "      <th></th>\n",
       "      <th>subreddit</th>\n",
       "      <th>selftext</th>\n",
       "      <th>author_fullname</th>\n",
       "      <th>gilded</th>\n",
       "      <th>title</th>\n",
       "      <th>link_flair_richtext</th>\n",
       "      <th>subreddit_name_prefixed</th>\n",
       "      <th>hidden</th>\n",
       "      <th>pwls</th>\n",
       "      <th>link_flair_css_class</th>\n",
       "      <th>...</th>\n",
       "      <th>num_crossposts</th>\n",
       "      <th>media</th>\n",
       "      <th>is_video</th>\n",
       "      <th>retrieved_utc</th>\n",
       "      <th>updated_utc</th>\n",
       "      <th>utc_datetime_str</th>\n",
       "      <th>post_hint</th>\n",
       "      <th>preview</th>\n",
       "      <th>link_flair_template_id</th>\n",
       "      <th>author_cakeday</th>\n",
       "    </tr>\n",
       "  </thead>\n",
       "  <tbody>\n",
       "    <tr>\n",
       "      <th>0</th>\n",
       "      <td>AskWomen</td>\n",
       "      <td>[removed]</td>\n",
       "      <td>t2_v4u69ho5</td>\n",
       "      <td>0</td>\n",
       "      <td>How about true friendship between men and wome...</td>\n",
       "      <td>[]</td>\n",
       "      <td>r/AskWomen</td>\n",
       "      <td>False</td>\n",
       "      <td>6</td>\n",
       "      <td>NaN</td>\n",
       "      <td>...</td>\n",
       "      <td>0</td>\n",
       "      <td>NaN</td>\n",
       "      <td>False</td>\n",
       "      <td>1682375081</td>\n",
       "      <td>1682375081</td>\n",
       "      <td>2023-04-24 22:24:26</td>\n",
       "      <td>NaN</td>\n",
       "      <td>NaN</td>\n",
       "      <td>NaN</td>\n",
       "      <td>NaN</td>\n",
       "    </tr>\n",
       "  </tbody>\n",
       "</table>\n",
       "<p>1 rows × 90 columns</p>\n",
       "</div>"
      ],
      "text/plain": [
       "  subreddit   selftext author_fullname  gilded  \\\n",
       "0  AskWomen  [removed]     t2_v4u69ho5       0   \n",
       "\n",
       "                                               title link_flair_richtext  \\\n",
       "0  How about true friendship between men and wome...                  []   \n",
       "\n",
       "  subreddit_name_prefixed  hidden  pwls link_flair_css_class  ...  \\\n",
       "0              r/AskWomen   False     6                  NaN  ...   \n",
       "\n",
       "   num_crossposts  media  is_video  retrieved_utc updated_utc  \\\n",
       "0               0    NaN     False     1682375081  1682375081   \n",
       "\n",
       "      utc_datetime_str post_hint preview  link_flair_template_id  \\\n",
       "0  2023-04-24 22:24:26       NaN     NaN                     NaN   \n",
       "\n",
       "  author_cakeday  \n",
       "0            NaN  \n",
       "\n",
       "[1 rows x 90 columns]"
      ]
     },
     "execution_count": 2,
     "metadata": {},
     "output_type": "execute_result"
    }
   ],
   "source": [
    "df = pd.read_csv('../Data/01_sub_reddits_data.csv')\n",
    "df.head(1)"
   ]
  },
  {
   "cell_type": "markdown",
   "id": "7fc98fd5-7402-44a7-9cfe-c274b125b06c",
   "metadata": {
    "jp-MarkdownHeadingCollapsed": true,
    "tags": []
   },
   "source": [
    "## Clean and select features\n",
    "\n",
    "This portion is where we will select our inital features. As we clean our data we will continue to add additional features.\n",
    "\n",
    "The inital features we selected were\n",
    "1) Subreddit name\n",
    "2) Title of the post\n",
    "3) If the post has been hidden\n",
    "4) The time Stamp\n",
    "5) The number of comments"
   ]
  },
  {
   "cell_type": "code",
   "execution_count": 3,
   "id": "963b4e8f-15d6-4751-b234-2e73eb79e8d4",
   "metadata": {},
   "outputs": [
    {
     "data": {
      "text/plain": [
       "Index(['all_awardings', 'allow_live_comments', 'archived', 'author',\n",
       "       'author_cakeday', 'author_flair_background_color',\n",
       "       'author_flair_css_class', 'author_flair_richtext',\n",
       "       'author_flair_template_id', 'author_flair_text',\n",
       "       'author_flair_text_color', 'author_flair_type', 'author_fullname',\n",
       "       'author_patreon_flair', 'author_premium', 'awarders', 'can_gild',\n",
       "       'category', 'content_categories', 'contest_mode', 'created_utc',\n",
       "       'discussion_type', 'distinguished', 'domain', 'edited', 'gilded',\n",
       "       'gildings', 'hidden', 'hide_score', 'id', 'is_created_from_ads_ui',\n",
       "       'is_crosspostable', 'is_meta', 'is_original_content',\n",
       "       'is_reddit_media_domain', 'is_robot_indexable', 'is_self', 'is_video',\n",
       "       'link_flair_background_color', 'link_flair_css_class',\n",
       "       'link_flair_richtext', 'link_flair_template_id', 'link_flair_text',\n",
       "       'link_flair_text_color', 'link_flair_type', 'locked', 'media',\n",
       "       'media_embed', 'media_only', 'no_follow', 'num_comments',\n",
       "       'num_crossposts', 'over_18', 'parent_whitelist_status', 'permalink',\n",
       "       'pinned', 'post_hint', 'preview', 'pwls', 'quarantine', 'removed_by',\n",
       "       'removed_by_category', 'retrieved_utc', 'score', 'secure_media',\n",
       "       'secure_media_embed', 'selftext', 'send_replies', 'spoiler', 'stickied',\n",
       "       'subreddit', 'subreddit_id', 'subreddit_name_prefixed',\n",
       "       'subreddit_subscribers', 'subreddit_type', 'suggested_sort',\n",
       "       'thumbnail', 'thumbnail_height', 'thumbnail_width', 'title',\n",
       "       'top_awarded_type', 'total_awards_received', 'treatment_tags',\n",
       "       'updated_utc', 'upvote_ratio', 'url', 'utc_datetime_str', 'view_count',\n",
       "       'whitelist_status', 'wls'],\n",
       "      dtype='object')"
      ]
     },
     "execution_count": 3,
     "metadata": {},
     "output_type": "execute_result"
    }
   ],
   "source": [
    "df.columns.sort_values()"
   ]
  },
  {
   "cell_type": "code",
   "execution_count": 4,
   "id": "377f4d13-200c-4c23-922e-f2caf01122c9",
   "metadata": {},
   "outputs": [],
   "source": [
    "clean_df=df[['id', 'subreddit','title', 'utc_datetime_str', 'hidden', 'num_comments']]"
   ]
  },
  {
   "cell_type": "code",
   "execution_count": 5,
   "id": "6d51773a-88cd-473e-8510-503c73209bfd",
   "metadata": {},
   "outputs": [],
   "source": [
    "#set an index that we can reference if needed\n",
    "clean_df.set_index('id', inplace=True)\n",
    "df.set_index('id', inplace=True)"
   ]
  },
  {
   "cell_type": "code",
   "execution_count": 6,
   "id": "bfd83c23-3c9b-492e-9261-a74ded761461",
   "metadata": {},
   "outputs": [
    {
     "data": {
      "text/html": [
       "<div>\n",
       "<style scoped>\n",
       "    .dataframe tbody tr th:only-of-type {\n",
       "        vertical-align: middle;\n",
       "    }\n",
       "\n",
       "    .dataframe tbody tr th {\n",
       "        vertical-align: top;\n",
       "    }\n",
       "\n",
       "    .dataframe thead th {\n",
       "        text-align: right;\n",
       "    }\n",
       "</style>\n",
       "<table border=\"1\" class=\"dataframe\">\n",
       "  <thead>\n",
       "    <tr style=\"text-align: right;\">\n",
       "      <th></th>\n",
       "      <th>subreddit</th>\n",
       "      <th>title</th>\n",
       "      <th>utc_datetime_str</th>\n",
       "      <th>hidden</th>\n",
       "      <th>num_comments</th>\n",
       "    </tr>\n",
       "    <tr>\n",
       "      <th>id</th>\n",
       "      <th></th>\n",
       "      <th></th>\n",
       "      <th></th>\n",
       "      <th></th>\n",
       "      <th></th>\n",
       "    </tr>\n",
       "  </thead>\n",
       "  <tbody>\n",
       "    <tr>\n",
       "      <th>12xyt9k</th>\n",
       "      <td>AskWomen</td>\n",
       "      <td>How about true friendship between men and wome...</td>\n",
       "      <td>2023-04-24 22:24:26</td>\n",
       "      <td>False</td>\n",
       "      <td>0</td>\n",
       "    </tr>\n",
       "    <tr>\n",
       "      <th>12xymt1</th>\n",
       "      <td>AskWomen</td>\n",
       "      <td>Does this mean she’s not interested? What shou...</td>\n",
       "      <td>2023-04-24 22:18:10</td>\n",
       "      <td>False</td>\n",
       "      <td>1</td>\n",
       "    </tr>\n",
       "    <tr>\n",
       "      <th>12xylur</th>\n",
       "      <td>AskWomen</td>\n",
       "      <td>What’s something that your brain cannot compre...</td>\n",
       "      <td>2023-04-24 22:17:10</td>\n",
       "      <td>False</td>\n",
       "      <td>0</td>\n",
       "    </tr>\n",
       "  </tbody>\n",
       "</table>\n",
       "</div>"
      ],
      "text/plain": [
       "        subreddit                                              title  \\\n",
       "id                                                                     \n",
       "12xyt9k  AskWomen  How about true friendship between men and wome...   \n",
       "12xymt1  AskWomen  Does this mean she’s not interested? What shou...   \n",
       "12xylur  AskWomen  What’s something that your brain cannot compre...   \n",
       "\n",
       "            utc_datetime_str  hidden  num_comments  \n",
       "id                                                  \n",
       "12xyt9k  2023-04-24 22:24:26   False             0  \n",
       "12xymt1  2023-04-24 22:18:10   False             1  \n",
       "12xylur  2023-04-24 22:17:10   False             0  "
      ]
     },
     "execution_count": 6,
     "metadata": {},
     "output_type": "execute_result"
    }
   ],
   "source": [
    "clean_df.head(3)"
   ]
  },
  {
   "cell_type": "markdown",
   "id": "78ba19d8-8a23-40e9-9e94-a76cf1f24d52",
   "metadata": {
    "tags": []
   },
   "source": [
    "## Feature engineering"
   ]
  },
  {
   "cell_type": "markdown",
   "id": "792ed251-b4c7-4ddf-b808-e47f66018d4d",
   "metadata": {
    "tags": []
   },
   "source": [
    "### Creating a date column\n",
    "This portion is used to get the date of a post, and identify what day of the week of a post"
   ]
  },
  {
   "cell_type": "code",
   "execution_count": 7,
   "id": "e6b858ec-fedf-4092-9722-1a4cfba09be2",
   "metadata": {},
   "outputs": [
    {
     "name": "stderr",
     "output_type": "stream",
     "text": [
      "C:\\Users\\Derik\\AppData\\Local\\Temp\\ipykernel_20020\\1726003547.py:2: SettingWithCopyWarning: \n",
      "A value is trying to be set on a copy of a slice from a DataFrame.\n",
      "Try using .loc[row_indexer,col_indexer] = value instead\n",
      "\n",
      "See the caveats in the documentation: https://pandas.pydata.org/pandas-docs/stable/user_guide/indexing.html#returning-a-view-versus-a-copy\n",
      "  clean_df.loc[:, 'utc_datetime_str']= pd.to_datetime(clean_df.loc[:, 'utc_datetime_str'])\n"
     ]
    }
   ],
   "source": [
    "#convert the utc_datetime_str into a date time data type\n",
    "clean_df.loc[:, 'utc_datetime_str']= pd.to_datetime(clean_df.loc[:, 'utc_datetime_str'])"
   ]
  },
  {
   "cell_type": "code",
   "execution_count": 8,
   "id": "73e40bdf-1c82-4eb4-9d00-cb5857f9c5c6",
   "metadata": {},
   "outputs": [
    {
     "data": {
      "text/html": [
       "<div>\n",
       "<style scoped>\n",
       "    .dataframe tbody tr th:only-of-type {\n",
       "        vertical-align: middle;\n",
       "    }\n",
       "\n",
       "    .dataframe tbody tr th {\n",
       "        vertical-align: top;\n",
       "    }\n",
       "\n",
       "    .dataframe thead th {\n",
       "        text-align: right;\n",
       "    }\n",
       "</style>\n",
       "<table border=\"1\" class=\"dataframe\">\n",
       "  <thead>\n",
       "    <tr style=\"text-align: right;\">\n",
       "      <th></th>\n",
       "      <th>subreddit</th>\n",
       "      <th>title</th>\n",
       "      <th>utc_datetime_str</th>\n",
       "      <th>hidden</th>\n",
       "      <th>num_comments</th>\n",
       "    </tr>\n",
       "    <tr>\n",
       "      <th>id</th>\n",
       "      <th></th>\n",
       "      <th></th>\n",
       "      <th></th>\n",
       "      <th></th>\n",
       "      <th></th>\n",
       "    </tr>\n",
       "  </thead>\n",
       "  <tbody>\n",
       "    <tr>\n",
       "      <th>12xyt9k</th>\n",
       "      <td>AskWomen</td>\n",
       "      <td>How about true friendship between men and wome...</td>\n",
       "      <td>2023-04-24 22:24:26</td>\n",
       "      <td>False</td>\n",
       "      <td>0</td>\n",
       "    </tr>\n",
       "    <tr>\n",
       "      <th>12xymt1</th>\n",
       "      <td>AskWomen</td>\n",
       "      <td>Does this mean she’s not interested? What shou...</td>\n",
       "      <td>2023-04-24 22:18:10</td>\n",
       "      <td>False</td>\n",
       "      <td>1</td>\n",
       "    </tr>\n",
       "    <tr>\n",
       "      <th>12xylur</th>\n",
       "      <td>AskWomen</td>\n",
       "      <td>What’s something that your brain cannot compre...</td>\n",
       "      <td>2023-04-24 22:17:10</td>\n",
       "      <td>False</td>\n",
       "      <td>0</td>\n",
       "    </tr>\n",
       "  </tbody>\n",
       "</table>\n",
       "</div>"
      ],
      "text/plain": [
       "        subreddit                                              title  \\\n",
       "id                                                                     \n",
       "12xyt9k  AskWomen  How about true friendship between men and wome...   \n",
       "12xymt1  AskWomen  Does this mean she’s not interested? What shou...   \n",
       "12xylur  AskWomen  What’s something that your brain cannot compre...   \n",
       "\n",
       "           utc_datetime_str  hidden  num_comments  \n",
       "id                                                 \n",
       "12xyt9k 2023-04-24 22:24:26   False             0  \n",
       "12xymt1 2023-04-24 22:18:10   False             1  \n",
       "12xylur 2023-04-24 22:17:10   False             0  "
      ]
     },
     "execution_count": 8,
     "metadata": {},
     "output_type": "execute_result"
    }
   ],
   "source": [
    "clean_df.head(3)"
   ]
  },
  {
   "cell_type": "code",
   "execution_count": 9,
   "id": "c6fdb009-7cee-40f7-b055-16f421962234",
   "metadata": {},
   "outputs": [
    {
     "data": {
      "text/plain": [
       "subreddit                   object\n",
       "title                       object\n",
       "utc_datetime_str    datetime64[ns]\n",
       "hidden                        bool\n",
       "num_comments                 int64\n",
       "dtype: object"
      ]
     },
     "execution_count": 9,
     "metadata": {},
     "output_type": "execute_result"
    }
   ],
   "source": [
    "clean_df.dtypes"
   ]
  },
  {
   "cell_type": "code",
   "execution_count": 10,
   "id": "a4ccf360-1d64-4939-97b7-45c34814055e",
   "metadata": {},
   "outputs": [
    {
     "name": "stderr",
     "output_type": "stream",
     "text": [
      "C:\\Users\\Derik\\AppData\\Local\\Temp\\ipykernel_20020\\229520572.py:2: SettingWithCopyWarning: \n",
      "A value is trying to be set on a copy of a slice from a DataFrame.\n",
      "Try using .loc[row_indexer,col_indexer] = value instead\n",
      "\n",
      "See the caveats in the documentation: https://pandas.pydata.org/pandas-docs/stable/user_guide/indexing.html#returning-a-view-versus-a-copy\n",
      "  clean_df['day_name'] = clean_df['utc_datetime_str'].apply(lambda x: x.day_name())\n"
     ]
    }
   ],
   "source": [
    "#referenced this stack overflow: https://stackoverflow.com/questions/28009370/get-weekday-day-of-week-for-datetime-column-of-dataframe\n",
    "clean_df['day_name'] = clean_df['utc_datetime_str'].apply(lambda x: x.day_name())"
   ]
  },
  {
   "cell_type": "code",
   "execution_count": 11,
   "id": "2d1117d8-01cf-48e1-b754-3432eac7b87a",
   "metadata": {},
   "outputs": [
    {
     "data": {
      "text/html": [
       "<div>\n",
       "<style scoped>\n",
       "    .dataframe tbody tr th:only-of-type {\n",
       "        vertical-align: middle;\n",
       "    }\n",
       "\n",
       "    .dataframe tbody tr th {\n",
       "        vertical-align: top;\n",
       "    }\n",
       "\n",
       "    .dataframe thead th {\n",
       "        text-align: right;\n",
       "    }\n",
       "</style>\n",
       "<table border=\"1\" class=\"dataframe\">\n",
       "  <thead>\n",
       "    <tr style=\"text-align: right;\">\n",
       "      <th></th>\n",
       "      <th>subreddit</th>\n",
       "      <th>title</th>\n",
       "      <th>utc_datetime_str</th>\n",
       "      <th>hidden</th>\n",
       "      <th>num_comments</th>\n",
       "      <th>day_name</th>\n",
       "    </tr>\n",
       "    <tr>\n",
       "      <th>id</th>\n",
       "      <th></th>\n",
       "      <th></th>\n",
       "      <th></th>\n",
       "      <th></th>\n",
       "      <th></th>\n",
       "      <th></th>\n",
       "    </tr>\n",
       "  </thead>\n",
       "  <tbody>\n",
       "    <tr>\n",
       "      <th>12xyt9k</th>\n",
       "      <td>AskWomen</td>\n",
       "      <td>How about true friendship between men and wome...</td>\n",
       "      <td>2023-04-24 22:24:26</td>\n",
       "      <td>False</td>\n",
       "      <td>0</td>\n",
       "      <td>Monday</td>\n",
       "    </tr>\n",
       "    <tr>\n",
       "      <th>12xymt1</th>\n",
       "      <td>AskWomen</td>\n",
       "      <td>Does this mean she’s not interested? What shou...</td>\n",
       "      <td>2023-04-24 22:18:10</td>\n",
       "      <td>False</td>\n",
       "      <td>1</td>\n",
       "      <td>Monday</td>\n",
       "    </tr>\n",
       "    <tr>\n",
       "      <th>12xylur</th>\n",
       "      <td>AskWomen</td>\n",
       "      <td>What’s something that your brain cannot compre...</td>\n",
       "      <td>2023-04-24 22:17:10</td>\n",
       "      <td>False</td>\n",
       "      <td>0</td>\n",
       "      <td>Monday</td>\n",
       "    </tr>\n",
       "  </tbody>\n",
       "</table>\n",
       "</div>"
      ],
      "text/plain": [
       "        subreddit                                              title  \\\n",
       "id                                                                     \n",
       "12xyt9k  AskWomen  How about true friendship between men and wome...   \n",
       "12xymt1  AskWomen  Does this mean she’s not interested? What shou...   \n",
       "12xylur  AskWomen  What’s something that your brain cannot compre...   \n",
       "\n",
       "           utc_datetime_str  hidden  num_comments day_name  \n",
       "id                                                          \n",
       "12xyt9k 2023-04-24 22:24:26   False             0   Monday  \n",
       "12xymt1 2023-04-24 22:18:10   False             1   Monday  \n",
       "12xylur 2023-04-24 22:17:10   False             0   Monday  "
      ]
     },
     "execution_count": 11,
     "metadata": {},
     "output_type": "execute_result"
    }
   ],
   "source": [
    "clean_df.head(3)"
   ]
  },
  {
   "cell_type": "markdown",
   "id": "13689d65-4e2a-4993-909d-ef26ecd54637",
   "metadata": {
    "tags": []
   },
   "source": [
    "### Creating a title word count column\n",
    "This portion is used to check the word count of a title"
   ]
  },
  {
   "cell_type": "code",
   "execution_count": 12,
   "id": "3b5a37d6-7c14-4122-8f2b-84bc8b87dd60",
   "metadata": {},
   "outputs": [
    {
     "name": "stderr",
     "output_type": "stream",
     "text": [
      "C:\\Users\\Derik\\AppData\\Local\\Temp\\ipykernel_20020\\1397197032.py:1: SettingWithCopyWarning: \n",
      "A value is trying to be set on a copy of a slice from a DataFrame.\n",
      "Try using .loc[row_indexer,col_indexer] = value instead\n",
      "\n",
      "See the caveats in the documentation: https://pandas.pydata.org/pandas-docs/stable/user_guide/indexing.html#returning-a-view-versus-a-copy\n",
      "  clean_df['title_word_count'] = clean_df['title'].apply(lambda text: len(text.split()))\n"
     ]
    }
   ],
   "source": [
    "clean_df['title_word_count'] = clean_df['title'].apply(lambda text: len(text.split()))"
   ]
  },
  {
   "cell_type": "code",
   "execution_count": 13,
   "id": "aa255e54-f151-44ab-9e85-5bcbaf98b0e9",
   "metadata": {
    "scrolled": true,
    "tags": []
   },
   "outputs": [
    {
     "data": {
      "text/plain": [
       "9     333\n",
       "8     325\n",
       "10    312\n",
       "12    290\n",
       "11    269\n",
       "7     252\n",
       "13    213\n",
       "6     206\n",
       "14    205\n",
       "15    198\n",
       "17    153\n",
       "16    150\n",
       "18    123\n",
       "5     108\n",
       "19    100\n",
       "20     76\n",
       "4      74\n",
       "21     58\n",
       "23     57\n",
       "3      51\n",
       "22     50\n",
       "2      47\n",
       "1      42\n",
       "24     40\n",
       "25     39\n",
       "26     27\n",
       "27     25\n",
       "31     20\n",
       "28     19\n",
       "29     14\n",
       "30     13\n",
       "32     11\n",
       "35      9\n",
       "34      7\n",
       "49      6\n",
       "36      6\n",
       "39      5\n",
       "33      5\n",
       "52      5\n",
       "37      4\n",
       "44      4\n",
       "42      3\n",
       "38      3\n",
       "47      3\n",
       "56      3\n",
       "41      3\n",
       "59      3\n",
       "54      3\n",
       "43      3\n",
       "53      2\n",
       "51      2\n",
       "40      2\n",
       "45      2\n",
       "50      2\n",
       "46      2\n",
       "48      1\n",
       "62      1\n",
       "58      1\n",
       "63      1\n",
       "60      1\n",
       "Name: title_word_count, dtype: int64"
      ]
     },
     "execution_count": 13,
     "metadata": {},
     "output_type": "execute_result"
    }
   ],
   "source": [
    "#see distribution of word counts\n",
    "clean_df['title_word_count'].value_counts(sort=True)"
   ]
  },
  {
   "cell_type": "code",
   "execution_count": 14,
   "id": "9140b9d0-8ddb-4713-adaf-d423089c29f7",
   "metadata": {},
   "outputs": [
    {
     "data": {
      "image/png": "[encoded data removed]",
      "text/plain": [
       "<Figure size 1000x1000 with 1 Axes>"
      ]
     },
     "metadata": {},
     "output_type": "display_data"
    }
   ],
   "source": [
    "plt.figure(figsize=(10,10))\n",
    "sns.histplot(data= clean_df, multiple =\"stack\", x = 'title_word_count', hue='subreddit', bins=35)\n",
    "plt.axvline(x=clean_df['title_word_count'].median(), color='black', linewidth=4)\n",
    "plt.xlabel(\"Title word count\");"
   ]
  },
  {
   "cell_type": "markdown",
   "id": "218a045c-c26a-45c4-b435-0fa7c3746391",
   "metadata": {},
   "source": [
    "It appears there are vastly more post in askwomen and the median words in titles "
   ]
  },
  {
   "cell_type": "code",
   "execution_count": 15,
   "id": "78b48da2-3761-4ee3-8d26-97aa9b22260b",
   "metadata": {},
   "outputs": [
    {
     "data": {
      "image/png": "[encoded data removed]",
      "text/plain": [
       "<Figure size 1000x1000 with 1 Axes>"
      ]
     },
     "metadata": {},
     "output_type": "display_data"
    }
   ],
   "source": [
    "#Overview of post frequencies by day\n",
    "plt.figure(figsize=(10,10))\n",
    "sns.histplot(data= clean_df, multiple =\"stack\", x = 'day_name', hue='subreddit')\n",
    "plt.xlabel(\"Post count by day\");"
   ]
  },
  {
   "cell_type": "markdown",
   "id": "82f9e1a5-9406-4d34-9c75-41905a84279c",
   "metadata": {},
   "source": [
    "It appears the frequency of post is significantly higher in AskWomen that it is in askmen. The days with the fewest post are from wednesday and tuesday."
   ]
  },
  {
   "cell_type": "markdown",
   "id": "96addfc6-a7f4-4b46-92d3-348066c99d2b",
   "metadata": {},
   "source": [
    "### Sentiment analysis"
   ]
  },
  {
   "cell_type": "code",
   "execution_count": 16,
   "id": "161818a9-5cfd-48f7-b467-c69770ed4ea8",
   "metadata": {},
   "outputs": [],
   "source": [
    "sent = SentimentIntensityAnalyzer()"
   ]
  },
  {
   "cell_type": "code",
   "execution_count": 17,
   "id": "13795331-85b9-493d-9357-1346d3197d6a",
   "metadata": {},
   "outputs": [
    {
     "data": {
      "text/plain": [
       "{'neg': 0.0, 'neu': 0.584, 'pos': 0.416, 'compound': 0.6908}"
      ]
     },
     "execution_count": 17,
     "metadata": {},
     "output_type": "execute_result"
    }
   ],
   "source": [
    "#test to see the output of the analyzer\n",
    "sent.polarity_scores(clean_df['title'][0])"
   ]
  },
  {
   "cell_type": "code",
   "execution_count": 18,
   "id": "4967c38c-2659-4ad5-af0b-dd0aed0b1c7f",
   "metadata": {},
   "outputs": [
    {
     "data": {
      "text/plain": [
       "0.584"
      ]
     },
     "execution_count": 18,
     "metadata": {},
     "output_type": "execute_result"
    }
   ],
   "source": [
    "#testing to see how to index the dictionary\n",
    "sent.polarity_scores(clean_df['title'][0])['neu']"
   ]
  },
  {
   "cell_type": "code",
   "execution_count": 19,
   "id": "2ab0378e-4b91-4929-bbe2-9e4b0823d762",
   "metadata": {},
   "outputs": [
    {
     "name": "stderr",
     "output_type": "stream",
     "text": [
      "C:\\Users\\Derik\\AppData\\Local\\Temp\\ipykernel_20020\\2725373906.py:2: SettingWithCopyWarning: \n",
      "A value is trying to be set on a copy of a slice from a DataFrame.\n",
      "Try using .loc[row_indexer,col_indexer] = value instead\n",
      "\n",
      "See the caveats in the documentation: https://pandas.pydata.org/pandas-docs/stable/user_guide/indexing.html#returning-a-view-versus-a-copy\n",
      "  clean_df['negative_score'] = [sent.polarity_scores(clean_df['title'][i])['neg'] for i in range(len(clean_df['title']))]\n",
      "C:\\Users\\Derik\\AppData\\Local\\Temp\\ipykernel_20020\\2725373906.py:3: SettingWithCopyWarning: \n",
      "A value is trying to be set on a copy of a slice from a DataFrame.\n",
      "Try using .loc[row_indexer,col_indexer] = value instead\n",
      "\n",
      "See the caveats in the documentation: https://pandas.pydata.org/pandas-docs/stable/user_guide/indexing.html#returning-a-view-versus-a-copy\n",
      "  clean_df['neutral_score'] = [sent.polarity_scores(clean_df['title'][i])['neu'] for i in range(len(clean_df['title']))]\n",
      "C:\\Users\\Derik\\AppData\\Local\\Temp\\ipykernel_20020\\2725373906.py:4: SettingWithCopyWarning: \n",
      "A value is trying to be set on a copy of a slice from a DataFrame.\n",
      "Try using .loc[row_indexer,col_indexer] = value instead\n",
      "\n",
      "See the caveats in the documentation: https://pandas.pydata.org/pandas-docs/stable/user_guide/indexing.html#returning-a-view-versus-a-copy\n",
      "  clean_df['positive_score'] = [sent.polarity_scores(clean_df['title'][i])['pos'] for i in range(len(clean_df['title']))]\n",
      "C:\\Users\\Derik\\AppData\\Local\\Temp\\ipykernel_20020\\2725373906.py:5: SettingWithCopyWarning: \n",
      "A value is trying to be set on a copy of a slice from a DataFrame.\n",
      "Try using .loc[row_indexer,col_indexer] = value instead\n",
      "\n",
      "See the caveats in the documentation: https://pandas.pydata.org/pandas-docs/stable/user_guide/indexing.html#returning-a-view-versus-a-copy\n",
      "  clean_df['compound_score'] = [sent.polarity_scores(clean_df['title'][i])['compound'] for i in range(len(clean_df['title']))]\n"
     ]
    }
   ],
   "source": [
    "#splitting scores into columns\n",
    "clean_df['negative_score'] = [sent.polarity_scores(clean_df['title'][i])['neg'] for i in range(len(clean_df['title']))]\n",
    "clean_df['neutral_score'] = [sent.polarity_scores(clean_df['title'][i])['neu'] for i in range(len(clean_df['title']))]\n",
    "clean_df['positive_score'] = [sent.polarity_scores(clean_df['title'][i])['pos'] for i in range(len(clean_df['title']))]\n",
    "clean_df['compound_score'] = [sent.polarity_scores(clean_df['title'][i])['compound'] for i in range(len(clean_df['title']))]"
   ]
  },
  {
   "cell_type": "code",
   "execution_count": 20,
   "id": "dff6d015-622a-4d82-a9c1-9eb4edfd120e",
   "metadata": {},
   "outputs": [
    {
     "data": {
      "text/html": [
       "<div>\n",
       "<style scoped>\n",
       "    .dataframe tbody tr th:only-of-type {\n",
       "        vertical-align: middle;\n",
       "    }\n",
       "\n",
       "    .dataframe tbody tr th {\n",
       "        vertical-align: top;\n",
       "    }\n",
       "\n",
       "    .dataframe thead th {\n",
       "        text-align: right;\n",
       "    }\n",
       "</style>\n",
       "<table border=\"1\" class=\"dataframe\">\n",
       "  <thead>\n",
       "    <tr style=\"text-align: right;\">\n",
       "      <th></th>\n",
       "      <th>subreddit</th>\n",
       "      <th>title</th>\n",
       "      <th>utc_datetime_str</th>\n",
       "      <th>hidden</th>\n",
       "      <th>num_comments</th>\n",
       "      <th>day_name</th>\n",
       "      <th>title_word_count</th>\n",
       "      <th>negative_score</th>\n",
       "      <th>neutral_score</th>\n",
       "      <th>positive_score</th>\n",
       "      <th>compound_score</th>\n",
       "    </tr>\n",
       "    <tr>\n",
       "      <th>id</th>\n",
       "      <th></th>\n",
       "      <th></th>\n",
       "      <th></th>\n",
       "      <th></th>\n",
       "      <th></th>\n",
       "      <th></th>\n",
       "      <th></th>\n",
       "      <th></th>\n",
       "      <th></th>\n",
       "      <th></th>\n",
       "      <th></th>\n",
       "    </tr>\n",
       "  </thead>\n",
       "  <tbody>\n",
       "    <tr>\n",
       "      <th>12xyt9k</th>\n",
       "      <td>AskWomen</td>\n",
       "      <td>How about true friendship between men and wome...</td>\n",
       "      <td>2023-04-24 22:24:26</td>\n",
       "      <td>False</td>\n",
       "      <td>0</td>\n",
       "      <td>Monday</td>\n",
       "      <td>10</td>\n",
       "      <td>0.000</td>\n",
       "      <td>0.584</td>\n",
       "      <td>0.416</td>\n",
       "      <td>0.6908</td>\n",
       "    </tr>\n",
       "    <tr>\n",
       "      <th>12xymt1</th>\n",
       "      <td>AskWomen</td>\n",
       "      <td>Does this mean she’s not interested? What shou...</td>\n",
       "      <td>2023-04-24 22:18:10</td>\n",
       "      <td>False</td>\n",
       "      <td>1</td>\n",
       "      <td>Monday</td>\n",
       "      <td>10</td>\n",
       "      <td>0.247</td>\n",
       "      <td>0.753</td>\n",
       "      <td>0.000</td>\n",
       "      <td>-0.3855</td>\n",
       "    </tr>\n",
       "    <tr>\n",
       "      <th>12xylur</th>\n",
       "      <td>AskWomen</td>\n",
       "      <td>What’s something that your brain cannot compre...</td>\n",
       "      <td>2023-04-24 22:17:10</td>\n",
       "      <td>False</td>\n",
       "      <td>0</td>\n",
       "      <td>Monday</td>\n",
       "      <td>12</td>\n",
       "      <td>0.000</td>\n",
       "      <td>1.000</td>\n",
       "      <td>0.000</td>\n",
       "      <td>0.0000</td>\n",
       "    </tr>\n",
       "    <tr>\n",
       "      <th>12xylln</th>\n",
       "      <td>AskWomen</td>\n",
       "      <td>Does this mean she’s not interested? What shou...</td>\n",
       "      <td>2023-04-24 22:16:55</td>\n",
       "      <td>False</td>\n",
       "      <td>1</td>\n",
       "      <td>Monday</td>\n",
       "      <td>10</td>\n",
       "      <td>0.247</td>\n",
       "      <td>0.753</td>\n",
       "      <td>0.000</td>\n",
       "      <td>-0.3855</td>\n",
       "    </tr>\n",
       "    <tr>\n",
       "      <th>12xy4mb</th>\n",
       "      <td>AskWomen</td>\n",
       "      <td>Out of curiosity, what are reasons TO have chi...</td>\n",
       "      <td>2023-04-24 22:00:29</td>\n",
       "      <td>False</td>\n",
       "      <td>1</td>\n",
       "      <td>Monday</td>\n",
       "      <td>9</td>\n",
       "      <td>0.000</td>\n",
       "      <td>1.000</td>\n",
       "      <td>0.000</td>\n",
       "      <td>0.0000</td>\n",
       "    </tr>\n",
       "  </tbody>\n",
       "</table>\n",
       "</div>"
      ],
      "text/plain": [
       "        subreddit                                              title  \\\n",
       "id                                                                     \n",
       "12xyt9k  AskWomen  How about true friendship between men and wome...   \n",
       "12xymt1  AskWomen  Does this mean she’s not interested? What shou...   \n",
       "12xylur  AskWomen  What’s something that your brain cannot compre...   \n",
       "12xylln  AskWomen  Does this mean she’s not interested? What shou...   \n",
       "12xy4mb  AskWomen  Out of curiosity, what are reasons TO have chi...   \n",
       "\n",
       "           utc_datetime_str  hidden  num_comments day_name  title_word_count  \\\n",
       "id                                                                             \n",
       "12xyt9k 2023-04-24 22:24:26   False             0   Monday                10   \n",
       "12xymt1 2023-04-24 22:18:10   False             1   Monday                10   \n",
       "12xylur 2023-04-24 22:17:10   False             0   Monday                12   \n",
       "12xylln 2023-04-24 22:16:55   False             1   Monday                10   \n",
       "12xy4mb 2023-04-24 22:00:29   False             1   Monday                 9   \n",
       "\n",
       "         negative_score  neutral_score  positive_score  compound_score  \n",
       "id                                                                      \n",
       "12xyt9k           0.000          0.584           0.416          0.6908  \n",
       "12xymt1           0.247          0.753           0.000         -0.3855  \n",
       "12xylur           0.000          1.000           0.000          0.0000  \n",
       "12xylln           0.247          0.753           0.000         -0.3855  \n",
       "12xy4mb           0.000          1.000           0.000          0.0000  "
      ]
     },
     "execution_count": 20,
     "metadata": {},
     "output_type": "execute_result"
    }
   ],
   "source": [
    "clean_df.head(5)"
   ]
  },
  {
   "cell_type": "markdown",
   "id": "f0c3ecf8-febb-411c-8e7c-684c9f6792b0",
   "metadata": {
    "tags": []
   },
   "source": [
    "### Checking the 'hidden' column\n",
    "This portion is to check to see if a post has been hidden"
   ]
  },
  {
   "cell_type": "code",
   "execution_count": 21,
   "id": "c86561d6-2cf9-4414-a6b3-b4e2b49133c5",
   "metadata": {},
   "outputs": [
    {
     "data": {
      "text/plain": [
       "False    3992\n",
       "Name: hidden, dtype: int64"
      ]
     },
     "execution_count": 21,
     "metadata": {},
     "output_type": "execute_result"
    }
   ],
   "source": [
    "#check the hidden column\n",
    "clean_df['hidden'].value_counts()"
   ]
  },
  {
   "cell_type": "code",
   "execution_count": 22,
   "id": "3bec4bed-31c1-4b56-9edc-19b4691adbc4",
   "metadata": {},
   "outputs": [
    {
     "name": "stderr",
     "output_type": "stream",
     "text": [
      "C:\\Users\\Derik\\AppData\\Local\\Temp\\ipykernel_20020\\1289743119.py:2: SettingWithCopyWarning: \n",
      "A value is trying to be set on a copy of a slice from a DataFrame\n",
      "\n",
      "See the caveats in the documentation: https://pandas.pydata.org/pandas-docs/stable/user_guide/indexing.html#returning-a-view-versus-a-copy\n",
      "  clean_df.drop(columns = 'hidden', inplace=True)\n"
     ]
    }
   ],
   "source": [
    "#removed the hidden column since there are only false values\n",
    "clean_df.drop(columns = 'hidden', inplace=True)"
   ]
  },
  {
   "cell_type": "markdown",
   "id": "e8ad012e-d28b-4708-b5a0-e2b7178f2bb2",
   "metadata": {},
   "source": [
    "Since none of the post in the dataset are hidden, I decided to just remove this feature because it doesnt differentiate our subreddits. "
   ]
  },
  {
   "cell_type": "markdown",
   "id": "59a6ef6d-b82e-4222-bfb6-2e70911345b3",
   "metadata": {
    "tags": []
   },
   "source": [
    "### Checking the num_comments column\n",
    "This portion is used to check how many comments are in each post."
   ]
  },
  {
   "cell_type": "code",
   "execution_count": 23,
   "id": "c3a9383d-21b8-4903-b7ac-0af219bd375e",
   "metadata": {},
   "outputs": [
    {
     "data": {
      "text/plain": [
       "1    2300\n",
       "0    1691\n",
       "3       1\n",
       "Name: num_comments, dtype: int64"
      ]
     },
     "execution_count": 23,
     "metadata": {},
     "output_type": "execute_result"
    }
   ],
   "source": [
    "'''\n",
    "I had assumed num_comments was the number of comments within a thread, but thought the valuecounts was weird,\n",
    "so when I looked at the api documentation it didnt specific what it was.\n",
    "The Api documentation just states that num_comments is an integer between 1 and 500.\n",
    "\n",
    "Will need to see how many post have been removed as well because that indicates a post was removed before\n",
    "people could respond.\n",
    "'''\n",
    "clean_df['num_comments'].value_counts()"
   ]
  },
  {
   "cell_type": "markdown",
   "id": "b9a05a33-1157-4921-a78c-7c05ac892c4c",
   "metadata": {},
   "source": [
    "________________________________________________________________________________\n",
    "### Checking the removed column\n",
    "This portion is used to check if a significant number of our post were removed"
   ]
  },
  {
   "cell_type": "code",
   "execution_count": 24,
   "id": "b867a01e-8e80-4097-8bdc-3eff893f3f5f",
   "metadata": {},
   "outputs": [
    {
     "data": {
      "text/plain": [
       "moderator           0.666333\n",
       "automod_filtered    0.047595\n",
       "deleted             0.018537\n",
       "reddit              0.015030\n",
       "Name: removed_by_category, dtype: float64"
      ]
     },
     "execution_count": 24,
     "metadata": {},
     "output_type": "execute_result"
    }
   ],
   "source": [
    "#check percent of post removed, df is the entire dataset without filtering\n",
    "df['removed_by_category'].value_counts() / len(df)"
   ]
  },
  {
   "cell_type": "markdown",
   "id": "d13a9d86-0c79-4ee4-aa1b-e5d976c4fc25",
   "metadata": {},
   "source": [
    "Here is appears about 70% of post have been removed. I will now create a feature for our dataframe to determine if a post has been removed."
   ]
  },
  {
   "cell_type": "code",
   "execution_count": 25,
   "id": "d46e6aab-97da-4de0-a8b3-3a5424b4cc1a",
   "metadata": {},
   "outputs": [
    {
     "data": {
      "text/plain": [
       "id\n",
       "12xyt9k    automod_filtered\n",
       "12xymt1           moderator\n",
       "12xylur                 NaN\n",
       "12xylln           moderator\n",
       "12xy4mb           moderator\n",
       "Name: removed_by_category, dtype: object"
      ]
     },
     "execution_count": 25,
     "metadata": {},
     "output_type": "execute_result"
    }
   ],
   "source": [
    "#check to see first few, here we see a nan, so we assume its not removed\n",
    "df['removed_by_category'].head(5)"
   ]
  },
  {
   "cell_type": "code",
   "execution_count": 26,
   "id": "708fcfbb-6c82-4a2d-b3b0-addf08068960",
   "metadata": {},
   "outputs": [
    {
     "data": {
      "text/plain": [
       "id\n",
       "12xyt9k    1\n",
       "12xymt1    1\n",
       "12xylur    0\n",
       "12xylln    1\n",
       "12xy4mb    1\n",
       "Name: removed_by_category, dtype: int32"
      ]
     },
     "execution_count": 26,
     "metadata": {},
     "output_type": "execute_result"
    }
   ],
   "source": [
    "#check to see if the true/false match\n",
    "df['removed_by_category'].notnull().head(5).astype(int)"
   ]
  },
  {
   "cell_type": "code",
   "execution_count": 27,
   "id": "9b967bda-7653-46ec-84a3-793587f1ce65",
   "metadata": {},
   "outputs": [
    {
     "name": "stderr",
     "output_type": "stream",
     "text": [
      "C:\\Users\\Derik\\AppData\\Local\\Temp\\ipykernel_20020\\3374793744.py:2: SettingWithCopyWarning: \n",
      "A value is trying to be set on a copy of a slice from a DataFrame.\n",
      "Try using .loc[row_indexer,col_indexer] = value instead\n",
      "\n",
      "See the caveats in the documentation: https://pandas.pydata.org/pandas-docs/stable/user_guide/indexing.html#returning-a-view-versus-a-copy\n",
      "  clean_df['is_removed'] = df['removed_by_category'].notnull().astype(int)\n"
     ]
    }
   ],
   "source": [
    "#NaNs indicate that a post was not removed,\n",
    "clean_df['is_removed'] = df['removed_by_category'].notnull().astype(int)"
   ]
  },
  {
   "cell_type": "code",
   "execution_count": 28,
   "id": "feae1c6e-3bc1-4e28-86a1-811510c29f2a",
   "metadata": {},
   "outputs": [
    {
     "data": {
      "text/plain": [
       "1    0.747495\n",
       "0    0.252505\n",
       "Name: is_removed, dtype: float64"
      ]
     },
     "execution_count": 28,
     "metadata": {},
     "output_type": "execute_result"
    }
   ],
   "source": [
    "clean_df['is_removed'].value_counts(normalize=True)"
   ]
  },
  {
   "cell_type": "markdown",
   "id": "7c77fa85-dbe6-415f-9a16-5c1daabc740c",
   "metadata": {},
   "source": [
    "Close to 75% of our data has been removed. Which is intresting. I wonder what type of questions get removed and which subreddit is more \"heavily\" moderated. With a high numer of removed post, it makes sense for the low number of comments, but it still feels low."
   ]
  },
  {
   "cell_type": "code",
   "execution_count": 29,
   "id": "fe4c0520-5f8e-4baa-b056-f28a0c56f989",
   "metadata": {},
   "outputs": [
    {
     "name": "stdout",
     "output_type": "stream",
     "text": [
      "<class 'pandas.core.frame.DataFrame'>\n",
      "Index: 3992 entries, 12xyt9k to 12szogj\n",
      "Data columns (total 11 columns):\n",
      " #   Column            Non-Null Count  Dtype         \n",
      "---  ------            --------------  -----         \n",
      " 0   subreddit         3992 non-null   object        \n",
      " 1   title             3992 non-null   object        \n",
      " 2   utc_datetime_str  3992 non-null   datetime64[ns]\n",
      " 3   num_comments      3992 non-null   int64         \n",
      " 4   day_name          3992 non-null   object        \n",
      " 5   title_word_count  3992 non-null   int64         \n",
      " 6   negative_score    3992 non-null   float64       \n",
      " 7   neutral_score     3992 non-null   float64       \n",
      " 8   positive_score    3992 non-null   float64       \n",
      " 9   compound_score    3992 non-null   float64       \n",
      " 10  is_removed        3992 non-null   int32         \n",
      "dtypes: datetime64[ns](1), float64(4), int32(1), int64(2), object(3)\n",
      "memory usage: 487.7+ KB\n"
     ]
    }
   ],
   "source": [
    "clean_df.info()"
   ]
  },
  {
   "cell_type": "markdown",
   "id": "6e2d9dff-8d16-4660-9836-5a6be5b62718",
   "metadata": {
    "jp-MarkdownHeadingCollapsed": true,
    "tags": []
   },
   "source": [
    "## Visualizing metrics"
   ]
  },
  {
   "cell_type": "markdown",
   "id": "355a4dc9-eaf0-4d80-8b51-262f9e4f9607",
   "metadata": {
    "jp-MarkdownHeadingCollapsed": true,
    "tags": []
   },
   "source": [
    "## Export cleaned data to a CSV"
   ]
  },
  {
   "cell_type": "code",
   "execution_count": 30,
   "id": "aea84807-60b2-4e23-9e8e-e07938f17f1b",
   "metadata": {},
   "outputs": [
    {
     "data": {
      "text/html": [
       "<div>\n",
       "<style scoped>\n",
       "    .dataframe tbody tr th:only-of-type {\n",
       "        vertical-align: middle;\n",
       "    }\n",
       "\n",
       "    .dataframe tbody tr th {\n",
       "        vertical-align: top;\n",
       "    }\n",
       "\n",
       "    .dataframe thead th {\n",
       "        text-align: right;\n",
       "    }\n",
       "</style>\n",
       "<table border=\"1\" class=\"dataframe\">\n",
       "  <thead>\n",
       "    <tr style=\"text-align: right;\">\n",
       "      <th></th>\n",
       "      <th>subreddit</th>\n",
       "      <th>title</th>\n",
       "      <th>utc_datetime_str</th>\n",
       "      <th>num_comments</th>\n",
       "      <th>day_name</th>\n",
       "      <th>title_word_count</th>\n",
       "      <th>negative_score</th>\n",
       "      <th>neutral_score</th>\n",
       "      <th>positive_score</th>\n",
       "      <th>compound_score</th>\n",
       "      <th>is_removed</th>\n",
       "    </tr>\n",
       "    <tr>\n",
       "      <th>id</th>\n",
       "      <th></th>\n",
       "      <th></th>\n",
       "      <th></th>\n",
       "      <th></th>\n",
       "      <th></th>\n",
       "      <th></th>\n",
       "      <th></th>\n",
       "      <th></th>\n",
       "      <th></th>\n",
       "      <th></th>\n",
       "      <th></th>\n",
       "    </tr>\n",
       "  </thead>\n",
       "  <tbody>\n",
       "    <tr>\n",
       "      <th>12xyt9k</th>\n",
       "      <td>AskWomen</td>\n",
       "      <td>How about true friendship between men and wome...</td>\n",
       "      <td>2023-04-24 22:24:26</td>\n",
       "      <td>0</td>\n",
       "      <td>Monday</td>\n",
       "      <td>10</td>\n",
       "      <td>0.0</td>\n",
       "      <td>0.584</td>\n",
       "      <td>0.416</td>\n",
       "      <td>0.6908</td>\n",
       "      <td>1</td>\n",
       "    </tr>\n",
       "  </tbody>\n",
       "</table>\n",
       "</div>"
      ],
      "text/plain": [
       "        subreddit                                              title  \\\n",
       "id                                                                     \n",
       "12xyt9k  AskWomen  How about true friendship between men and wome...   \n",
       "\n",
       "           utc_datetime_str  num_comments day_name  title_word_count  \\\n",
       "id                                                                     \n",
       "12xyt9k 2023-04-24 22:24:26             0   Monday                10   \n",
       "\n",
       "         negative_score  neutral_score  positive_score  compound_score  \\\n",
       "id                                                                       \n",
       "12xyt9k             0.0          0.584           0.416          0.6908   \n",
       "\n",
       "         is_removed  \n",
       "id                   \n",
       "12xyt9k           1  "
      ]
     },
     "execution_count": 30,
     "metadata": {},
     "output_type": "execute_result"
    }
   ],
   "source": [
    "clean_df.head(1)"
   ]
  },
  {
   "cell_type": "code",
   "execution_count": 31,
   "id": "e419bfd6-8385-43c6-939e-416d40ea1d89",
   "metadata": {},
   "outputs": [],
   "source": [
    "clean_df.to_csv('../Data/sub_reddit_data_clean.csv')"
   ]
  },
  {
   "cell_type": "markdown",
   "id": "f8e5244a-6593-44df-b9a4-526b09fa413b",
   "metadata": {
    "tags": []
   },
   "source": [
    "## Vectorizing title data"
   ]
  },
  {
   "cell_type": "code",
   "execution_count": 32,
   "id": "5056ff39-5ac4-4596-b86e-f910fd9bf009",
   "metadata": {},
   "outputs": [],
   "source": [
    "#loading in data, so we dont have to run the entire notebook again\n",
    "vect_df = pd.read_csv('../Data/sub_reddit_data_clean.csv')"
   ]
  },
  {
   "cell_type": "code",
   "execution_count": 33,
   "id": "d30edf56-e054-4030-b41d-9e36b2581c25",
   "metadata": {},
   "outputs": [
    {
     "data": {
      "text/html": [
       "<div>\n",
       "<style scoped>\n",
       "    .dataframe tbody tr th:only-of-type {\n",
       "        vertical-align: middle;\n",
       "    }\n",
       "\n",
       "    .dataframe tbody tr th {\n",
       "        vertical-align: top;\n",
       "    }\n",
       "\n",
       "    .dataframe thead th {\n",
       "        text-align: right;\n",
       "    }\n",
       "</style>\n",
       "<table border=\"1\" class=\"dataframe\">\n",
       "  <thead>\n",
       "    <tr style=\"text-align: right;\">\n",
       "      <th></th>\n",
       "      <th>id</th>\n",
       "      <th>subreddit</th>\n",
       "      <th>title</th>\n",
       "      <th>utc_datetime_str</th>\n",
       "      <th>num_comments</th>\n",
       "      <th>day_name</th>\n",
       "      <th>title_word_count</th>\n",
       "      <th>negative_score</th>\n",
       "      <th>neutral_score</th>\n",
       "      <th>positive_score</th>\n",
       "      <th>compound_score</th>\n",
       "      <th>is_removed</th>\n",
       "    </tr>\n",
       "  </thead>\n",
       "  <tbody>\n",
       "    <tr>\n",
       "      <th>0</th>\n",
       "      <td>12xyt9k</td>\n",
       "      <td>AskWomen</td>\n",
       "      <td>How about true friendship between men and wome...</td>\n",
       "      <td>2023-04-24 22:24:26</td>\n",
       "      <td>0</td>\n",
       "      <td>Monday</td>\n",
       "      <td>10</td>\n",
       "      <td>0.0</td>\n",
       "      <td>0.584</td>\n",
       "      <td>0.416</td>\n",
       "      <td>0.6908</td>\n",
       "      <td>1</td>\n",
       "    </tr>\n",
       "  </tbody>\n",
       "</table>\n",
       "</div>"
      ],
      "text/plain": [
       "        id subreddit                                              title  \\\n",
       "0  12xyt9k  AskWomen  How about true friendship between men and wome...   \n",
       "\n",
       "      utc_datetime_str  num_comments day_name  title_word_count  \\\n",
       "0  2023-04-24 22:24:26             0   Monday                10   \n",
       "\n",
       "   negative_score  neutral_score  positive_score  compound_score  is_removed  \n",
       "0             0.0          0.584           0.416          0.6908           1  "
      ]
     },
     "execution_count": 33,
     "metadata": {},
     "output_type": "execute_result"
    }
   ],
   "source": [
    "vect_df.head(1)"
   ]
  },
  {
   "cell_type": "code",
   "execution_count": 34,
   "id": "a84d0cc0-0c4c-426e-8d80-1b065e67700c",
   "metadata": {},
   "outputs": [
    {
     "data": {
      "text/plain": [
       "(3992, 4600)"
      ]
     },
     "execution_count": 34,
     "metadata": {},
     "output_type": "execute_result"
    }
   ],
   "source": [
    "cvec = CountVectorizer(stop_words='english')\n",
    "X= vect_df['title']\n",
    "X_cv = cvec.fit_transform(X)\n",
    "X_cv.shape"
   ]
  },
  {
   "cell_type": "code",
   "execution_count": 35,
   "id": "76d5f7db-14e2-4cf3-bbf3-2101bffee156",
   "metadata": {},
   "outputs": [
    {
     "data": {
      "text/html": [
       "<div>\n",
       "<style scoped>\n",
       "    .dataframe tbody tr th:only-of-type {\n",
       "        vertical-align: middle;\n",
       "    }\n",
       "\n",
       "    .dataframe tbody tr th {\n",
       "        vertical-align: top;\n",
       "    }\n",
       "\n",
       "    .dataframe thead th {\n",
       "        text-align: right;\n",
       "    }\n",
       "</style>\n",
       "<table border=\"1\" class=\"dataframe\">\n",
       "  <thead>\n",
       "    <tr style=\"text-align: right;\">\n",
       "      <th></th>\n",
       "      <th>0ft</th>\n",
       "      <th>10</th>\n",
       "      <th>100</th>\n",
       "      <th>1000</th>\n",
       "      <th>10k</th>\n",
       "      <th>11</th>\n",
       "      <th>12</th>\n",
       "      <th>120</th>\n",
       "      <th>13</th>\n",
       "      <th>15</th>\n",
       "      <th>...</th>\n",
       "      <th>youve</th>\n",
       "      <th>yr</th>\n",
       "      <th>yrs</th>\n",
       "      <th>zaralynn</th>\n",
       "      <th>zodiac</th>\n",
       "      <th>zone</th>\n",
       "      <th>вопросы</th>\n",
       "      <th>задавайте</th>\n",
       "      <th>миллионеров</th>\n",
       "      <th>сын</th>\n",
       "    </tr>\n",
       "  </thead>\n",
       "  <tbody>\n",
       "    <tr>\n",
       "      <th>0</th>\n",
       "      <td>0</td>\n",
       "      <td>0</td>\n",
       "      <td>0</td>\n",
       "      <td>0</td>\n",
       "      <td>0</td>\n",
       "      <td>0</td>\n",
       "      <td>0</td>\n",
       "      <td>0</td>\n",
       "      <td>0</td>\n",
       "      <td>0</td>\n",
       "      <td>...</td>\n",
       "      <td>0</td>\n",
       "      <td>0</td>\n",
       "      <td>0</td>\n",
       "      <td>0</td>\n",
       "      <td>0</td>\n",
       "      <td>0</td>\n",
       "      <td>0</td>\n",
       "      <td>0</td>\n",
       "      <td>0</td>\n",
       "      <td>0</td>\n",
       "    </tr>\n",
       "    <tr>\n",
       "      <th>1</th>\n",
       "      <td>0</td>\n",
       "      <td>0</td>\n",
       "      <td>0</td>\n",
       "      <td>0</td>\n",
       "      <td>0</td>\n",
       "      <td>0</td>\n",
       "      <td>0</td>\n",
       "      <td>0</td>\n",
       "      <td>0</td>\n",
       "      <td>0</td>\n",
       "      <td>...</td>\n",
       "      <td>0</td>\n",
       "      <td>0</td>\n",
       "      <td>0</td>\n",
       "      <td>0</td>\n",
       "      <td>0</td>\n",
       "      <td>0</td>\n",
       "      <td>0</td>\n",
       "      <td>0</td>\n",
       "      <td>0</td>\n",
       "      <td>0</td>\n",
       "    </tr>\n",
       "    <tr>\n",
       "      <th>2</th>\n",
       "      <td>0</td>\n",
       "      <td>0</td>\n",
       "      <td>0</td>\n",
       "      <td>0</td>\n",
       "      <td>0</td>\n",
       "      <td>0</td>\n",
       "      <td>0</td>\n",
       "      <td>0</td>\n",
       "      <td>0</td>\n",
       "      <td>0</td>\n",
       "      <td>...</td>\n",
       "      <td>0</td>\n",
       "      <td>0</td>\n",
       "      <td>0</td>\n",
       "      <td>0</td>\n",
       "      <td>0</td>\n",
       "      <td>0</td>\n",
       "      <td>0</td>\n",
       "      <td>0</td>\n",
       "      <td>0</td>\n",
       "      <td>0</td>\n",
       "    </tr>\n",
       "    <tr>\n",
       "      <th>3</th>\n",
       "      <td>0</td>\n",
       "      <td>0</td>\n",
       "      <td>0</td>\n",
       "      <td>0</td>\n",
       "      <td>0</td>\n",
       "      <td>0</td>\n",
       "      <td>0</td>\n",
       "      <td>0</td>\n",
       "      <td>0</td>\n",
       "      <td>0</td>\n",
       "      <td>...</td>\n",
       "      <td>0</td>\n",
       "      <td>0</td>\n",
       "      <td>0</td>\n",
       "      <td>0</td>\n",
       "      <td>0</td>\n",
       "      <td>0</td>\n",
       "      <td>0</td>\n",
       "      <td>0</td>\n",
       "      <td>0</td>\n",
       "      <td>0</td>\n",
       "    </tr>\n",
       "    <tr>\n",
       "      <th>4</th>\n",
       "      <td>0</td>\n",
       "      <td>0</td>\n",
       "      <td>0</td>\n",
       "      <td>0</td>\n",
       "      <td>0</td>\n",
       "      <td>0</td>\n",
       "      <td>0</td>\n",
       "      <td>0</td>\n",
       "      <td>0</td>\n",
       "      <td>0</td>\n",
       "      <td>...</td>\n",
       "      <td>0</td>\n",
       "      <td>0</td>\n",
       "      <td>0</td>\n",
       "      <td>0</td>\n",
       "      <td>0</td>\n",
       "      <td>0</td>\n",
       "      <td>0</td>\n",
       "      <td>0</td>\n",
       "      <td>0</td>\n",
       "      <td>0</td>\n",
       "    </tr>\n",
       "  </tbody>\n",
       "</table>\n",
       "<p>5 rows × 4600 columns</p>\n",
       "</div>"
      ],
      "text/plain": [
       "   0ft  10  100  1000  10k  11  12  120  13  15  ...  youve  yr  yrs  \\\n",
       "0    0   0    0     0    0   0   0    0   0   0  ...      0   0    0   \n",
       "1    0   0    0     0    0   0   0    0   0   0  ...      0   0    0   \n",
       "2    0   0    0     0    0   0   0    0   0   0  ...      0   0    0   \n",
       "3    0   0    0     0    0   0   0    0   0   0  ...      0   0    0   \n",
       "4    0   0    0     0    0   0   0    0   0   0  ...      0   0    0   \n",
       "\n",
       "   zaralynn  zodiac  zone  вопросы  задавайте  миллионеров  сын  \n",
       "0         0       0     0        0          0            0    0  \n",
       "1         0       0     0        0          0            0    0  \n",
       "2         0       0     0        0          0            0    0  \n",
       "3         0       0     0        0          0            0    0  \n",
       "4         0       0     0        0          0            0    0  \n",
       "\n",
       "[5 rows x 4600 columns]"
      ]
     },
     "execution_count": 35,
     "metadata": {},
     "output_type": "execute_result"
    }
   ],
   "source": [
    "words_df = pd.DataFrame(X_cv.todense(), columns=cvec.get_feature_names_out())\n",
    "words_df.head()"
   ]
  },
  {
   "cell_type": "code",
   "execution_count": 36,
   "id": "2ea0ebee-4585-44a3-8efc-f905e62e0bcd",
   "metadata": {},
   "outputs": [],
   "source": [
    "women_word = words_df[vect_df['subreddit'] == 'AskWomen'].sum().sort_values(ascending=False)"
   ]
  },
  {
   "cell_type": "code",
   "execution_count": 37,
   "id": "333b79bf-aa28-4dd4-8453-9a57a7ccd56a",
   "metadata": {},
   "outputs": [],
   "source": [
    "men_word = words_df[vect_df['subreddit'] == 'AskMen'].sum().sort_values(ascending=False)"
   ]
  },
  {
   "cell_type": "markdown",
   "id": "ea731a07-04c7-40c8-bbde-16da082b6d83",
   "metadata": {},
   "source": [
    "_______________________________________________________"
   ]
  },
  {
   "cell_type": "code",
   "execution_count": 38,
   "id": "a310b121-df48-4a93-ae85-ff8af26448d2",
   "metadata": {},
   "outputs": [
    {
     "data": {
      "text/plain": [
       "women           314\n",
       "did             155\n",
       "men             120\n",
       "feel            118\n",
       "partner         116\n",
       "like            112\n",
       "man             109\n",
       "does            101\n",
       "relationship     98\n",
       "guy              95\n",
       "dtype: int64"
      ]
     },
     "execution_count": 38,
     "metadata": {},
     "output_type": "execute_result"
    }
   ],
   "source": [
    "women_word.head(10)"
   ]
  },
  {
   "cell_type": "markdown",
   "id": "2721f7aa-b583-4d1d-aab4-7c87b616fa72",
   "metadata": {
    "tags": []
   },
   "source": [
    "## visualizing top 10 words"
   ]
  },
  {
   "cell_type": "code",
   "execution_count": 43,
   "id": "d57674cf-38ca-4fe7-920b-ea2a1db4268a",
   "metadata": {},
   "outputs": [
    {
     "data": {
      "text/plain": [
       "Text(0.5, 1.0, 'Top 10 words in AskWomen')"
      ]
     },
     "execution_count": 43,
     "metadata": {},
     "output_type": "execute_result"
    },
    {
     "data": {
      "image/png": "[encoded data removed]",
      "text/plain": [
       "<Figure size 640x480 with 1 Axes>"
      ]
     },
     "metadata": {},
     "output_type": "display_data"
    }
   ],
   "source": [
    "women_word.head(10).plot(kind ='barh').invert_yaxis()\n",
    "plt.title('Top 10 words in AskWomen')"
   ]
  },
  {
   "cell_type": "markdown",
   "id": "d76e550f-ab07-40f4-93e5-743b7a4b199e",
   "metadata": {},
   "source": [
    "Here we see the top words in the AskWomen subreddit. Aside from nouns, it seems relationships is the most frequent topic in this subreddit."
   ]
  },
  {
   "cell_type": "code",
   "execution_count": 40,
   "id": "ab7b0a62-f199-4f32-a6ff-042f65d210b7",
   "metadata": {},
   "outputs": [
    {
     "data": {
      "text/plain": [
       "men             361\n",
       "women           116\n",
       "woman           115\n",
       "guys            106\n",
       "did             106\n",
       "like             99\n",
       "girl             84\n",
       "relationship     82\n",
       "man              74\n",
       "think            73\n",
       "dtype: int64"
      ]
     },
     "execution_count": 40,
     "metadata": {},
     "output_type": "execute_result"
    }
   ],
   "source": [
    "men_word.head(10)"
   ]
  },
  {
   "cell_type": "code",
   "execution_count": 44,
   "id": "00e54fee-1c9d-431e-b1b8-5c2bf0b0cfb5",
   "metadata": {},
   "outputs": [
    {
     "data": {
      "text/plain": [
       "Text(0.5, 1.0, 'Top 10 words in Askmen')"
      ]
     },
     "execution_count": 44,
     "metadata": {},
     "output_type": "execute_result"
    },
    {
     "data": {
      "image/png": "[encoded data removed]",
      "text/plain": [
       "<Figure size 640x480 with 1 Axes>"
      ]
     },
     "metadata": {},
     "output_type": "display_data"
    }
   ],
   "source": [
    "men_word.head(10).plot(kind ='barh').invert_yaxis()\n",
    "plt.title('Top 10 words in Askmen')"
   ]
  },
  {
   "cell_type": "markdown",
   "id": "f9190ad3-4065-4bc1-8cf1-1c203dd6592f",
   "metadata": {},
   "source": [
    "It apears men, women, and woman appear freqently in both subreddits, so we can leave those features in when predicting what subreddit a post belongs to. Aside from those, it appears relationships is also a popular topic within this subreddit. However, it should be noted we only have about 2000 observations from each subreddit.\n",
    "\n",
    "To convey this to stakeholders, we will create a side by side visualization of our word counts."
   ]
  },
  {
   "cell_type": "code",
   "execution_count": 47,
   "id": "74f63833-4306-463d-a5af-ec1be7b5fb7d",
   "metadata": {},
   "outputs": [
    {
     "data": {
      "image/png": "[encoded data removed]",
      "text/plain": [
       "<Figure size 1500x1000 with 2 Axes>"
      ]
     },
     "metadata": {},
     "output_type": "display_data"
    }
   ],
   "source": [
    "fig, a = plt.subplots(1,2, figsize=(15,10))\n",
    "plt.suptitle('Top 10 words in each subreddit', fontsize= 20)\n",
    "a[0].set_title('/r/AskWomen top words')\n",
    "a[1].set_title('/r/AskMen top words')\n",
    "women_word.head(10).plot(kind = 'barh', ax=a[0]).invert_yaxis()\n",
    "men_word.head(10).plot(kind = 'barh', ax=a[1]).invert_yaxis()\n",
    "fig.tight_layout(pad=2.5)"
   ]
  },
  {
   "cell_type": "markdown",
   "id": "b8fbd0a7-aba3-446c-bc06-15d2f8d2389b",
   "metadata": {
    "jp-MarkdownHeadingCollapsed": true,
    "tags": []
   },
   "source": [
    "____________________________________________________________________________________\n",
    "## Bigrams and Trigrams\n",
    "To get a better sense of the words used in each respective subreddit, we will now create bigrams and trigrams of our titles to get a better sense of the topics and titles within each subreddit.\n"
   ]
  },
  {
   "cell_type": "markdown",
   "id": "ef264be6-784b-49bf-b671-549dcc752048",
   "metadata": {
    "tags": []
   },
   "source": [
    "# Iteration 2"
   ]
  },
  {
   "cell_type": "markdown",
   "id": "6a0c2ec1-d49d-44e0-80d0-f1eaec4b2dfa",
   "metadata": {},
   "source": [
    "## Load data"
   ]
  },
  {
   "cell_type": "code",
   "execution_count": 10,
   "id": "ecdeb165-1e17-414f-aff2-f7531c503758",
   "metadata": {},
   "outputs": [
    {
     "data": {
      "text/html": [
       "<div>\n",
       "<style scoped>\n",
       "    .dataframe tbody tr th:only-of-type {\n",
       "        vertical-align: middle;\n",
       "    }\n",
       "\n",
       "    .dataframe tbody tr th {\n",
       "        vertical-align: top;\n",
       "    }\n",
       "\n",
       "    .dataframe thead th {\n",
       "        text-align: right;\n",
       "    }\n",
       "</style>\n",
       "<table border=\"1\" class=\"dataframe\">\n",
       "  <thead>\n",
       "    <tr style=\"text-align: right;\">\n",
       "      <th></th>\n",
       "      <th>subreddit</th>\n",
       "      <th>selftext</th>\n",
       "      <th>author_fullname</th>\n",
       "      <th>gilded</th>\n",
       "      <th>title</th>\n",
       "      <th>link_flair_richtext</th>\n",
       "      <th>subreddit_name_prefixed</th>\n",
       "      <th>hidden</th>\n",
       "      <th>pwls</th>\n",
       "      <th>link_flair_css_class</th>\n",
       "      <th>...</th>\n",
       "      <th>retrieved_utc</th>\n",
       "      <th>updated_utc</th>\n",
       "      <th>utc_datetime_str</th>\n",
       "      <th>post_hint</th>\n",
       "      <th>preview</th>\n",
       "      <th>author_cakeday</th>\n",
       "      <th>edited_on</th>\n",
       "      <th>author_created_utc</th>\n",
       "      <th>retrieved_on</th>\n",
       "      <th>link_flair_template_id</th>\n",
       "    </tr>\n",
       "  </thead>\n",
       "  <tbody>\n",
       "    <tr>\n",
       "      <th>0</th>\n",
       "      <td>AskMen</td>\n",
       "      <td>NaN</td>\n",
       "      <td>t2_61gxv6mup</td>\n",
       "      <td>0</td>\n",
       "      <td>With two years left of college after this summ...</td>\n",
       "      <td>[]</td>\n",
       "      <td>r/AskMen</td>\n",
       "      <td>False</td>\n",
       "      <td>6</td>\n",
       "      <td>NaN</td>\n",
       "      <td>...</td>\n",
       "      <td>1682377122</td>\n",
       "      <td>1682377123</td>\n",
       "      <td>2023-04-24 22:58:29</td>\n",
       "      <td>NaN</td>\n",
       "      <td>NaN</td>\n",
       "      <td>NaN</td>\n",
       "      <td>NaN</td>\n",
       "      <td>NaN</td>\n",
       "      <td>NaN</td>\n",
       "      <td>NaN</td>\n",
       "    </tr>\n",
       "  </tbody>\n",
       "</table>\n",
       "<p>1 rows × 93 columns</p>\n",
       "</div>"
      ],
      "text/plain": [
       "  subreddit selftext author_fullname  gilded  \\\n",
       "0    AskMen      NaN    t2_61gxv6mup       0   \n",
       "\n",
       "                                               title link_flair_richtext  \\\n",
       "0  With two years left of college after this summ...                  []   \n",
       "\n",
       "  subreddit_name_prefixed  hidden  pwls link_flair_css_class  ...  \\\n",
       "0                r/AskMen   False     6                  NaN  ...   \n",
       "\n",
       "   retrieved_utc  updated_utc     utc_datetime_str  post_hint preview  \\\n",
       "0     1682377122   1682377123  2023-04-24 22:58:29        NaN     NaN   \n",
       "\n",
       "   author_cakeday edited_on author_created_utc  retrieved_on  \\\n",
       "0             NaN       NaN                NaN           NaN   \n",
       "\n",
       "  link_flair_template_id  \n",
       "0                    NaN  \n",
       "\n",
       "[1 rows x 93 columns]"
      ]
     },
     "execution_count": 10,
     "metadata": {},
     "output_type": "execute_result"
    }
   ],
   "source": [
    "df2 = pd.read_csv('../Data/02_sub_reddits_data.csv')\n",
    "df2.head(1)"
   ]
  },
  {
   "cell_type": "code",
   "execution_count": null,
   "id": "afb7ff76-8e25-41da-b5d9-bbecefd75e0f",
   "metadata": {},
   "outputs": [],
   "source": []
  }
 ],
 "metadata": {
  "kernelspec": {
   "display_name": "Python [conda env:root] *",
   "language": "python",
   "name": "conda-root-py"
  },
  "language_info": {
   "codemirror_mode": {
    "name": "ipython",
    "version": 3
   },
   "file_extension": ".py",
   "mimetype": "text/x-python",
   "name": "python",
   "nbconvert_exporter": "python",
   "pygments_lexer": "ipython3",
   "version": "3.9.13"
  }
 },
 "nbformat": 4,
 "nbformat_minor": 5
}
