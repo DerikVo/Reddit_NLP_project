{
 "cells": [
  {
   "cell_type": "code",
   "execution_count": 1,
   "id": "401a9ff0-dfb5-40d7-8336-2ba06e2986f3",
   "metadata": {},
   "outputs": [],
   "source": [
    "import pandas as pd\n",
    "import numpy as np\n",
    "import matplotlib.pyplot as plt \n",
    "from sklearn.linear_model import LogisticRegression\n",
    "from sklearn.ensemble import RandomForestClassifier\n",
    "from sklearn.model_selection import GridSearchCV, train_test_split, cross_val_score\n",
    "from sklearn.feature_extraction.text import CountVectorizer, TfidfVectorizer\n",
    "from sklearn.pipeline import Pipeline\n",
    "from sklearn.metrics import ConfusionMatrixDisplay, confusion_matrix, recall_score, precision_score, f1_score, accuracy_score\n",
    "import pickle"
   ]
  },
  {
   "cell_type": "markdown",
   "id": "4c2cfbfc-3bcb-422f-ad0b-fcf8b18a2f43",
   "metadata": {},
   "source": [
    "# Introduction\n",
    "\n",
    "In this notebook we will build two models using two transformers. We will begin by building a Random Forest Classifier and a Logistic Regression with a Count Vectorizer. For our second iteration we will use the same model, but use a TFIDF vectorizer to compare the results of our first pair of models."
   ]
  },
  {
   "cell_type": "code",
   "execution_count": 2,
   "id": "f3aec7db-8065-4740-b689-c46059629664",
   "metadata": {},
   "outputs": [],
   "source": [
    "df = pd.read_csv('../Data/02_sub_reddit_data_clean.csv')"
   ]
  },
  {
   "cell_type": "code",
   "execution_count": 3,
   "id": "b8307a40-34ad-4375-8aeb-b03bb8551ea9",
   "metadata": {},
   "outputs": [
    {
     "data": {
      "text/plain": [
       "id                      object\n",
       "subreddit               object\n",
       "title                   object\n",
       "utc_datetime_str        object\n",
       "num_comments             int64\n",
       "day_name                object\n",
       "title_word_count         int64\n",
       "negative_score         float64\n",
       "neutral_score          float64\n",
       "positive_score         float64\n",
       "compound_score         float64\n",
       "removed_by_category     object\n",
       "is_removed               int64\n",
       "dtype: object"
      ]
     },
     "execution_count": 3,
     "metadata": {},
     "output_type": "execute_result"
    }
   ],
   "source": [
    "df.dtypes"
   ]
  },
  {
   "cell_type": "code",
   "execution_count": 4,
   "id": "5a55ea87-81ad-4948-b135-aa184f9c5c53",
   "metadata": {},
   "outputs": [
    {
     "data": {
      "text/html": [
       "<div>\n",
       "<style scoped>\n",
       "    .dataframe tbody tr th:only-of-type {\n",
       "        vertical-align: middle;\n",
       "    }\n",
       "\n",
       "    .dataframe tbody tr th {\n",
       "        vertical-align: top;\n",
       "    }\n",
       "\n",
       "    .dataframe thead th {\n",
       "        text-align: right;\n",
       "    }\n",
       "</style>\n",
       "<table border=\"1\" class=\"dataframe\">\n",
       "  <thead>\n",
       "    <tr style=\"text-align: right;\">\n",
       "      <th></th>\n",
       "      <th>id</th>\n",
       "      <th>subreddit</th>\n",
       "      <th>title</th>\n",
       "      <th>utc_datetime_str</th>\n",
       "      <th>num_comments</th>\n",
       "      <th>day_name</th>\n",
       "      <th>title_word_count</th>\n",
       "      <th>negative_score</th>\n",
       "      <th>neutral_score</th>\n",
       "      <th>positive_score</th>\n",
       "      <th>compound_score</th>\n",
       "      <th>removed_by_category</th>\n",
       "      <th>is_removed</th>\n",
       "    </tr>\n",
       "  </thead>\n",
       "  <tbody>\n",
       "    <tr>\n",
       "      <th>0</th>\n",
       "      <td>z99f3w</td>\n",
       "      <td>AskMen</td>\n",
       "      <td>what do athlete think about having some things...</td>\n",
       "      <td>2022-12-01 01:03:02</td>\n",
       "      <td>21</td>\n",
       "      <td>Thursday</td>\n",
       "      <td>12</td>\n",
       "      <td>0.0</td>\n",
       "      <td>0.859</td>\n",
       "      <td>0.141</td>\n",
       "      <td>0.2023</td>\n",
       "      <td>NaN</td>\n",
       "      <td>0</td>\n",
       "    </tr>\n",
       "    <tr>\n",
       "      <th>1</th>\n",
       "      <td>z991l7</td>\n",
       "      <td>AskMen</td>\n",
       "      <td>Why is the idea of permanent sleep so appealing?</td>\n",
       "      <td>2022-12-01 00:47:36</td>\n",
       "      <td>38</td>\n",
       "      <td>Thursday</td>\n",
       "      <td>9</td>\n",
       "      <td>0.0</td>\n",
       "      <td>1.000</td>\n",
       "      <td>0.000</td>\n",
       "      <td>0.0000</td>\n",
       "      <td>deleted</td>\n",
       "      <td>1</td>\n",
       "    </tr>\n",
       "  </tbody>\n",
       "</table>\n",
       "</div>"
      ],
      "text/plain": [
       "       id subreddit                                              title  \\\n",
       "0  z99f3w    AskMen  what do athlete think about having some things...   \n",
       "1  z991l7    AskMen   Why is the idea of permanent sleep so appealing?   \n",
       "\n",
       "      utc_datetime_str  num_comments  day_name  title_word_count  \\\n",
       "0  2022-12-01 01:03:02            21  Thursday                12   \n",
       "1  2022-12-01 00:47:36            38  Thursday                 9   \n",
       "\n",
       "   negative_score  neutral_score  positive_score  compound_score  \\\n",
       "0             0.0          0.859           0.141          0.2023   \n",
       "1             0.0          1.000           0.000          0.0000   \n",
       "\n",
       "  removed_by_category  is_removed  \n",
       "0                 NaN           0  \n",
       "1             deleted           1  "
      ]
     },
     "execution_count": 4,
     "metadata": {},
     "output_type": "execute_result"
    }
   ],
   "source": [
    "df.head(2)"
   ]
  },
  {
   "cell_type": "code",
   "execution_count": 5,
   "id": "3d4972eb-1825-4ec0-8644-782cdf754375",
   "metadata": {},
   "outputs": [],
   "source": [
    "X=df['title']\n",
    "y=df['subreddit']"
   ]
  },
  {
   "cell_type": "code",
   "execution_count": 6,
   "id": "80312904-3775-474e-ad2d-0abc6c751c11",
   "metadata": {},
   "outputs": [
    {
     "data": {
      "text/plain": [
       "AskWomen    0.504575\n",
       "AskMen      0.495425\n",
       "Name: subreddit, dtype: float64"
      ]
     },
     "execution_count": 6,
     "metadata": {},
     "output_type": "execute_result"
    }
   ],
   "source": [
    "baseline = y.value_counts(normalize=True)\n",
    "baseline"
   ]
  },
  {
   "cell_type": "code",
   "execution_count": 7,
   "id": "142135bf-0a39-4765-8b18-2dbf37bb834e",
   "metadata": {},
   "outputs": [],
   "source": [
    "X_train, X_test, y_train, y_test = train_test_split(X, y, random_state=123, test_size=.25, stratify=y)"
   ]
  },
  {
   "cell_type": "code",
   "execution_count": 9,
   "id": "d9594bbf-f78e-4d22-8221-5aa7c7b11faa",
   "metadata": {},
   "outputs": [],
   "source": [
    "def scores(y_test, preds):\n",
    "    '''\n",
    "    This function will be used to evaluate the scores of our model.\n",
    "    '''\n",
    "    print(f'Recall Score: {recall_score(y_test, preds, average=\"macro\")}')\n",
    "    print(f'F1 score: {f1_score(y_test, preds, average=\"macro\")}')\n",
    "    print(f'precision score: {precision_score(y_test, preds, average=\"macro\")}')\n",
    "    print(f'accuracy score: {accuracy_score(y_test, preds)}')"
   ]
  },
  {
   "cell_type": "markdown",
   "id": "f68215af-7f15-4622-8902-655abbe973ea",
   "metadata": {
    "tags": []
   },
   "source": [
    "# Random forest with CountVectorizer"
   ]
  },
  {
   "cell_type": "code",
   "execution_count": 10,
   "id": "5d825bb8-feab-414e-8991-ecd5aac64027",
   "metadata": {},
   "outputs": [],
   "source": [
    "pipe_rf = Pipeline([\n",
    "    ('cvec', CountVectorizer())\n",
    "    ,('rt', RandomForestClassifier())\n",
    "])"
   ]
  },
  {
   "cell_type": "code",
   "execution_count": 11,
   "id": "9f112117-645d-42c5-94e2-8eadd1657427",
   "metadata": {},
   "outputs": [
    {
     "data": {
      "text/plain": [
       "0.6883594809219445"
      ]
     },
     "execution_count": 11,
     "metadata": {},
     "output_type": "execute_result"
    }
   ],
   "source": [
    "cross_val_score(pipe_rf, X_train, y_train, cv=3).mean()"
   ]
  },
  {
   "cell_type": "code",
   "execution_count": 12,
   "id": "28991153-9507-4c86-95b9-ef8fe4f954a4",
   "metadata": {},
   "outputs": [
    {
     "data": {
      "text/plain": [
       "Pipeline(steps=[('cvec', CountVectorizer()), ('rt', RandomForestClassifier())])"
      ]
     },
     "execution_count": 12,
     "metadata": {},
     "output_type": "execute_result"
    }
   ],
   "source": [
    "pipe_rf.fit(X_train, y_train)"
   ]
  },
  {
   "cell_type": "code",
   "execution_count": 13,
   "id": "44f730af-6808-4810-af33-71a913e2d374",
   "metadata": {},
   "outputs": [
    {
     "name": "stdout",
     "output_type": "stream",
     "text": [
      " Training score is 0.9961262831687003\n",
      " Test score is 0.705574912891986\n"
     ]
    }
   ],
   "source": [
    "print(f' Training score is {pipe_rf.score(X_train, y_train)}')\n",
    "print(f' Test score is {pipe_rf.score(X_test, y_test)}')"
   ]
  },
  {
   "cell_type": "code",
   "execution_count": 14,
   "id": "201d55fd-ff1b-442d-aaed-8953c9be1a3c",
   "metadata": {},
   "outputs": [],
   "source": [
    "pipe_rf_params = {\n",
    "    'cvec__lowercase': [True],\n",
    "    'cvec__max_features': [30, 50, 75.],\n",
    "    'cvec__min_df': [2, 3, 9],\n",
    "    'cvec__max_df': [0.80, 0.90],\n",
    "    'cvec__ngram_range': [(1, 2), (2,3), (3,4)],\n",
    "    'cvec__stop_words' : ['english', None],\n",
    "    'rt__min_samples_leaf': [3, 5, 6],\n",
    "    'rt__max_depth': [10, 15, 20],\n",
    "    'rt__bootstrap': [True]\n",
    "    \n",
    "}"
   ]
  },
  {
   "cell_type": "code",
   "execution_count": 15,
   "id": "13eda33d-f187-4e1a-9c12-3357a8ec05c2",
   "metadata": {},
   "outputs": [],
   "source": [
    "gs_rf = GridSearchCV(pipe_rf,\n",
    "                 param_grid=pipe_rf_params,\n",
    "                 cv=5, n_jobs = -1)"
   ]
  },
  {
   "cell_type": "code",
   "execution_count": null,
   "id": "a95fb4f4-00f0-4ad7-99df-f5b2d9a5eb9f",
   "metadata": {},
   "outputs": [],
   "source": [
    "gs_rf.fit(X_train, y_train)"
   ]
  },
  {
   "cell_type": "code",
   "execution_count": 17,
   "id": "53925e0e-7c9d-49cd-bf29-0d6c3eb359ed",
   "metadata": {},
   "outputs": [
    {
     "data": {
      "text/plain": [
       "{'cvec__lowercase': True,\n",
       " 'cvec__max_df': 0.8,\n",
       " 'cvec__max_features': 50,\n",
       " 'cvec__min_df': 3,\n",
       " 'cvec__ngram_range': (1, 2),\n",
       " 'cvec__stop_words': None,\n",
       " 'rt__bootstrap': True,\n",
       " 'rt__max_depth': 20,\n",
       " 'rt__min_samples_leaf': 3}"
      ]
     },
     "metadata": {},
     "output_type": "display_data"
    }
   ],
   "source": [
    "display(gs_rf.best_params_)"
   ]
  },
  {
   "cell_type": "markdown",
   "id": "eeb8e402-51e9-4bda-a90c-c2b1e9fdcb47",
   "metadata": {},
   "source": [
    "Best parmas for a countvector and random forest\n",
    "\n",
    "|Param|setting|\n",
    "|-----|-----|\n",
    "|cvec_lowercase|True|\n",
    "|cvec__max_df| .9|\n",
    "|cvec__max_features| 50|\n",
    "|cvec__min_df| 9|\n",
    "|cvec__ngram_range| (1, 2)|\n",
    "|cvec__stop_words| None|\n",
    "|rt__bootstrap| True|\n",
    "|rt__max_depth| 10|\n",
    "|rt__min_samples_leaf| 6|"
   ]
  },
  {
   "cell_type": "code",
   "execution_count": 18,
   "id": "bad01cf1-e218-4a01-a3a1-4b2a32d5a7ef",
   "metadata": {},
   "outputs": [
    {
     "name": "stdout",
     "output_type": "stream",
     "text": [
      " Training score is 0.789463490218865\n",
      " Test score is 0.6881533101045296\n"
     ]
    }
   ],
   "source": [
    "print(f' Training score is {gs_rf.score(X_train, y_train)}')\n",
    "print(f' Test score is {gs_rf.score(X_test, y_test)}')"
   ]
  },
  {
   "cell_type": "code",
   "execution_count": 19,
   "id": "81332f57-b149-42a1-b70d-3127f817c46a",
   "metadata": {},
   "outputs": [
    {
     "data": {
      "text/plain": [
       "0.789463490218865"
      ]
     },
     "execution_count": 19,
     "metadata": {},
     "output_type": "execute_result"
    }
   ],
   "source": [
    "gs_rf.score(X_train, y_train)"
   ]
  },
  {
   "cell_type": "code",
   "execution_count": 20,
   "id": "6f27e8e6-36b0-4a49-9bef-feb7ecc7d88c",
   "metadata": {},
   "outputs": [
    {
     "data": {
      "text/plain": [
       "0.6881533101045296"
      ]
     },
     "execution_count": 20,
     "metadata": {},
     "output_type": "execute_result"
    }
   ],
   "source": [
    "gs_rf.score(X_test, y_test)"
   ]
  },
  {
   "cell_type": "code",
   "execution_count": 21,
   "id": "4e1a14db-d825-4842-b055-37c2d879e7b3",
   "metadata": {},
   "outputs": [],
   "source": [
    "preds_rf = gs_rf.predict(X_test)"
   ]
  },
  {
   "cell_type": "code",
   "execution_count": 71,
   "id": "9f4ba4d0-2266-4439-ae29-b8e3645cb89a",
   "metadata": {},
   "outputs": [
    {
     "data": {
      "text/plain": [
       "<Figure size 1500x1500 with 0 Axes>"
      ]
     },
     "metadata": {},
     "output_type": "display_data"
    },
    {
     "data": {
      "image/png": "[encoded data removed]",
      "text/plain": [
       "<Figure size 640x480 with 2 Axes>"
      ]
     },
     "metadata": {},
     "output_type": "display_data"
    }
   ],
   "source": [
    "plt.figure(figsize=(15,15))\n",
    "rf_matrix = ConfusionMatrixDisplay.from_estimator(gs_rf, X_test, y_test)\n",
    "rf_matrix.ax_.set_title(\"Random Forest CountVector Confusion Matrix\")\n",
    "plt.tight_layout()\n",
    "plt.savefig('../Figures/confusion_matrix/rf_cvec_confusion_matrix.png')"
   ]
  },
  {
   "cell_type": "code",
   "execution_count": 23,
   "id": "db2b13e6-95b0-4ccb-8a1c-5f825dcfec9c",
   "metadata": {},
   "outputs": [
    {
     "name": "stdout",
     "output_type": "stream",
     "text": [
      "Recall Score: 0.6874194779948115\n",
      "F1 score: 0.6858640984483682\n",
      "precision score: 0.6924182825484765\n",
      "accuracy score: 0.6881533101045296\n"
     ]
    }
   ],
   "source": [
    "scores(y_test, preds_rf)"
   ]
  },
  {
   "cell_type": "code",
   "execution_count": 24,
   "id": "676fda58-ad95-4c2e-a3a5-7c7e49cdbfa2",
   "metadata": {},
   "outputs": [],
   "source": [
    "rf_model_1 = gs_rf"
   ]
  },
  {
   "cell_type": "code",
   "execution_count": 25,
   "id": "ff740f7b-c410-4a15-8ade-f0d0d2ac9b72",
   "metadata": {},
   "outputs": [],
   "source": [
    "with open('../Models/model_pickel1.pkl', 'wb') as pickle_out:\n",
    "    pickle_out = pickle.dump(rf_model_1, pickle_out)"
   ]
  },
  {
   "cell_type": "markdown",
   "id": "6fca2d00-e816-4157-bb90-914efa512b57",
   "metadata": {},
   "source": [
    "This model does better than baseline, but is slightly overfit. It also has a misclassified ~33% of the predictions for Askwomen and ~27% of the predictions for Askmen. With a recall score and accuracy score of 69% this model does okay, but is not suitable for large scale use."
   ]
  },
  {
   "cell_type": "markdown",
   "id": "e2a50289-53b2-467b-8246-0fe29184fa94",
   "metadata": {},
   "source": [
    "# Logistic regresion with countvectorizor"
   ]
  },
  {
   "cell_type": "code",
   "execution_count": 26,
   "id": "ee3477d9-8d6c-42fb-94ad-1c668636b07b",
   "metadata": {},
   "outputs": [],
   "source": [
    "pipe_logr = Pipeline([\n",
    "    ('cvec', CountVectorizer())\n",
    "    ,('logr', LogisticRegression())\n",
    "])"
   ]
  },
  {
   "cell_type": "code",
   "execution_count": null,
   "id": "b932ed07-8f91-4928-a72e-6b598927edff",
   "metadata": {},
   "outputs": [],
   "source": [
    "pipe_logr.fit(X_train, y_train)"
   ]
  },
  {
   "cell_type": "code",
   "execution_count": 28,
   "id": "e8d68eb1-5041-45cc-9436-527ccfad702e",
   "metadata": {},
   "outputs": [
    {
     "data": {
      "text/plain": [
       "0.8894053844663955"
      ]
     },
     "execution_count": 28,
     "metadata": {},
     "output_type": "execute_result"
    }
   ],
   "source": [
    "pipe_logr.score(X_train, y_train)"
   ]
  },
  {
   "cell_type": "code",
   "execution_count": 29,
   "id": "5c849516-79d6-4fea-9faf-b4cbe3895210",
   "metadata": {},
   "outputs": [
    {
     "data": {
      "text/plain": [
       "0.6782810685249709"
      ]
     },
     "execution_count": 29,
     "metadata": {},
     "output_type": "execute_result"
    }
   ],
   "source": [
    "pipe_logr.score(X_test, y_test)"
   ]
  },
  {
   "cell_type": "code",
   "execution_count": 30,
   "id": "efc92a00-b075-4ebe-b56f-9119c009c5eb",
   "metadata": {},
   "outputs": [],
   "source": [
    "pipe_logr_params = {\n",
    "    'cvec__lowercase': [True],\n",
    "    'cvec__max_features': [30, 50, 75.],\n",
    "    'cvec__min_df': [2, 3, 9],\n",
    "    'cvec__max_df': [0.80, 0.90],\n",
    "    'cvec__ngram_range': [(1, 2), (2,3), (3,4)],\n",
    "    'cvec__stop_words' : ['english', None],\n",
    "    'logr__C':[.25, .5, .75, 1]\n",
    "}"
   ]
  },
  {
   "cell_type": "code",
   "execution_count": 31,
   "id": "42ff40c1-19ac-43c2-8243-f784aff467e9",
   "metadata": {},
   "outputs": [],
   "source": [
    "gs_logr = GridSearchCV(pipe_logr, param_grid=pipe_logr_params, cv=3,n_jobs=-1)"
   ]
  },
  {
   "cell_type": "code",
   "execution_count": null,
   "id": "e2bdb964-2bf0-4d05-8ff2-a2f112bae54e",
   "metadata": {},
   "outputs": [],
   "source": [
    "gs_logr.fit(X_train,y_train)"
   ]
  },
  {
   "cell_type": "code",
   "execution_count": 33,
   "id": "52dbf0a1-9cad-4eca-b6e7-ef9815fcb3ec",
   "metadata": {},
   "outputs": [
    {
     "data": {
      "text/plain": [
       "{'cvec__lowercase': True,\n",
       " 'cvec__max_df': 0.8,\n",
       " 'cvec__max_features': 30,\n",
       " 'cvec__min_df': 2,\n",
       " 'cvec__ngram_range': (1, 2),\n",
       " 'cvec__stop_words': None,\n",
       " 'logr__C': 0.25}"
      ]
     },
     "metadata": {},
     "output_type": "display_data"
    }
   ],
   "source": [
    "display(gs_logr.best_params_)"
   ]
  },
  {
   "cell_type": "markdown",
   "id": "0ccb5b02-a091-41fb-85d8-7bff3bbafc10",
   "metadata": {},
   "source": [
    "Best parmas for a countvector and logistic regression\n",
    "\n",
    "|Param|setting|\n",
    "|-----|-----|\n",
    "|cvec__lowercase|True|\n",
    "|cvec__max_df| .8|\n",
    "|cvec__max_features| 30|\n",
    "|cvec__min_df| 2|\n",
    "|cvec__ngram_range| (1, 2)|\n",
    "|cvec__stop_words| None|\n",
    "|logr_C| .25|\n"
   ]
  },
  {
   "cell_type": "code",
   "execution_count": 34,
   "id": "faf2a4e0-7970-4e71-97b0-3e3046241109",
   "metadata": {},
   "outputs": [
    {
     "data": {
      "text/plain": [
       "0.6529149719155529"
      ]
     },
     "execution_count": 34,
     "metadata": {},
     "output_type": "execute_result"
    }
   ],
   "source": [
    "gs_logr.score(X_train, y_train)"
   ]
  },
  {
   "cell_type": "code",
   "execution_count": 35,
   "id": "137cb0d6-a779-48c6-a88a-fb45f4e30d01",
   "metadata": {},
   "outputs": [
    {
     "data": {
      "text/plain": [
       "0.6637630662020906"
      ]
     },
     "execution_count": 35,
     "metadata": {},
     "output_type": "execute_result"
    }
   ],
   "source": [
    "gs_logr.score(X_test,y_test)"
   ]
  },
  {
   "cell_type": "markdown",
   "id": "bf5678ba-5ba6-4eb1-b4a4-304994aac864",
   "metadata": {},
   "source": [
    "After adding the penality term, the logistic regression was much less fit. The performance is similar to our random forest which was overfit, so this model may be better. We will have to see its recall score to compare."
   ]
  },
  {
   "cell_type": "code",
   "execution_count": 36,
   "id": "eef802e7-06a1-4ba0-98f6-d1cd5b1b7a86",
   "metadata": {},
   "outputs": [],
   "source": [
    "preds_logr = gs_logr.predict(X_test)"
   ]
  },
  {
   "cell_type": "code",
   "execution_count": 72,
   "id": "f9bd7dea-afca-4bf2-a542-9777aff00f25",
   "metadata": {},
   "outputs": [
    {
     "data": {
      "text/plain": [
       "<Figure size 1500x1500 with 0 Axes>"
      ]
     },
     "metadata": {},
     "output_type": "display_data"
    },
    {
     "data": {
      "image/png": "[encoded data removed]",
      "text/plain": [
       "<Figure size 640x480 with 2 Axes>"
      ]
     },
     "metadata": {},
     "output_type": "display_data"
    }
   ],
   "source": [
    "plt.figure(figsize=(15,15))\n",
    "log_matrix = ConfusionMatrixDisplay.from_estimator(gs_logr, X_test, y_test)\n",
    "log_matrix.ax_.set_title(\"Logistic Regression Counvector Confusion Matrix\")\n",
    "plt.tight_layout()\n",
    "plt.savefig('../Figures/confusion_matrix/logr_cvec_confusion_matrix.png')"
   ]
  },
  {
   "cell_type": "code",
   "execution_count": 76,
   "id": "4255af28-c81d-4de8-9e42-a7c28590e9b1",
   "metadata": {},
   "outputs": [
    {
     "name": "stdout",
     "output_type": "stream",
     "text": [
      "Recall Score: 0.663415657457535\n",
      "F1 score: 0.6631240288154818\n",
      "precision score: 0.664397040302267\n",
      "accuracy score: 0.6637630662020906\n"
     ]
    }
   ],
   "source": [
    "scores(y_test, preds_logr)"
   ]
  },
  {
   "cell_type": "markdown",
   "id": "73f6eadc-abe7-49e5-9374-f03b2e54d5e4",
   "metadata": {},
   "source": [
    "Here we notice a 3% lower recall score, which is not much of an difference. This model is better at predicting Askmen, but does worse with Askwomen. In this case the model is making more predictions for Askmen, so any increase is negligible. Next we will see if using the TFIDF Vectorizer will improve performance. In theory it should perform better because its comparing the title (document) to the whole subreddit (corpus)."
   ]
  },
  {
   "cell_type": "markdown",
   "id": "c90b05ce-a888-4a03-ab76-ec9f7a4f7aad",
   "metadata": {},
   "source": [
    "# Random forest with TF-IDF Vectorizer "
   ]
  },
  {
   "cell_type": "code",
   "execution_count": 39,
   "id": "d24d4a5f-65ae-41f6-8205-aec07a53ca6b",
   "metadata": {},
   "outputs": [],
   "source": [
    "pipe_rf_tf = Pipeline([\n",
    "    ('tf',TfidfVectorizer())\n",
    "    ,('rt', RandomForestClassifier())\n",
    "])"
   ]
  },
  {
   "cell_type": "code",
   "execution_count": 40,
   "id": "c4d4aaed-0686-490d-aaf6-f16bb2c0a213",
   "metadata": {},
   "outputs": [
    {
     "data": {
      "text/plain": [
       "0.6794499322099554"
      ]
     },
     "execution_count": 40,
     "metadata": {},
     "output_type": "execute_result"
    }
   ],
   "source": [
    "cross_val_score(pipe_rf_tf, X_train, y_train, cv=3).mean()"
   ]
  },
  {
   "cell_type": "code",
   "execution_count": 41,
   "id": "982f3cba-8982-4944-ab93-ee12e2553b63",
   "metadata": {},
   "outputs": [
    {
     "data": {
      "text/plain": [
       "Pipeline(steps=[('tf', TfidfVectorizer()), ('rt', RandomForestClassifier())])"
      ]
     },
     "execution_count": 41,
     "metadata": {},
     "output_type": "execute_result"
    }
   ],
   "source": [
    "pipe_rf_tf.fit(X_train, y_train)"
   ]
  },
  {
   "cell_type": "code",
   "execution_count": 42,
   "id": "b7dff258-910e-4d4d-ade9-9dd52b4ebda1",
   "metadata": {},
   "outputs": [
    {
     "name": "stdout",
     "output_type": "stream",
     "text": [
      " Training score is 0.9961262831687003\n",
      " Test score is 0.7009291521486644\n"
     ]
    }
   ],
   "source": [
    "print(f' Training score is {pipe_rf_tf.score(X_train, y_train)}')\n",
    "print(f' Test score is {pipe_rf_tf.score(X_test, y_test)}')"
   ]
  },
  {
   "cell_type": "code",
   "execution_count": 43,
   "id": "d18d67c5-a8ce-417d-b408-5998d600b388",
   "metadata": {},
   "outputs": [],
   "source": [
    "pipe_rf_tf_params = {\n",
    "    'tf__lowercase': [True],\n",
    "    'tf__max_features': [30, 50, 75.],\n",
    "    'tf__min_df': [2, 3, 9],\n",
    "    'tf__max_df': [0.80, 0.90],\n",
    "    'tf__ngram_range': [(1, 2), (2,3), (3,4)],\n",
    "    'tf__stop_words' : ['english', None],\n",
    "    'rt__min_samples_leaf': [3, 5, 6],\n",
    "    'rt__max_depth': [10, 15, 20],\n",
    "    'rt__bootstrap': [True]\n",
    "    \n",
    "}"
   ]
  },
  {
   "cell_type": "code",
   "execution_count": 44,
   "id": "f9ff7f3c-4359-4eca-9fff-77501c9fd62a",
   "metadata": {},
   "outputs": [],
   "source": [
    "gs_rf_tf = GridSearchCV(pipe_rf_tf, param_grid=pipe_rf_tf_params, cv=3, n_jobs=-1)"
   ]
  },
  {
   "cell_type": "code",
   "execution_count": null,
   "id": "19baf6cc-64d6-4d4a-b9a3-3df2c94b9fd1",
   "metadata": {},
   "outputs": [],
   "source": [
    "gs_rf_tf.fit(X_train, y_train)"
   ]
  },
  {
   "cell_type": "code",
   "execution_count": 46,
   "id": "2ff900d0-49d2-489c-9b28-9de3d0699705",
   "metadata": {},
   "outputs": [
    {
     "data": {
      "text/plain": [
       "{'rt__bootstrap': True,\n",
       " 'rt__max_depth': 10,\n",
       " 'rt__min_samples_leaf': 6,\n",
       " 'tf__lowercase': True,\n",
       " 'tf__max_df': 0.9,\n",
       " 'tf__max_features': 30,\n",
       " 'tf__min_df': 2,\n",
       " 'tf__ngram_range': (1, 2),\n",
       " 'tf__stop_words': None}"
      ]
     },
     "execution_count": 46,
     "metadata": {},
     "output_type": "execute_result"
    }
   ],
   "source": [
    "gs_rf_tf.best_params_"
   ]
  },
  {
   "cell_type": "markdown",
   "id": "cf31df7f-33b6-4ce7-8378-926aa9687be7",
   "metadata": {},
   "source": [
    "Best parmas for a TFID and random forest\n",
    "\n",
    "|Param|setting|\n",
    "|-----|-----|\n",
    "|tf__max_df| .9|\n",
    "|tf__max_features| 30|\n",
    "|tf__min_df| 3|\n",
    "|tf__ngram_range| (1, 2)|\n",
    "|tf__stop_words| None|\n",
    "|tf__lowercase| True|\n",
    "|rt__bootstrap| True|\n",
    "|rt__max_depth| 10|\n",
    "|rt__min_samples_leaf| 6|"
   ]
  },
  {
   "cell_type": "code",
   "execution_count": 47,
   "id": "375558f7-a488-4e36-9336-16960706c502",
   "metadata": {},
   "outputs": [
    {
     "name": "stdout",
     "output_type": "stream",
     "text": [
      " Training score is 0.7135386403253922\n",
      " Test score is 0.6747967479674797\n"
     ]
    }
   ],
   "source": [
    "print(f' Training score is {gs_rf_tf.score(X_train, y_train)}')\n",
    "print(f' Test score is {gs_rf_tf.score(X_test, y_test)}')"
   ]
  },
  {
   "cell_type": "markdown",
   "id": "13449678-de65-4690-96a7-6308ab550af4",
   "metadata": {},
   "source": [
    "It appears the model did not improve much with the classification rate after incorporating the TFIDF. We will see if it has a recall score to when we used the countvectorizer"
   ]
  },
  {
   "cell_type": "code",
   "execution_count": 48,
   "id": "169b9628-9a34-4407-85ee-3f3ccbb609b5",
   "metadata": {},
   "outputs": [],
   "source": [
    "preds_rf_tf = gs_rf_tf.predict(X_test)"
   ]
  },
  {
   "cell_type": "code",
   "execution_count": 66,
   "id": "275a066c-7141-45fd-911e-fc664de8baa1",
   "metadata": {},
   "outputs": [
    {
     "data": {
      "text/plain": [
       "<Figure size 1500x1500 with 0 Axes>"
      ]
     },
     "metadata": {},
     "output_type": "display_data"
    },
    {
     "data": {
      "image/png": "[encoded data removed]",
      "text/plain": [
       "<Figure size 640x480 with 2 Axes>"
      ]
     },
     "metadata": {},
     "output_type": "display_data"
    }
   ],
   "source": [
    "plt.figure(figsize=(15,15))\n",
    "rf_tf_matrix = ConfusionMatrixDisplay.from_estimator(gs_rf_tf, X_test, y_test)\n",
    "rf_tf_matrix.ax_.set_title(\"Random forest TFIDF Confusion Matrix\")\n",
    "plt.tight_layout()\n",
    "plt.savefig('../Figures/confusion_matrix/Random_forest_tfidf_confusion_matrix')"
   ]
  },
  {
   "cell_type": "code",
   "execution_count": 50,
   "id": "9d9bcdf6-c81d-4723-a2dc-6676ae01ba78",
   "metadata": {},
   "outputs": [
    {
     "name": "stdout",
     "output_type": "stream",
     "text": [
      "Recall Score: 0.6741103288063384\n",
      "F1 score: 0.6726946888237211\n",
      "precision score: 0.6781567624351034\n",
      "accuracy score: 0.6747967479674797\n"
     ]
    }
   ],
   "source": [
    "scores(y_test, preds_rf_tf)"
   ]
  },
  {
   "cell_type": "markdown",
   "id": "7e88aa35-d190-49e8-84f8-8418fc6bc1e7",
   "metadata": {},
   "source": [
    "Her we see a similar recall score (.67~) compared to our random forest and counvectorizer (.69). There's not much of an improvement here, the subreddits may be too similar to differentiate. We will see if there's any improvement with our logistical regression using a TF-IDF vectorizer."
   ]
  },
  {
   "cell_type": "markdown",
   "id": "e852304a-ba69-4daa-bc5b-613dfe6acad7",
   "metadata": {},
   "source": [
    "# Logistic regression with TF-IDF Vectorizer "
   ]
  },
  {
   "cell_type": "code",
   "execution_count": 51,
   "id": "b043a5e4-75f7-4e38-8f38-ea3628687cce",
   "metadata": {},
   "outputs": [],
   "source": [
    "pipe_logr_tf = Pipeline([\n",
    "    ('tf', TfidfVectorizer())\n",
    "    ,('logr', LogisticRegression())\n",
    "])"
   ]
  },
  {
   "cell_type": "code",
   "execution_count": 52,
   "id": "108b702d-08ba-4476-9e48-954e17322841",
   "metadata": {},
   "outputs": [],
   "source": [
    "pipe_logr_tf_params = {\n",
    "    'tf__lowercase': [True],\n",
    "    'tf__max_features': [30, 50, 75.],\n",
    "    'tf__min_df': [2, 3, 9],\n",
    "    'tf__max_df': [0.80, 0.90],\n",
    "    'tf__ngram_range': [(1, 2), (2,3), (3,4)],\n",
    "    'tf__stop_words' : ['english', None],\n",
    "    'logr__C':[.25, .5, .75, 1]\n",
    "}"
   ]
  },
  {
   "cell_type": "code",
   "execution_count": 53,
   "id": "8e84789c-9f04-45be-aced-a453ab8553c0",
   "metadata": {},
   "outputs": [
    {
     "data": {
      "text/plain": [
       "0.6668603525082316"
      ]
     },
     "execution_count": 53,
     "metadata": {},
     "output_type": "execute_result"
    }
   ],
   "source": [
    "cross_val_score(pipe_logr_tf, X_train, y_train, cv=3).mean()"
   ]
  },
  {
   "cell_type": "code",
   "execution_count": 54,
   "id": "b2726f53-5d59-4a22-8a70-78002bb3c86b",
   "metadata": {},
   "outputs": [],
   "source": [
    "gs_logr_tf = GridSearchCV(pipe_logr_tf, param_grid=pipe_logr_tf_params, cv=3, n_jobs=-1)"
   ]
  },
  {
   "cell_type": "code",
   "execution_count": 55,
   "id": "1b9e6ed8-445f-488b-be9b-8336f7891e32",
   "metadata": {},
   "outputs": [
    {
     "data": {
      "text/plain": [
       "Pipeline(steps=[('tf', TfidfVectorizer()), ('logr', LogisticRegression())])"
      ]
     },
     "execution_count": 55,
     "metadata": {},
     "output_type": "execute_result"
    }
   ],
   "source": [
    "pipe_logr_tf.fit(X_train, y_train)"
   ]
  },
  {
   "cell_type": "code",
   "execution_count": 56,
   "id": "0135f70d-a9b7-4ee6-abac-8af69361b9c0",
   "metadata": {},
   "outputs": [
    {
     "name": "stdout",
     "output_type": "stream",
     "text": [
      " Training score is 0.8332364904125509\n",
      " Test score is 0.6927990708478513\n"
     ]
    }
   ],
   "source": [
    "print(f' Training score is {pipe_logr_tf.score(X_train, y_train)}')\n",
    "print(f' Test score is {pipe_logr_tf.score(X_test, y_test)}')"
   ]
  },
  {
   "cell_type": "code",
   "execution_count": null,
   "id": "a14c6cd5-77cb-48b8-b801-eda9d03e84f4",
   "metadata": {},
   "outputs": [],
   "source": [
    "gs_logr_tf.fit(X_train, y_train)"
   ]
  },
  {
   "cell_type": "code",
   "execution_count": 58,
   "id": "875b6a63-9baa-44e4-b1ad-9e24df8d0d20",
   "metadata": {},
   "outputs": [
    {
     "name": "stdout",
     "output_type": "stream",
     "text": [
      " Training score is 0.6560139453805927\n",
      " Test score is 0.6695702671312428\n"
     ]
    }
   ],
   "source": [
    "print(f' Training score is {gs_logr_tf.score(X_train, y_train)}')\n",
    "print(f' Test score is {gs_logr_tf.score(X_test, y_test)}')"
   ]
  },
  {
   "cell_type": "code",
   "execution_count": 67,
   "id": "4a661a09-e7c8-456d-bdef-4e6427a565cf",
   "metadata": {},
   "outputs": [
    {
     "data": {
      "text/plain": [
       "<Figure size 1500x1500 with 0 Axes>"
      ]
     },
     "metadata": {},
     "output_type": "display_data"
    },
    {
     "data": {
      "image/png": "[encoded data removed]",
      "text/plain": [
       "<Figure size 640x480 with 2 Axes>"
      ]
     },
     "metadata": {},
     "output_type": "display_data"
    }
   ],
   "source": [
    "plt.figure(figsize=(15,15))\n",
    "logr_tf_matrix = ConfusionMatrixDisplay.from_estimator(gs_logr_tf, X_test, y_test)\n",
    "logr_tf_matrix.ax_.set_title(\"Logistic regression TFIDF Confusion Matrix\")\n",
    "plt.tight_layout()\n",
    "plt.savefig('../Figures/confusion_matrix/Logistic_tfidf_confusion_matrix')"
   ]
  },
  {
   "cell_type": "code",
   "execution_count": 60,
   "id": "65ba01c6-7acd-473d-b3ad-1fc6b60ccf51",
   "metadata": {},
   "outputs": [],
   "source": [
    "preds_logr_tf = gs_logr_tf.predict(X_test)"
   ]
  },
  {
   "cell_type": "code",
   "execution_count": 61,
   "id": "44554823-f3f2-4fac-89f7-c0152bb7c72d",
   "metadata": {},
   "outputs": [
    {
     "name": "stdout",
     "output_type": "stream",
     "text": [
      "Recall Score: 0.6687484907393793\n",
      "F1 score: 0.6665828431814587\n",
      "precision score: 0.6743854698757556\n",
      "accuracy score: 0.6695702671312428\n"
     ]
    }
   ],
   "source": [
    "scores(y_test, preds_logr_tf)"
   ]
  },
  {
   "cell_type": "markdown",
   "id": "82424a3c-5802-46d6-bf5b-95eed4526117",
   "metadata": {},
   "source": [
    "Again we notice a slight improvement in predicting Askwomen, but that is only because it is making more Askwomen predictions. Overall these models are performing with the same accuracy. Any modifications only results in a slightly higher true positive for one subreddit, but again that was only due to the model making more predictions for that sub reddit."
   ]
  },
  {
   "cell_type": "markdown",
   "id": "ef6897ea-741d-412d-9b66-ebc0e9811eb9",
   "metadata": {},
   "source": [
    "# Conclusion"
   ]
  },
  {
   "cell_type": "markdown",
   "id": "f4984c70-fa74-4923-be00-9c08e5348ca9",
   "metadata": {},
   "source": [
    "Here we built 2 models using 2 different transformers. We used the models logistic regression and random forest with the transformers Countvectorizer and TFIDF transformers. In out findings we found consistent recall scores within the 60% ranges. Our models were pretty consistent with our classifications and changing the model or transformer had marginal differences in the models performance. \n",
    "\n",
    "Even with modifying the n_gram ranges of our transformers, the best parameter seemed to be 1 to 2 word grams. According to our EDA process, the most popular topics within these subreddits are too common so there will be some misclassification. Our model only does slightly better than our baseline score of 50% Askwomen and 49% Askmen. Because of the small difference in performance these models are not usable for research purposes. These subreddits may be too similar and we are unable to get more accuracy at this time."
   ]
  },
  {
   "cell_type": "markdown",
   "id": "1a91241e-c3c5-45f2-8ab4-46ab0ad1f3bc",
   "metadata": {},
   "source": [
    "# Recommendations"
   ]
  },
  {
   "cell_type": "markdown",
   "id": "7d446f06-62c6-4090-aefc-4013745285c4",
   "metadata": {},
   "source": [
    "With our current models we cannot accurately predict which subreddit a post belongs too. For future revisions, one thing we can do is removed the top common words used in each subreddits to better differentiate them.\n",
    "\n",
    "We can also experiment with a model that does not include removed posts, this can potentially be more representative of the respective subreddits since more people interact with these threads. Additionally, we can focus on the thread and the comments instead of starting with categorizing the thread title only. Perhaps by seeing how users interact with a post we can get a better understand of identifiable interactions.\n",
    "\n",
    "Another use of our data set is we can build is a model to automatically identify post that should be removed. Because about 60% of our initial data was been removed we can use that as training data to build a model. We can do this by identifying what key terms in removed titles, and hopefully predict the probability of being classified as a removed post. This can either be shared with each subreddit's moderation team or with reddit's trust and safety team to better assist their community moderators."
   ]
  },
  {
   "cell_type": "markdown",
   "id": "05283267-ccb5-458d-88c5-d382c1e0b595",
   "metadata": {},
   "source": [
    "# Limitations"
   ]
  },
  {
   "cell_type": "markdown",
   "id": "3281c425-099f-4e6b-9d57-f190584d8bac",
   "metadata": {},
   "source": [
    "1) Too many removed post, almost half of our post were removed, so those post were potentially not representative of the subreddit.\n",
    "\n",
    "2) The subreddits were too similar, when looking at the distribution of some of the features we fond most of them to have similar distributions.\n",
    "\n",
    "3) The subreddits are question based, so there is little room for distinguishing features.\n"
   ]
  }
 ],
 "metadata": {
  "kernelspec": {
   "display_name": "Python [conda env:root] *",
   "language": "python",
   "name": "conda-root-py"
  },
  "language_info": {
   "codemirror_mode": {
    "name": "ipython",
    "version": 3
   },
   "file_extension": ".py",
   "mimetype": "text/x-python",
   "name": "python",
   "nbconvert_exporter": "python",
   "pygments_lexer": "ipython3",
   "version": "3.9.13"
  }
 },
 "nbformat": 4,
 "nbformat_minor": 5
}
