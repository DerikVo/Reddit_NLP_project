{
 "cells": [
  {
   "cell_type": "code",
   "execution_count": 23,
   "id": "401a9ff0-dfb5-40d7-8336-2ba06e2986f3",
   "metadata": {},
   "outputs": [],
   "source": [
    "import pandas as pd\n",
    "import numpy as np\n",
    "from sklearn.ensemble import RandomForestClassifier\n",
    "from sklearn.model_selection import GridSearchCV, train_test_split, cross_val_score\n",
    "from sklearn.feature_extraction.text import CountVectorizer\n",
    "from sklearn.pipeline import Pipeline\n",
    "from sklearn.metrics import ConfusionMatrixDisplay, confusion_matrix, recall_score\n",
    "import pickle"
   ]
  },
  {
   "cell_type": "code",
   "execution_count": 3,
   "id": "f3aec7db-8065-4740-b689-c46059629664",
   "metadata": {},
   "outputs": [],
   "source": [
    "df = pd.read_csv('../Data/02_sub_reddit_data_clean.csv')"
   ]
  },
  {
   "cell_type": "code",
   "execution_count": 4,
   "id": "5a55ea87-81ad-4948-b135-aa184f9c5c53",
   "metadata": {},
   "outputs": [
    {
     "data": {
      "text/html": [
       "<div>\n",
       "<style scoped>\n",
       "    .dataframe tbody tr th:only-of-type {\n",
       "        vertical-align: middle;\n",
       "    }\n",
       "\n",
       "    .dataframe tbody tr th {\n",
       "        vertical-align: top;\n",
       "    }\n",
       "\n",
       "    .dataframe thead th {\n",
       "        text-align: right;\n",
       "    }\n",
       "</style>\n",
       "<table border=\"1\" class=\"dataframe\">\n",
       "  <thead>\n",
       "    <tr style=\"text-align: right;\">\n",
       "      <th></th>\n",
       "      <th>id</th>\n",
       "      <th>subreddit</th>\n",
       "      <th>title</th>\n",
       "      <th>utc_datetime_str</th>\n",
       "      <th>num_comments</th>\n",
       "      <th>day_name</th>\n",
       "      <th>title_word_count</th>\n",
       "      <th>negative_score</th>\n",
       "      <th>neutral_score</th>\n",
       "      <th>positive_score</th>\n",
       "      <th>compound_score</th>\n",
       "    </tr>\n",
       "  </thead>\n",
       "  <tbody>\n",
       "    <tr>\n",
       "      <th>0</th>\n",
       "      <td>12xzq7k</td>\n",
       "      <td>AskMen</td>\n",
       "      <td>Men who had an affair, left their wife, and no...</td>\n",
       "      <td>2023-04-24 22:57:05</td>\n",
       "      <td>1</td>\n",
       "      <td>Monday</td>\n",
       "      <td>12</td>\n",
       "      <td>0.203</td>\n",
       "      <td>0.797</td>\n",
       "      <td>0.0</td>\n",
       "      <td>-0.4215</td>\n",
       "    </tr>\n",
       "    <tr>\n",
       "      <th>1</th>\n",
       "      <td>12xzptl</td>\n",
       "      <td>AskMen</td>\n",
       "      <td>Men, what would your thoughts be after learnin...</td>\n",
       "      <td>2023-04-24 22:56:41</td>\n",
       "      <td>0</td>\n",
       "      <td>Monday</td>\n",
       "      <td>12</td>\n",
       "      <td>0.000</td>\n",
       "      <td>1.000</td>\n",
       "      <td>0.0</td>\n",
       "      <td>0.0000</td>\n",
       "    </tr>\n",
       "  </tbody>\n",
       "</table>\n",
       "</div>"
      ],
      "text/plain": [
       "        id subreddit                                              title  \\\n",
       "0  12xzq7k    AskMen  Men who had an affair, left their wife, and no...   \n",
       "1  12xzptl    AskMen  Men, what would your thoughts be after learnin...   \n",
       "\n",
       "      utc_datetime_str  num_comments day_name  title_word_count  \\\n",
       "0  2023-04-24 22:57:05             1   Monday                12   \n",
       "1  2023-04-24 22:56:41             0   Monday                12   \n",
       "\n",
       "   negative_score  neutral_score  positive_score  compound_score  \n",
       "0           0.203          0.797             0.0         -0.4215  \n",
       "1           0.000          1.000             0.0          0.0000  "
      ]
     },
     "execution_count": 4,
     "metadata": {},
     "output_type": "execute_result"
    }
   ],
   "source": [
    "df.head(2)"
   ]
  },
  {
   "cell_type": "code",
   "execution_count": 5,
   "id": "3d4972eb-1825-4ec0-8644-782cdf754375",
   "metadata": {},
   "outputs": [],
   "source": [
    "X=df['title']\n",
    "y=df['subreddit']"
   ]
  },
  {
   "cell_type": "code",
   "execution_count": 7,
   "id": "80312904-3775-474e-ad2d-0abc6c751c11",
   "metadata": {},
   "outputs": [
    {
     "data": {
      "text/plain": [
       "AskWomen    0.505497\n",
       "AskMen      0.494503\n",
       "Name: subreddit, dtype: float64"
      ]
     },
     "execution_count": 7,
     "metadata": {},
     "output_type": "execute_result"
    }
   ],
   "source": [
    "baseline = y.value_counts(normalize=True)\n",
    "baseline"
   ]
  },
  {
   "cell_type": "code",
   "execution_count": 6,
   "id": "142135bf-0a39-4765-8b18-2dbf37bb834e",
   "metadata": {},
   "outputs": [],
   "source": [
    "X_train, X_test, y_train, y_test = train_test_split(X, y, random_state=123, test_size=.25, stratify=y)"
   ]
  },
  {
   "cell_type": "markdown",
   "id": "f68215af-7f15-4622-8902-655abbe973ea",
   "metadata": {},
   "source": [
    "# Random forest"
   ]
  },
  {
   "cell_type": "code",
   "execution_count": 9,
   "id": "5d825bb8-feab-414e-8991-ecd5aac64027",
   "metadata": {},
   "outputs": [],
   "source": [
    "pipe = Pipeline([\n",
    "    ('cvec', CountVectorizer())\n",
    "    ,('rt', RandomForestClassifier())\n",
    "])"
   ]
  },
  {
   "cell_type": "code",
   "execution_count": 10,
   "id": "9f112117-645d-42c5-94e2-8eadd1657427",
   "metadata": {},
   "outputs": [
    {
     "data": {
      "text/plain": [
       "0.6875"
      ]
     },
     "execution_count": 10,
     "metadata": {},
     "output_type": "execute_result"
    }
   ],
   "source": [
    "cross_val_score(pipe, X_train, y_train, cv=3).mean()"
   ]
  },
  {
   "cell_type": "code",
   "execution_count": 11,
   "id": "28991153-9507-4c86-95b9-ef8fe4f954a4",
   "metadata": {},
   "outputs": [
    {
     "data": {
      "text/plain": [
       "Pipeline(steps=[('cvec', CountVectorizer()), ('rt', RandomForestClassifier())])"
      ]
     },
     "execution_count": 11,
     "metadata": {},
     "output_type": "execute_result"
    }
   ],
   "source": [
    "pipe.fit(X_train, y_train)"
   ]
  },
  {
   "cell_type": "code",
   "execution_count": 14,
   "id": "44f730af-6808-4810-af33-71a913e2d374",
   "metadata": {},
   "outputs": [
    {
     "name": "stdout",
     "output_type": "stream",
     "text": [
      " Training score is 0.9945987654320988\n",
      " Test score is 0.6977640709329221\n"
     ]
    }
   ],
   "source": [
    "print(f' Training score is {pipe.score(X_train, y_train)}')\n",
    "print(f' Test score is {pipe.score(X_test, y_test)}')"
   ]
  },
  {
   "cell_type": "code",
   "execution_count": 55,
   "id": "201d55fd-ff1b-442d-aaed-8953c9be1a3c",
   "metadata": {},
   "outputs": [],
   "source": [
    "pipe_params = {\n",
    "    'cvec__lowercase': [True],\n",
    "    'cvec__max_features': [30, 50, 75.],\n",
    "    'cvec__min_df': [2, 3, 9],\n",
    "    'cvec__max_df': [0.80, 0.90],\n",
    "    'cvec__ngram_range': [(1, 1), (2,2), (3,3)],\n",
    "    'cvec__stop_words' : ['english', None],\n",
    "    'rt__min_samples_leaf': [3, 5, 6],\n",
    "    'rt__max_depth': [10, 15, 20],\n",
    "    'rt__bootstrap': [True]\n",
    "    \n",
    "}"
   ]
  },
  {
   "cell_type": "code",
   "execution_count": 56,
   "id": "13eda33d-f187-4e1a-9c12-3357a8ec05c2",
   "metadata": {},
   "outputs": [],
   "source": [
    "gs = GridSearchCV(pipe,\n",
    "                 param_grid=pipe_params,\n",
    "                 cv=5, n_jobs = -1)"
   ]
  },
  {
   "cell_type": "code",
   "execution_count": null,
   "id": "a95fb4f4-00f0-4ad7-99df-f5b2d9a5eb9f",
   "metadata": {},
   "outputs": [],
   "source": [
    "gs.fit(X_train, y_train)"
   ]
  },
  {
   "cell_type": "code",
   "execution_count": 65,
   "id": "53925e0e-7c9d-49cd-bf29-0d6c3eb359ed",
   "metadata": {},
   "outputs": [
    {
     "data": {
      "text/plain": [
       "{'cvec__lowercase': True,\n",
       " 'cvec__max_df': 0.9,\n",
       " 'cvec__max_features': 30,\n",
       " 'cvec__min_df': 2,\n",
       " 'cvec__ngram_range': (1, 1),\n",
       " 'cvec__stop_words': None,\n",
       " 'rt__bootstrap': True,\n",
       " 'rt__max_depth': 15,\n",
       " 'rt__min_samples_leaf': 6}"
      ]
     },
     "metadata": {},
     "output_type": "display_data"
    }
   ],
   "source": [
    "display(gs.best_params_)"
   ]
  },
  {
   "cell_type": "markdown",
   "id": "eeb8e402-51e9-4bda-a90c-c2b1e9fdcb47",
   "metadata": {},
   "source": [
    "Best parmas for a countvector and random forest\n",
    "\n",
    "|Param|setting|\n",
    "|-----|-----|\n",
    "|cvec__max_df| .9|\n",
    "|cvec__max_features| 30|\n",
    "|cvec__min_df| 2|\n",
    "|cvec__ngram_range| (1, 1)|\n",
    "|cvec__stop_words| None|\n",
    "|rt__bootstrap| True|\n",
    "|rt__max_depth| 15|\n",
    "|rt__min_samples_leaf| 6|"
   ]
  },
  {
   "cell_type": "code",
   "execution_count": 66,
   "id": "81332f57-b149-42a1-b70d-3127f817c46a",
   "metadata": {},
   "outputs": [
    {
     "data": {
      "text/plain": [
       "0.7379115226337448"
      ]
     },
     "execution_count": 66,
     "metadata": {},
     "output_type": "execute_result"
    }
   ],
   "source": [
    "gs.score(X_train, y_train)"
   ]
  },
  {
   "cell_type": "code",
   "execution_count": 67,
   "id": "6f27e8e6-36b0-4a49-9bef-feb7ecc7d88c",
   "metadata": {},
   "outputs": [
    {
     "data": {
      "text/plain": [
       "0.6638396299151889"
      ]
     },
     "execution_count": 67,
     "metadata": {},
     "output_type": "execute_result"
    }
   ],
   "source": [
    "gs.score(X_test, y_test)"
   ]
  },
  {
   "cell_type": "code",
   "execution_count": 70,
   "id": "4e1a14db-d825-4842-b055-37c2d879e7b3",
   "metadata": {},
   "outputs": [],
   "source": [
    "preds = gs.predict(X_test)"
   ]
  },
  {
   "cell_type": "code",
   "execution_count": 71,
   "id": "9f4ba4d0-2266-4439-ae29-b8e3645cb89a",
   "metadata": {},
   "outputs": [
    {
     "data": {
      "text/plain": [
       "<sklearn.metrics._plot.confusion_matrix.ConfusionMatrixDisplay at 0x24c932d68b0>"
      ]
     },
     "execution_count": 71,
     "metadata": {},
     "output_type": "execute_result"
    },
    {
     "data": {
      "image/png": "[encoded data removed]",
      "text/plain": [
       "<Figure size 640x480 with 2 Axes>"
      ]
     },
     "metadata": {},
     "output_type": "display_data"
    }
   ],
   "source": [
    "ConfusionMatrixDisplay.from_estimator(gs, X_test, y_test)"
   ]
  },
  {
   "cell_type": "code",
   "execution_count": 74,
   "id": "f3e37425-173b-4515-91d7-7e22077655c9",
   "metadata": {},
   "outputs": [
    {
     "data": {
      "text/plain": [
       "0.662135906167954"
      ]
     },
     "execution_count": 74,
     "metadata": {},
     "output_type": "execute_result"
    }
   ],
   "source": [
    "recall_score(y_test, preds, average='macro')"
   ]
  },
  {
   "cell_type": "code",
   "execution_count": 68,
   "id": "676fda58-ad95-4c2e-a3a5-7c7e49cdbfa2",
   "metadata": {},
   "outputs": [],
   "source": [
    "rf_model_1 = gs"
   ]
  },
  {
   "cell_type": "code",
   "execution_count": 69,
   "id": "ff740f7b-c410-4a15-8ade-f0d0d2ac9b72",
   "metadata": {},
   "outputs": [],
   "source": [
    "with open('../Models/model_pickel1.pkl', 'wb') as pickle_out:\n",
    "    pickle_out = pickle.dump(rf_model_1, pickle_out)"
   ]
  },
  {
   "cell_type": "markdown",
   "id": "6fca2d00-e816-4157-bb90-914efa512b57",
   "metadata": {},
   "source": [
    "This model does better than baseline, but is slightly overfit. It also misclassifies 36% of the predictions for Askwomen and 27% of the predictions for Askmen. With a recall score of 66% this model is not sufficient for production."
   ]
  },
  {
   "cell_type": "code",
   "execution_count": null,
   "id": "a8562de5-ee5b-485f-8d26-51797026c3be",
   "metadata": {},
   "outputs": [],
   "source": []
  }
 ],
 "metadata": {
  "kernelspec": {
   "display_name": "Python [conda env:root] *",
   "language": "python",
   "name": "conda-root-py"
  },
  "language_info": {
   "codemirror_mode": {
    "name": "ipython",
    "version": 3
   },
   "file_extension": ".py",
   "mimetype": "text/x-python",
   "name": "python",
   "nbconvert_exporter": "python",
   "pygments_lexer": "ipython3",
   "version": "3.9.13"
  }
 },
 "nbformat": 4,
 "nbformat_minor": 5
}
