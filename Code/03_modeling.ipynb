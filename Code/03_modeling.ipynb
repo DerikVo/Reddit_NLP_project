{
 "cells": [
  {
   "cell_type": "code",
   "execution_count": 61,
   "id": "401a9ff0-dfb5-40d7-8336-2ba06e2986f3",
   "metadata": {},
   "outputs": [],
   "source": [
    "import pandas as pd\n",
    "import numpy as np\n",
    "import matplotlib.pyplot as plt \n",
    "from sklearn.linear_model import LogisticRegression\n",
    "from sklearn.ensemble import RandomForestClassifier, AdaBoostClassifier, GradientBoostingClassifier\n",
    "from sklearn.model_selection import GridSearchCV, train_test_split, cross_val_score\n",
    "from sklearn.feature_extraction.text import CountVectorizer\n",
    "from sklearn.pipeline import Pipeline\n",
    "from sklearn.metrics import ConfusionMatrixDisplay, confusion_matrix, recall_score\n",
    "import pickle"
   ]
  },
  {
   "cell_type": "code",
   "execution_count": 62,
   "id": "f3aec7db-8065-4740-b689-c46059629664",
   "metadata": {},
   "outputs": [],
   "source": [
    "df = pd.read_csv('../Data/02_sub_reddit_data_clean.csv')"
   ]
  },
  {
   "cell_type": "code",
   "execution_count": 63,
   "id": "5a55ea87-81ad-4948-b135-aa184f9c5c53",
   "metadata": {},
   "outputs": [
    {
     "data": {
      "text/html": [
       "<div>\n",
       "<style scoped>\n",
       "    .dataframe tbody tr th:only-of-type {\n",
       "        vertical-align: middle;\n",
       "    }\n",
       "\n",
       "    .dataframe tbody tr th {\n",
       "        vertical-align: top;\n",
       "    }\n",
       "\n",
       "    .dataframe thead th {\n",
       "        text-align: right;\n",
       "    }\n",
       "</style>\n",
       "<table border=\"1\" class=\"dataframe\">\n",
       "  <thead>\n",
       "    <tr style=\"text-align: right;\">\n",
       "      <th></th>\n",
       "      <th>id</th>\n",
       "      <th>subreddit</th>\n",
       "      <th>title</th>\n",
       "      <th>utc_datetime_str</th>\n",
       "      <th>num_comments</th>\n",
       "      <th>day_name</th>\n",
       "      <th>title_word_count</th>\n",
       "      <th>negative_score</th>\n",
       "      <th>neutral_score</th>\n",
       "      <th>positive_score</th>\n",
       "      <th>compound_score</th>\n",
       "    </tr>\n",
       "  </thead>\n",
       "  <tbody>\n",
       "    <tr>\n",
       "      <th>0</th>\n",
       "      <td>12xzq7k</td>\n",
       "      <td>AskMen</td>\n",
       "      <td>Men who had an affair, left their wife, and no...</td>\n",
       "      <td>2023-04-24 22:57:05</td>\n",
       "      <td>1</td>\n",
       "      <td>Monday</td>\n",
       "      <td>12</td>\n",
       "      <td>0.203</td>\n",
       "      <td>0.797</td>\n",
       "      <td>0.0</td>\n",
       "      <td>-0.4215</td>\n",
       "    </tr>\n",
       "    <tr>\n",
       "      <th>1</th>\n",
       "      <td>12xzptl</td>\n",
       "      <td>AskMen</td>\n",
       "      <td>Men, what would your thoughts be after learnin...</td>\n",
       "      <td>2023-04-24 22:56:41</td>\n",
       "      <td>0</td>\n",
       "      <td>Monday</td>\n",
       "      <td>12</td>\n",
       "      <td>0.000</td>\n",
       "      <td>1.000</td>\n",
       "      <td>0.0</td>\n",
       "      <td>0.0000</td>\n",
       "    </tr>\n",
       "  </tbody>\n",
       "</table>\n",
       "</div>"
      ],
      "text/plain": [
       "        id subreddit                                              title  \\\n",
       "0  12xzq7k    AskMen  Men who had an affair, left their wife, and no...   \n",
       "1  12xzptl    AskMen  Men, what would your thoughts be after learnin...   \n",
       "\n",
       "      utc_datetime_str  num_comments day_name  title_word_count  \\\n",
       "0  2023-04-24 22:57:05             1   Monday                12   \n",
       "1  2023-04-24 22:56:41             0   Monday                12   \n",
       "\n",
       "   negative_score  neutral_score  positive_score  compound_score  \n",
       "0           0.203          0.797             0.0         -0.4215  \n",
       "1           0.000          1.000             0.0          0.0000  "
      ]
     },
     "execution_count": 63,
     "metadata": {},
     "output_type": "execute_result"
    }
   ],
   "source": [
    "df.head(2)"
   ]
  },
  {
   "cell_type": "code",
   "execution_count": 64,
   "id": "3d4972eb-1825-4ec0-8644-782cdf754375",
   "metadata": {},
   "outputs": [],
   "source": [
    "X=df['title']\n",
    "y=df['subreddit']"
   ]
  },
  {
   "cell_type": "code",
   "execution_count": 65,
   "id": "80312904-3775-474e-ad2d-0abc6c751c11",
   "metadata": {},
   "outputs": [
    {
     "data": {
      "text/plain": [
       "AskWomen    0.505497\n",
       "AskMen      0.494503\n",
       "Name: subreddit, dtype: float64"
      ]
     },
     "execution_count": 65,
     "metadata": {},
     "output_type": "execute_result"
    }
   ],
   "source": [
    "baseline = y.value_counts(normalize=True)\n",
    "baseline"
   ]
  },
  {
   "cell_type": "code",
   "execution_count": 66,
   "id": "142135bf-0a39-4765-8b18-2dbf37bb834e",
   "metadata": {},
   "outputs": [],
   "source": [
    "X_train, X_test, y_train, y_test = train_test_split(X, y, random_state=123, test_size=.25, stratify=y)"
   ]
  },
  {
   "cell_type": "markdown",
   "id": "f68215af-7f15-4622-8902-655abbe973ea",
   "metadata": {
    "tags": []
   },
   "source": [
    "# Random forest with CountVectorizer"
   ]
  },
  {
   "cell_type": "code",
   "execution_count": 67,
   "id": "5d825bb8-feab-414e-8991-ecd5aac64027",
   "metadata": {},
   "outputs": [],
   "source": [
    "pipe_rf = Pipeline([\n",
    "    ('cvec', CountVectorizer())\n",
    "    ,('rt', RandomForestClassifier())\n",
    "])"
   ]
  },
  {
   "cell_type": "code",
   "execution_count": 68,
   "id": "9f112117-645d-42c5-94e2-8eadd1657427",
   "metadata": {},
   "outputs": [
    {
     "data": {
      "text/plain": [
       "0.6934156378600823"
      ]
     },
     "execution_count": 68,
     "metadata": {},
     "output_type": "execute_result"
    }
   ],
   "source": [
    "cross_val_score(pipe_rf, X_train, y_train, cv=3).mean()"
   ]
  },
  {
   "cell_type": "code",
   "execution_count": 69,
   "id": "28991153-9507-4c86-95b9-ef8fe4f954a4",
   "metadata": {},
   "outputs": [
    {
     "data": {
      "text/plain": [
       "Pipeline(steps=[('cvec', CountVectorizer()), ('rt', RandomForestClassifier())])"
      ]
     },
     "execution_count": 69,
     "metadata": {},
     "output_type": "execute_result"
    }
   ],
   "source": [
    "pipe_rf.fit(X_train, y_train)"
   ]
  },
  {
   "cell_type": "code",
   "execution_count": 70,
   "id": "44f730af-6808-4810-af33-71a913e2d374",
   "metadata": {},
   "outputs": [
    {
     "name": "stdout",
     "output_type": "stream",
     "text": [
      " Training score is 0.9945987654320988\n",
      " Test score is 0.694680030840401\n"
     ]
    }
   ],
   "source": [
    "print(f' Training score is {pipe_rf.score(X_train, y_train)}')\n",
    "print(f' Test score is {pipe_rf.score(X_test, y_test)}')"
   ]
  },
  {
   "cell_type": "code",
   "execution_count": 71,
   "id": "201d55fd-ff1b-442d-aaed-8953c9be1a3c",
   "metadata": {},
   "outputs": [],
   "source": [
    "pipe_rf_params = {\n",
    "    'cvec__lowercase': [True],\n",
    "    'cvec__max_features': [30, 50, 75.],\n",
    "    'cvec__min_df': [2, 3, 9],\n",
    "    'cvec__max_df': [0.80, 0.90],\n",
    "    'cvec__ngram_range': [(1, 2), (2,3), (3,4)],\n",
    "    'cvec__stop_words' : ['english', None],\n",
    "    'rt__min_samples_leaf': [3, 5, 6],\n",
    "    'rt__max_depth': [10, 15, 20],\n",
    "    'rt__bootstrap': [True]\n",
    "    \n",
    "}"
   ]
  },
  {
   "cell_type": "code",
   "execution_count": 72,
   "id": "13eda33d-f187-4e1a-9c12-3357a8ec05c2",
   "metadata": {},
   "outputs": [],
   "source": [
    "gs_rf = GridSearchCV(pipe_rf,\n",
    "                 param_grid=pipe_rf_params,\n",
    "                 cv=5, n_jobs = -1)"
   ]
  },
  {
   "cell_type": "code",
   "execution_count": null,
   "id": "a95fb4f4-00f0-4ad7-99df-f5b2d9a5eb9f",
   "metadata": {},
   "outputs": [],
   "source": [
    "gs_rf.fit(X_train, y_train)"
   ]
  },
  {
   "cell_type": "code",
   "execution_count": 74,
   "id": "53925e0e-7c9d-49cd-bf29-0d6c3eb359ed",
   "metadata": {},
   "outputs": [
    {
     "data": {
      "text/plain": [
       "{'cvec__lowercase': True,\n",
       " 'cvec__max_df': 0.9,\n",
       " 'cvec__max_features': 30,\n",
       " 'cvec__min_df': 9,\n",
       " 'cvec__ngram_range': (1, 2),\n",
       " 'cvec__stop_words': None,\n",
       " 'rt__bootstrap': True,\n",
       " 'rt__max_depth': 15,\n",
       " 'rt__min_samples_leaf': 5}"
      ]
     },
     "metadata": {},
     "output_type": "display_data"
    }
   ],
   "source": [
    "display(gs_rf.best_params_)"
   ]
  },
  {
   "cell_type": "markdown",
   "id": "eeb8e402-51e9-4bda-a90c-c2b1e9fdcb47",
   "metadata": {},
   "source": [
    "Best parmas for a countvector and random forest\n",
    "\n",
    "|Param|setting|\n",
    "|-----|-----|\n",
    "|cvec_lowercase|True|\n",
    "|cvec__max_df| .9|\n",
    "|cvec__max_features| 30|\n",
    "|cvec__min_df| 9|\n",
    "|cvec__ngram_range| (1, 2)|\n",
    "|cvec__stop_words| None|\n",
    "|rt__bootstrap| True|\n",
    "|rt__max_depth| 15|\n",
    "|rt__min_samples_leaf| 5|"
   ]
  },
  {
   "cell_type": "code",
   "execution_count": 115,
   "id": "bad01cf1-e218-4a01-a3a1-4b2a32d5a7ef",
   "metadata": {},
   "outputs": [
    {
     "name": "stdout",
     "output_type": "stream",
     "text": [
      " Training score is 0.7361111111111112\n",
      " Test score is 0.6630686198920586\n"
     ]
    }
   ],
   "source": [
    "print(f' Training score is {gs_rf.score(X_train, y_train)}')\n",
    "print(f' Test score is {gs_rf.score(X_test, y_test)}')"
   ]
  },
  {
   "cell_type": "code",
   "execution_count": 75,
   "id": "81332f57-b149-42a1-b70d-3127f817c46a",
   "metadata": {},
   "outputs": [
    {
     "data": {
      "text/plain": [
       "0.7361111111111112"
      ]
     },
     "execution_count": 75,
     "metadata": {},
     "output_type": "execute_result"
    }
   ],
   "source": [
    "gs_rf.score(X_train, y_train)"
   ]
  },
  {
   "cell_type": "code",
   "execution_count": 76,
   "id": "6f27e8e6-36b0-4a49-9bef-feb7ecc7d88c",
   "metadata": {},
   "outputs": [
    {
     "data": {
      "text/plain": [
       "0.6630686198920586"
      ]
     },
     "execution_count": 76,
     "metadata": {},
     "output_type": "execute_result"
    }
   ],
   "source": [
    "gs_rf.score(X_test, y_test)"
   ]
  },
  {
   "cell_type": "code",
   "execution_count": 77,
   "id": "4e1a14db-d825-4842-b055-37c2d879e7b3",
   "metadata": {},
   "outputs": [],
   "source": [
    "preds_rf = gs_rf.predict(X_test)"
   ]
  },
  {
   "cell_type": "code",
   "execution_count": 139,
   "id": "9f4ba4d0-2266-4439-ae29-b8e3645cb89a",
   "metadata": {},
   "outputs": [
    {
     "data": {
      "image/png": "[encoded data removed]",
      "text/plain": [
       "<Figure size 640x480 with 2 Axes>"
      ]
     },
     "metadata": {},
     "output_type": "display_data"
    }
   ],
   "source": [
    "rf_matrix = ConfusionMatrixDisplay.from_estimator(gs_rf, X_test, y_test)\n",
    "rf_matrix.ax_.set_title(\"Random Forest CountVector Confusion Matrix\")\n",
    "plt.savefig('../Figures/confusion_matrix/rf_cvec_confusion_matrix')"
   ]
  },
  {
   "cell_type": "code",
   "execution_count": 79,
   "id": "f3e37425-173b-4515-91d7-7e22077655c9",
   "metadata": {},
   "outputs": [
    {
     "data": {
      "text/plain": [
       "0.6613023667288155"
      ]
     },
     "execution_count": 79,
     "metadata": {},
     "output_type": "execute_result"
    }
   ],
   "source": [
    "recall_score(y_test, preds_rf, average='macro')"
   ]
  },
  {
   "cell_type": "code",
   "execution_count": 80,
   "id": "676fda58-ad95-4c2e-a3a5-7c7e49cdbfa2",
   "metadata": {},
   "outputs": [],
   "source": [
    "rf_model_1 = gs"
   ]
  },
  {
   "cell_type": "code",
   "execution_count": 81,
   "id": "ff740f7b-c410-4a15-8ade-f0d0d2ac9b72",
   "metadata": {},
   "outputs": [],
   "source": [
    "with open('../.Models/model_pickel1.pkl', 'wb') as pickle_out:\n",
    "    pickle_out = pickle.dump(rf_model_1, pickle_out)"
   ]
  },
  {
   "cell_type": "markdown",
   "id": "6fca2d00-e816-4157-bb90-914efa512b57",
   "metadata": {},
   "source": [
    "This model does better than baseline, but is slightly overfit. It also misclassifies 36% of the predictions for Askwomen and 27% of the predictions for Askmen. With a recall score of 66% this model is not sufficient for production."
   ]
  },
  {
   "cell_type": "markdown",
   "id": "e2a50289-53b2-467b-8246-0fe29184fa94",
   "metadata": {},
   "source": [
    "# Logistic regresion with countvectorizor"
   ]
  },
  {
   "cell_type": "code",
   "execution_count": 82,
   "id": "ee3477d9-8d6c-42fb-94ad-1c668636b07b",
   "metadata": {},
   "outputs": [],
   "source": [
    "pipe_logr = Pipeline([\n",
    "    ('cvec', CountVectorizer())\n",
    "    ,('logr', LogisticRegression())\n",
    "])"
   ]
  },
  {
   "cell_type": "code",
   "execution_count": null,
   "id": "b932ed07-8f91-4928-a72e-6b598927edff",
   "metadata": {},
   "outputs": [],
   "source": [
    "pipe_logr.fit(X_train, y_train)"
   ]
  },
  {
   "cell_type": "code",
   "execution_count": 84,
   "id": "e8d68eb1-5041-45cc-9436-527ccfad702e",
   "metadata": {},
   "outputs": [
    {
     "data": {
      "text/plain": [
       "0.9012345679012346"
      ]
     },
     "execution_count": 84,
     "metadata": {},
     "output_type": "execute_result"
    }
   ],
   "source": [
    "pipe_logr.score(X_train, y_train)"
   ]
  },
  {
   "cell_type": "code",
   "execution_count": 85,
   "id": "5c849516-79d6-4fea-9faf-b4cbe3895210",
   "metadata": {},
   "outputs": [
    {
     "data": {
      "text/plain": [
       "0.6908249807247494"
      ]
     },
     "execution_count": 85,
     "metadata": {},
     "output_type": "execute_result"
    }
   ],
   "source": [
    "pipe_logr.score(X_test, y_test)"
   ]
  },
  {
   "cell_type": "code",
   "execution_count": 86,
   "id": "efc92a00-b075-4ebe-b56f-9119c009c5eb",
   "metadata": {},
   "outputs": [],
   "source": [
    "pipe_logr_params = {\n",
    "    'cvec__lowercase': [True],\n",
    "    'cvec__max_features': [30, 50, 75.],\n",
    "    'cvec__min_df': [2, 3, 9],\n",
    "    'cvec__max_df': [0.80, 0.90],\n",
    "    'cvec__ngram_range': [(1, 2), (2,3), (3,4)],\n",
    "    'cvec__stop_words' : ['english', None],\n",
    "    'logr__C':[.25, .5, .75, 1]\n",
    "}"
   ]
  },
  {
   "cell_type": "code",
   "execution_count": 87,
   "id": "42ff40c1-19ac-43c2-8243-f784aff467e9",
   "metadata": {},
   "outputs": [],
   "source": [
    "gs_logr = GridSearchCV(pipe_logr, param_grid=pipe_logr_params, cv=3,n_jobs=-1)"
   ]
  },
  {
   "cell_type": "code",
   "execution_count": null,
   "id": "e2bdb964-2bf0-4d05-8ff2-a2f112bae54e",
   "metadata": {},
   "outputs": [],
   "source": [
    "gs_logr.fit(X_train,y_train)"
   ]
  },
  {
   "cell_type": "code",
   "execution_count": 89,
   "id": "52dbf0a1-9cad-4eca-b6e7-ef9815fcb3ec",
   "metadata": {},
   "outputs": [
    {
     "data": {
      "text/plain": [
       "{'cvec__lowercase': True,\n",
       " 'cvec__max_df': 0.8,\n",
       " 'cvec__max_features': 50,\n",
       " 'cvec__min_df': 2,\n",
       " 'cvec__ngram_range': (1, 2),\n",
       " 'cvec__stop_words': None,\n",
       " 'logr__C': 0.25}"
      ]
     },
     "metadata": {},
     "output_type": "display_data"
    }
   ],
   "source": [
    "display(gs_logr.best_params_)"
   ]
  },
  {
   "cell_type": "markdown",
   "id": "0ccb5b02-a091-41fb-85d8-7bff3bbafc10",
   "metadata": {},
   "source": [
    "Best parmas for a countvector and logistic regression\n",
    "\n",
    "|Param|setting|\n",
    "|-----|-----|\n",
    "|cvec__lowercase|True|\n",
    "|cvec__max_df| .8|\n",
    "|cvec__max_features| 50|\n",
    "|cvec__min_df| 2|\n",
    "|cvec__ngram_range| (1, 2)|\n",
    "|cvec__stop_words| None|\n",
    "|logr_C| .25|\n"
   ]
  },
  {
   "cell_type": "code",
   "execution_count": 90,
   "id": "faf2a4e0-7970-4e71-97b0-3e3046241109",
   "metadata": {},
   "outputs": [
    {
     "data": {
      "text/plain": [
       "0.6664094650205762"
      ]
     },
     "execution_count": 90,
     "metadata": {},
     "output_type": "execute_result"
    }
   ],
   "source": [
    "gs_logr.score(X_train, y_train)"
   ]
  },
  {
   "cell_type": "code",
   "execution_count": 91,
   "id": "137cb0d6-a779-48c6-a88a-fb45f4e30d01",
   "metadata": {},
   "outputs": [
    {
     "data": {
      "text/plain": [
       "0.6530454895913647"
      ]
     },
     "execution_count": 91,
     "metadata": {},
     "output_type": "execute_result"
    }
   ],
   "source": [
    "gs_logr.score(X_test,y_test)"
   ]
  },
  {
   "cell_type": "markdown",
   "id": "bf5678ba-5ba6-4eb1-b4a4-304994aac864",
   "metadata": {},
   "source": [
    "After adding the penality term, the logistic regression was much less fit. The performance is similar to our random forest which was overfit, so this model may be better. We will have to see its recall score to compare."
   ]
  },
  {
   "cell_type": "code",
   "execution_count": 92,
   "id": "eef802e7-06a1-4ba0-98f6-d1cd5b1b7a86",
   "metadata": {},
   "outputs": [],
   "source": [
    "preds_logr = gs_logr.predict(X_test)"
   ]
  },
  {
   "cell_type": "code",
   "execution_count": 137,
   "id": "f9bd7dea-afca-4bf2-a542-9777aff00f25",
   "metadata": {},
   "outputs": [
    {
     "data": {
      "image/png": "[encoded data removed]",
      "text/plain": [
       "<Figure size 640x480 with 2 Axes>"
      ]
     },
     "metadata": {},
     "output_type": "display_data"
    }
   ],
   "source": [
    "log_matrix = ConfusionMatrixDisplay.from_estimator(gs_logr, X_test, y_test)\n",
    "log_matrix.ax_.set_title(\"Logistic Regression Counvector Confusion Matrix\")\n",
    "plt.savefig('../Figures/confusion_matrix/logr_cvec_confusion_matrix')"
   ]
  },
  {
   "cell_type": "code",
   "execution_count": 98,
   "id": "e45fac9e-e594-454f-9f5c-8b21a996ce02",
   "metadata": {},
   "outputs": [
    {
     "data": {
      "text/plain": [
       "0.652303470187588"
      ]
     },
     "execution_count": 98,
     "metadata": {},
     "output_type": "execute_result"
    }
   ],
   "source": [
    "recall_score(y_test, preds_logr, average='macro')"
   ]
  },
  {
   "cell_type": "markdown",
   "id": "73f6eadc-abe7-49e5-9374-f03b2e54d5e4",
   "metadata": {},
   "source": [
    "Here we notice a 1% differences in our recall score, which is not much of an improvement. Next we will see if using the TF-IDF Vectorizer will improve performance. In theory it should perform better because its comparing the title (document) to the whole subreddit (corpus)."
   ]
  },
  {
   "cell_type": "markdown",
   "id": "c90b05ce-a888-4a03-ab76-ec9f7a4f7aad",
   "metadata": {},
   "source": [
    "# Random forest with TF-IDF Vectorizer "
   ]
  },
  {
   "cell_type": "code",
   "execution_count": 99,
   "id": "d24d4a5f-65ae-41f6-8205-aec07a53ca6b",
   "metadata": {},
   "outputs": [],
   "source": [
    "pipe_rf_tf = Pipeline([\n",
    "    ('tf',TfidfVectorizer())\n",
    "    ,('rt', RandomForestClassifier())\n",
    "])"
   ]
  },
  {
   "cell_type": "code",
   "execution_count": 101,
   "id": "c4d4aaed-0686-490d-aaf6-f16bb2c0a213",
   "metadata": {},
   "outputs": [
    {
     "data": {
      "text/plain": [
       "0.684156378600823"
      ]
     },
     "execution_count": 101,
     "metadata": {},
     "output_type": "execute_result"
    }
   ],
   "source": [
    "cross_val_score(pipe_rf_tf, X_train, y_train, cv=3).mean()"
   ]
  },
  {
   "cell_type": "code",
   "execution_count": 102,
   "id": "982f3cba-8982-4944-ab93-ee12e2553b63",
   "metadata": {},
   "outputs": [
    {
     "data": {
      "text/plain": [
       "Pipeline(steps=[('tf', TfidfVectorizer()), ('rt', RandomForestClassifier())])"
      ]
     },
     "execution_count": 102,
     "metadata": {},
     "output_type": "execute_result"
    }
   ],
   "source": [
    "pipe_rf_tf.fit(X_train, y_train)"
   ]
  },
  {
   "cell_type": "code",
   "execution_count": 103,
   "id": "b7dff258-910e-4d4d-ade9-9dd52b4ebda1",
   "metadata": {},
   "outputs": [
    {
     "name": "stdout",
     "output_type": "stream",
     "text": [
      " Training score is 0.9945987654320988\n",
      " Test score is 0.694680030840401\n"
     ]
    }
   ],
   "source": [
    "print(f' Training score is {pipe_rf_tf.score(X_train, y_train)}')\n",
    "print(f' Test score is {pipe_rf_tf.score(X_test, y_test)}')"
   ]
  },
  {
   "cell_type": "code",
   "execution_count": 106,
   "id": "d18d67c5-a8ce-417d-b408-5998d600b388",
   "metadata": {},
   "outputs": [],
   "source": [
    "pipe_rf_tf_params = {\n",
    "    'tf__lowercase': [True],\n",
    "    'tf__max_features': [30, 50, 75.],\n",
    "    'tf__min_df': [2, 3, 9],\n",
    "    'tf__max_df': [0.80, 0.90],\n",
    "    'tf__ngram_range': [(1, 2), (2,3), (3,4)],\n",
    "    'tf__stop_words' : ['english', None],\n",
    "    'rt__min_samples_leaf': [3, 5, 6],\n",
    "    'rt__max_depth': [10, 15, 20],\n",
    "    'rt__bootstrap': [True]\n",
    "    \n",
    "}"
   ]
  },
  {
   "cell_type": "code",
   "execution_count": 107,
   "id": "f9ff7f3c-4359-4eca-9fff-77501c9fd62a",
   "metadata": {},
   "outputs": [],
   "source": [
    "gs_rf_tf = GridSearchCV(pipe_rf_tf, param_grid=pipe_rf_tf_params, cv=3, n_jobs=-1)"
   ]
  },
  {
   "cell_type": "code",
   "execution_count": null,
   "id": "19baf6cc-64d6-4d4a-b9a3-3df2c94b9fd1",
   "metadata": {},
   "outputs": [],
   "source": [
    "gs_rf_tf.fit(X_train, y_train)"
   ]
  },
  {
   "cell_type": "code",
   "execution_count": 123,
   "id": "2ff900d0-49d2-489c-9b28-9de3d0699705",
   "metadata": {},
   "outputs": [
    {
     "data": {
      "text/plain": [
       "{'rt__bootstrap': True,\n",
       " 'rt__max_depth': 20,\n",
       " 'rt__min_samples_leaf': 6,\n",
       " 'tf__lowercase': True,\n",
       " 'tf__max_df': 0.8,\n",
       " 'tf__max_features': 50,\n",
       " 'tf__min_df': 3,\n",
       " 'tf__ngram_range': (1, 2),\n",
       " 'tf__stop_words': None}"
      ]
     },
     "execution_count": 123,
     "metadata": {},
     "output_type": "execute_result"
    }
   ],
   "source": [
    "gs_rf_tf.best_params_"
   ]
  },
  {
   "cell_type": "markdown",
   "id": "cf31df7f-33b6-4ce7-8378-926aa9687be7",
   "metadata": {},
   "source": [
    "Best parmas for a TFID and random forest\n",
    "\n",
    "|Param|setting|\n",
    "|-----|-----|\n",
    "|tf__max_df| .8|\n",
    "|tf__max_features| 50|\n",
    "|tf__min_df| 3|\n",
    "|tf__ngram_range| (1, 2)|\n",
    "|tf__stop_words| None|\n",
    "|rt__bootstrap| True|\n",
    "|rt__max_depth| 20|\n",
    "|rt__min_samples_leaf| 6|"
   ]
  },
  {
   "cell_type": "code",
   "execution_count": 124,
   "id": "375558f7-a488-4e36-9336-16960706c502",
   "metadata": {},
   "outputs": [
    {
     "name": "stdout",
     "output_type": "stream",
     "text": [
      " Training score is 0.7973251028806584\n",
      " Test score is 0.6638396299151889\n"
     ]
    }
   ],
   "source": [
    "print(f' Training score is {gs_rf_tf.score(X_train, y_train)}')\n",
    "print(f' Test score is {gs_rf_tf.score(X_test, y_test)}')"
   ]
  },
  {
   "cell_type": "markdown",
   "id": "13449678-de65-4690-96a7-6308ab550af4",
   "metadata": {},
   "source": [
    "It appears the model did not improve much with the classification rate after incorporating the TFIDF. We will see if it has a recall score to when we used the countvectorizer"
   ]
  },
  {
   "cell_type": "code",
   "execution_count": 134,
   "id": "169b9628-9a34-4407-85ee-3f3ccbb609b5",
   "metadata": {},
   "outputs": [],
   "source": [
    "preds_rf_tf = gs_rf_tf.predict(X_test)"
   ]
  },
  {
   "cell_type": "code",
   "execution_count": 138,
   "id": "275a066c-7141-45fd-911e-fc664de8baa1",
   "metadata": {},
   "outputs": [
    {
     "data": {
      "image/png": "[encoded data removed]",
      "text/plain": [
       "<Figure size 640x480 with 2 Axes>"
      ]
     },
     "metadata": {},
     "output_type": "display_data"
    }
   ],
   "source": [
    "rf_tf_matrix = ConfusionMatrixDisplay.from_estimator(gs_rf_tf, X_test, y_test)\n",
    "rf_tf_matrix.ax_.set_title(\"Random forest TFIDF Confusion Matrix\")\n",
    "plt.savefig('../Figures/confusion_matrix/Random_forest_tfidf_confusion_matrix')"
   ]
  },
  {
   "cell_type": "code",
   "execution_count": 136,
   "id": "9d9bcdf6-c81d-4723-a2dc-6676ae01ba78",
   "metadata": {},
   "outputs": [
    {
     "data": {
      "text/plain": [
       "0.6621894144058446"
      ]
     },
     "execution_count": 136,
     "metadata": {},
     "output_type": "execute_result"
    }
   ],
   "source": [
    "recall_score(y_test, preds_rf_tf, average='macro')"
   ]
  },
  {
   "cell_type": "markdown",
   "id": "7e88aa35-d190-49e8-84f8-8418fc6bc1e7",
   "metadata": {},
   "source": [
    "Her we see a similar recall score (.662~) comapred to our random forest and counvectorizer (.661). Theres not much of an improvment here, but we will see if theres any improvement with our logistical regression."
   ]
  },
  {
   "cell_type": "markdown",
   "id": "e852304a-ba69-4daa-bc5b-613dfe6acad7",
   "metadata": {},
   "source": [
    "# Logistic regression with TF-IDF Vectorizer "
   ]
  },
  {
   "cell_type": "code",
   "execution_count": 147,
   "id": "b043a5e4-75f7-4e38-8f38-ea3628687cce",
   "metadata": {},
   "outputs": [],
   "source": [
    "pipe_logr_tf = Pipeline([\n",
    "    ('tf', TfidfVectorizer())\n",
    "    ,('logr', LogisticRegression())\n",
    "])"
   ]
  },
  {
   "cell_type": "code",
   "execution_count": 148,
   "id": "108b702d-08ba-4476-9e48-954e17322841",
   "metadata": {},
   "outputs": [],
   "source": [
    "pipe_logr_tf_params = {\n",
    "    'tf__lowercase': [True],\n",
    "    'tf__max_features': [30, 50, 75.],\n",
    "    'tf__min_df': [2, 3, 9],\n",
    "    'tf__max_df': [0.80, 0.90],\n",
    "    'tf__ngram_range': [(1, 2), (2,3), (3,4)],\n",
    "    'tf__stop_words' : ['english', None],\n",
    "    'logr__C':[.25, .5, .75, 1]\n",
    "}"
   ]
  },
  {
   "cell_type": "code",
   "execution_count": 149,
   "id": "8e84789c-9f04-45be-aced-a453ab8553c0",
   "metadata": {},
   "outputs": [
    {
     "data": {
      "text/plain": [
       "0.6612654320987655"
      ]
     },
     "execution_count": 149,
     "metadata": {},
     "output_type": "execute_result"
    }
   ],
   "source": [
    "cross_val_score(pipe_logr_tf, X_train, y_train, cv=3).mean()"
   ]
  },
  {
   "cell_type": "code",
   "execution_count": 151,
   "id": "b2726f53-5d59-4a22-8a70-78002bb3c86b",
   "metadata": {},
   "outputs": [],
   "source": [
    "gs_logr_tf = GridSearchCV(pipe_logr_tf, param_grid=pipe_logr_tf_params, cv=3, n_jobs=-1)"
   ]
  },
  {
   "cell_type": "code",
   "execution_count": 152,
   "id": "1b9e6ed8-445f-488b-be9b-8336f7891e32",
   "metadata": {},
   "outputs": [
    {
     "data": {
      "text/plain": [
       "Pipeline(steps=[('tf', TfidfVectorizer()), ('logr', LogisticRegression())])"
      ]
     },
     "execution_count": 152,
     "metadata": {},
     "output_type": "execute_result"
    }
   ],
   "source": [
    "pipe_logr_tf.fit(X_train, y_train)"
   ]
  },
  {
   "cell_type": "code",
   "execution_count": 153,
   "id": "0135f70d-a9b7-4ee6-abac-8af69361b9c0",
   "metadata": {},
   "outputs": [
    {
     "name": "stdout",
     "output_type": "stream",
     "text": [
      " Training score is 0.8359053497942387\n",
      " Test score is 0.6861989205859677\n"
     ]
    }
   ],
   "source": [
    "print(f' Training score is {pipe_logr_tf.score(X_train, y_train)}')\n",
    "print(f' Test score is {pipe_logr_tf.score(X_test, y_test)}')"
   ]
  },
  {
   "cell_type": "code",
   "execution_count": null,
   "id": "a14c6cd5-77cb-48b8-b801-eda9d03e84f4",
   "metadata": {},
   "outputs": [],
   "source": [
    "gs_logr_tf.fit(X_train, y_train)"
   ]
  },
  {
   "cell_type": "code",
   "execution_count": 157,
   "id": "875b6a63-9baa-44e4-b1ad-9e24df8d0d20",
   "metadata": {},
   "outputs": [
    {
     "name": "stdout",
     "output_type": "stream",
     "text": [
      " Training score is 0.665380658436214\n",
      " Test score is 0.6291441788743254\n"
     ]
    }
   ],
   "source": [
    "print(f' Training score is {gs_logr_tf.score(X_train, y_train)}')\n",
    "print(f' Test score is {gs_logr_tf.score(X_test, y_test)}')"
   ]
  },
  {
   "cell_type": "code",
   "execution_count": 158,
   "id": "4a661a09-e7c8-456d-bdef-4e6427a565cf",
   "metadata": {},
   "outputs": [
    {
     "data": {
      "image/png": "[encoded data removed]",
      "text/plain": [
       "<Figure size 640x480 with 2 Axes>"
      ]
     },
     "metadata": {},
     "output_type": "display_data"
    }
   ],
   "source": [
    "logr_tf_matrix = ConfusionMatrixDisplay.from_estimator(gs_logr_tf, X_test, y_test)\n",
    "logr_tf_matrix.ax_.set_title(\"Logistic regression TFIDF Confusion Matrix\")\n",
    "plt.savefig('../Figures/confusion_matrix/Logistic_tfidf_confusion_matrix')"
   ]
  },
  {
   "cell_type": "code",
   "execution_count": 160,
   "id": "65ba01c6-7acd-473d-b3ad-1fc6b60ccf51",
   "metadata": {},
   "outputs": [],
   "source": [
    "preds_logr_tf = gs_logr_tf.predict(X_test)"
   ]
  },
  {
   "cell_type": "code",
   "execution_count": 161,
   "id": "44554823-f3f2-4fac-89f7-c0152bb7c72d",
   "metadata": {},
   "outputs": [
    {
     "data": {
      "text/plain": [
       "0.6275160762528063"
      ]
     },
     "execution_count": 161,
     "metadata": {},
     "output_type": "execute_result"
    }
   ],
   "source": [
    "recall_score(y_test, preds_logr_tf, average='macro')"
   ]
  },
  {
   "cell_type": "code",
   "execution_count": null,
   "id": "f8c06a71-2bce-4aaa-a2a7-cbaa2c4d1a7d",
   "metadata": {},
   "outputs": [],
   "source": []
  }
 ],
 "metadata": {
  "kernelspec": {
   "display_name": "Python [conda env:root] *",
   "language": "python",
   "name": "conda-root-py"
  },
  "language_info": {
   "codemirror_mode": {
    "name": "ipython",
    "version": 3
   },
   "file_extension": ".py",
   "mimetype": "text/x-python",
   "name": "python",
   "nbconvert_exporter": "python",
   "pygments_lexer": "ipython3",
   "version": "3.9.13"
  }
 },
 "nbformat": 4,
 "nbformat_minor": 5
}
